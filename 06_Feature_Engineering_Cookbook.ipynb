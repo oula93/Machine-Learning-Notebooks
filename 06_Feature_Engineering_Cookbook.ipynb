{
 "cells": [
  {
   "cell_type": "markdown",
   "id": "fd15df6b",
   "metadata": {},
   "source": [
    "### Python Feature Engineering Cookbook\n",
    "Soledad Galli\n",
    "\n",
    "### Feature Engineering for Machine Learning\n",
    "Alice Zheng & Amanda Casari"
   ]
  },
  {
   "cell_type": "markdown",
   "id": "2a9665d3",
   "metadata": {},
   "source": [
    "<b>[1.Distributions](#1)<br></b>\n",
    "    1.1 Identify a Normal Distribution<br>\n",
    "    1.2 Finding & Removing Outliers<br>\n",
    "    \n",
    "<b>[2. Replacing Missing Values](#2)<br></b>\n",
    "    2.1 Random numbers from the sample<br>\n",
    "    2.2 Adding a missing value indicator colmn<br>\n",
    "    2.3 Performing multivariate imputation by chained equations<br>\n",
    "    \n",
    "<b>[3. Encoding Categorical Variables](#3)<br></b>\n",
    "    3.1 One Hot Encoding<br>\n",
    "    3.2 OneHotEncoding of Frequent Categories<br>\n",
    "    3.3 Replacing Categories with Ordinal Numbers<br>\n",
    "    3.4 Replacing Categories with Counts/Frequency of Observations<br>\n",
    "    3.5 Encoding with Integers in an Ordered Manner<br>\n",
    "    3.6 Mean Encoding<br>\n",
    "    3.7 Encoding with the Weight of Evidence (WoE)<br>\n",
    "    3.8 Grouping Rare or Infrequent Categories<br>\n",
    "    3.9 Feature Hashing<br>\n",
    "\n",
    "<b>[4. Transforming Numerical Variables](#4)<br></b>\n",
    "\n",
    "<b>[5. Feature Discretization](#5)<br></b>\n",
    "    5.1 Binning with Equal Width Intervals<br>\n",
    "    5.2 Binning with Equal Frequency Intervals<br>\n",
    "    5.5 Binning with k-means Clustering<br>\n",
    "    5.6 Binning with Decision Trees<br>\n",
    "\n",
    "<b>[6. Outliers ](#6)<br></b>\n",
    "    6.1 Trimming Outliers<br>\n",
    "    6.2 Winsorization<br>\n",
    "    6.3 Capping the variable at arbitrary maximum and minimum values<br>\n",
    "\n",
    "<b>[7. Feature Scaling](#7)<br></b>\n",
    "    7.1 Standarizing<br>\n",
    "    7.2 Mean Normalization<br>\n",
    "    7.3 Scaling to the Maximum and Minimum Values<br>\n",
    "    7.4 Maximum Absolute Scaling<br>\n",
    "    7.5 Scaling with the Median and Quantiles<br>\n",
    "    \n",
    "<b>[8. Applying Mathematical Computations to Features](#8)<br></b>\n",
    "    8.1. Combining multiple features with statistical operations<br>\n",
    "    8.3 Feature Generation with Decision Trees (linear)<br>\n",
    "    8.4 Principal Component Analysis (linear)<br>\n",
    "    8.5 Non-linear Feature Generation with k-means<br>\n",
    "\n",
    "<b>[9. Feature Generation with Transactional and Time Series Data](#9)<br></b>\n",
    "    9.1 Aggregating Transactions in a Time Window (Moving Average)<br>\n",
    "    9.2 Determining the Number of Local Maxima and Minima<br>\n",
    "    9.3 Deriving Time Elapsed between Time-Stamped Events<br>\n",
    "    9.4 Deriving Features from Date and Time Variables<br>"
   ]
  },
  {
   "cell_type": "code",
   "execution_count": 1,
   "id": "ec2ecdde",
   "metadata": {},
   "outputs": [],
   "source": [
    "import numpy as np\n",
    "import pandas as pd\n",
    "import seaborn as sns\n",
    "import scipy.stats as stats\n",
    "import matplotlib.pyplot as plt"
   ]
  },
  {
   "cell_type": "code",
   "execution_count": 31,
   "id": "1b1648b7",
   "metadata": {},
   "outputs": [],
   "source": [
    "import scipy"
   ]
  },
  {
   "cell_type": "code",
   "execution_count": 2,
   "id": "7c4c1b42",
   "metadata": {},
   "outputs": [],
   "source": [
    "from sklearn.model_selection import train_test_split\n",
    "from sklearn.linear_model import BayesianRidge"
   ]
  },
  {
   "cell_type": "code",
   "execution_count": 3,
   "id": "27672e66",
   "metadata": {},
   "outputs": [],
   "source": [
    "from sklearn.datasets import load_boston\n",
    "from sklearn.preprocessing import FunctionTransformer"
   ]
  },
  {
   "cell_type": "code",
   "execution_count": 4,
   "id": "d9377aac",
   "metadata": {},
   "outputs": [],
   "source": [
    "def get_first_cabin(row):\n",
    "    try:\n",
    "        return row.split()[0]\n",
    "    except:\n",
    "        return np.nan\n",
    "url = \"https://www.openml.org/data/get_csv/16826755/phpMYEkMl\"\n",
    "data = pd.read_csv(url)\n",
    "data = data.replace('?', np.nan)\n",
    "data['cabin'] = data['cabin'].apply(get_first_cabin)\n",
    "data.to_csv('titanic.csv', index=False)"
   ]
  },
  {
   "cell_type": "markdown",
   "id": "98959770",
   "metadata": {},
   "source": [
    "## ========================================================================\n",
    "## <a id='1'> 1. Distributions</a>\n",
    "### 1.1 Identify a Normal Distribution"
   ]
  },
  {
   "cell_type": "code",
   "execution_count": 4,
   "id": "209f8824",
   "metadata": {},
   "outputs": [],
   "source": [
    "x = np.random.randn(100)\n",
    "df = pd.DataFrame(x)\n",
    "df.columns = ['x']"
   ]
  },
  {
   "cell_type": "code",
   "execution_count": 14,
   "id": "fa790f34",
   "metadata": {},
   "outputs": [
    {
     "data": {
      "image/png": "[encoded data removed]",
      "text/plain": [
       "<Figure size 432x288 with 1 Axes>"
      ]
     },
     "metadata": {
      "needs_background": "light"
     },
     "output_type": "display_data"
    }
   ],
   "source": [
    "#make a histogram and a density plot\n",
    "sns.histplot(df['x'],kde=True,bins=30);"
   ]
  },
  {
   "cell_type": "markdown",
   "id": "03a2cdeb",
   "metadata": {},
   "source": [
    "Create a Q-Q plot. When the variable is normally distributed, its values follow the theoratical quantiles and thus lie along the 45deg diagonal.<br>\n",
    "probplot Generates a probability plot of sample data against the quantiles of a\n",
    "specified theoretical distribution (norm)."
   ]
  },
  {
   "cell_type": "code",
   "execution_count": 26,
   "id": "97e46211",
   "metadata": {},
   "outputs": [
    {
     "data": {
      "image/png": "[encoded data removed]",
      "text/plain": [
       "<Figure size 432x288 with 1 Axes>"
      ]
     },
     "metadata": {
      "needs_background": "light"
     },
     "output_type": "display_data"
    }
   ],
   "source": [
    "stats.probplot(x=x,dist='norm',plot=plt)\n",
    "plt.show();"
   ]
  },
  {
   "cell_type": "markdown",
   "id": "4af630f9",
   "metadata": {},
   "source": [
    "### 1.2 Finding & Removing Outliers\n",
    "\n",
    "According to the inter-quantile-range IQR proximity rule, a value is an outlier if it falls outside these boundaries:\n",
    "\n",
    "Upper boundary = 75th quantile + (IQR * 1.5)<br>\n",
    "Lower boundary = 25th quantile - (IQR * 1.5)\n",
    "\n",
    "IQR = 75th quantile - 25th quantile\n"
   ]
  },
  {
   "cell_type": "code",
   "execution_count": 48,
   "id": "cdd7ff03",
   "metadata": {},
   "outputs": [],
   "source": [
    "df = pd.DataFrame([-1,0,1,3,4,5,7,-3,-9,1000],columns=['x'])\n",
    "\n",
    "iqr = df['x'].quantile(0.75) - df['x'].quantile(0.25)\n",
    "\n",
    "upper = df['x'].quantile(0.75) + 1.5*iqr\n",
    "lower = df['x'].quantile(0.25) - 1.5*iqr"
   ]
  },
  {
   "cell_type": "code",
   "execution_count": 80,
   "id": "54b7225a",
   "metadata": {},
   "outputs": [
    {
     "data": {
      "text/plain": [
       "0   -1\n",
       "1    0\n",
       "2    1\n",
       "3    3\n",
       "4    4\n",
       "5    5\n",
       "6    7\n",
       "7   -3\n",
       "8   -9\n",
       "Name: x, dtype: int64"
      ]
     },
     "execution_count": 80,
     "metadata": {},
     "output_type": "execute_result"
    }
   ],
   "source": [
    "#find the outlier indexes\n",
    "outliers = (df['x']<lower) | (df['x']>upper)\n",
    "\n",
    "#removing outliers\n",
    "df = df.loc[~outliers,'x']\n",
    "df"
   ]
  },
  {
   "cell_type": "markdown",
   "id": "24ee13e0",
   "metadata": {},
   "source": [
    "## ========================================================================\n",
    "## <a id=2> 2. Replacing Missing Values </a>\n",
    "- Mean (use training set parameters for the test set)\n",
    "- Median (use training set parameters for the test set)\n",
    "- Mode (use training set parameters for the test set)\n",
    "- Outlier (99, 999) (doesn't matter as long as 99 or 999 is also an outlier in the test set)\n",
    "- Random numbers from the sample (use training set to extract random values and use them to fillna both training & test sets)\n",
    "\n",
    "### 2.1 Random numbers from the sample"
   ]
  },
  {
   "cell_type": "code",
   "execution_count": 2,
   "id": "67171b84",
   "metadata": {},
   "outputs": [],
   "source": [
    "l = [1,2,5,np.nan,98,12,56,np.nan,10,64,82,87,np.nan]\n",
    "df = pd.DataFrame(l,columns=['A'])"
   ]
  },
  {
   "cell_type": "code",
   "execution_count": 111,
   "id": "9649b0f8",
   "metadata": {},
   "outputs": [
    {
     "data": {
      "text/plain": [
       "3"
      ]
     },
     "execution_count": 111,
     "metadata": {},
     "output_type": "execute_result"
    }
   ],
   "source": [
    "df['A'].isnull().sum()"
   ]
  },
  {
   "cell_type": "code",
   "execution_count": 108,
   "id": "fe1de7f3",
   "metadata": {},
   "outputs": [],
   "source": [
    "sample = df['A'].dropna().sample(3)\n",
    "#indexes of the sample have to be the same as indexes of nan to replace them\n",
    "sample.index = df[df['A'].isnull()].index\n",
    "\n",
    "#replace null\n",
    "df.loc[df['A'].isnull(),'A'] = sample"
   ]
  },
  {
   "cell_type": "markdown",
   "id": "de6f7af5",
   "metadata": {},
   "source": [
    "### 2.2 Adding a missing value indicator colmn\n",
    "It's a binary variable that specifies whether a value was missing for an\n",
    "observation (1) or not (0). It is common practice to replace missing observations by the mean, median, or mode while flagging those missing observations with a missing indicator, thus covering two angles: if the data was missing at random, this would be contemplated by the mean, median, or mode imputation, and if it wasn't, this would be captured by the missing indicator."
   ]
  },
  {
   "cell_type": "code",
   "execution_count": 55,
   "id": "8e73d767",
   "metadata": {},
   "outputs": [],
   "source": [
    "l = [1,2,5,np.nan,98,12,56,np.nan,10,64,82,87,np.nan]\n",
    "df = pd.DataFrame(l,columns=['A'])"
   ]
  },
  {
   "cell_type": "code",
   "execution_count": 56,
   "id": "89eb1561",
   "metadata": {},
   "outputs": [],
   "source": [
    "#Method1\n",
    "df['is_missing'] = df['A'].apply(lambda x: 1 if np.isnan(x) else 0)"
   ]
  },
  {
   "cell_type": "code",
   "execution_count": 57,
   "id": "712c8016",
   "metadata": {},
   "outputs": [],
   "source": [
    "#Method2\n",
    "df['is_missing2'] = np.where(df['A'].isnull(),1,0)"
   ]
  },
  {
   "cell_type": "code",
   "execution_count": 58,
   "id": "9334c675",
   "metadata": {},
   "outputs": [
    {
     "data": {
      "text/html": [
       "<div>\n",
       "<style scoped>\n",
       "    .dataframe tbody tr th:only-of-type {\n",
       "        vertical-align: middle;\n",
       "    }\n",
       "\n",
       "    .dataframe tbody tr th {\n",
       "        vertical-align: top;\n",
       "    }\n",
       "\n",
       "    .dataframe thead th {\n",
       "        text-align: right;\n",
       "    }\n",
       "</style>\n",
       "<table border=\"1\" class=\"dataframe\">\n",
       "  <thead>\n",
       "    <tr style=\"text-align: right;\">\n",
       "      <th></th>\n",
       "      <th>A</th>\n",
       "      <th>is_missing</th>\n",
       "      <th>is_missing2</th>\n",
       "    </tr>\n",
       "  </thead>\n",
       "  <tbody>\n",
       "    <tr>\n",
       "      <th>0</th>\n",
       "      <td>1.0</td>\n",
       "      <td>0</td>\n",
       "      <td>0</td>\n",
       "    </tr>\n",
       "    <tr>\n",
       "      <th>1</th>\n",
       "      <td>2.0</td>\n",
       "      <td>0</td>\n",
       "      <td>0</td>\n",
       "    </tr>\n",
       "    <tr>\n",
       "      <th>2</th>\n",
       "      <td>5.0</td>\n",
       "      <td>0</td>\n",
       "      <td>0</td>\n",
       "    </tr>\n",
       "    <tr>\n",
       "      <th>3</th>\n",
       "      <td>NaN</td>\n",
       "      <td>1</td>\n",
       "      <td>1</td>\n",
       "    </tr>\n",
       "    <tr>\n",
       "      <th>4</th>\n",
       "      <td>98.0</td>\n",
       "      <td>0</td>\n",
       "      <td>0</td>\n",
       "    </tr>\n",
       "    <tr>\n",
       "      <th>5</th>\n",
       "      <td>12.0</td>\n",
       "      <td>0</td>\n",
       "      <td>0</td>\n",
       "    </tr>\n",
       "    <tr>\n",
       "      <th>6</th>\n",
       "      <td>56.0</td>\n",
       "      <td>0</td>\n",
       "      <td>0</td>\n",
       "    </tr>\n",
       "    <tr>\n",
       "      <th>7</th>\n",
       "      <td>NaN</td>\n",
       "      <td>1</td>\n",
       "      <td>1</td>\n",
       "    </tr>\n",
       "    <tr>\n",
       "      <th>8</th>\n",
       "      <td>10.0</td>\n",
       "      <td>0</td>\n",
       "      <td>0</td>\n",
       "    </tr>\n",
       "    <tr>\n",
       "      <th>9</th>\n",
       "      <td>64.0</td>\n",
       "      <td>0</td>\n",
       "      <td>0</td>\n",
       "    </tr>\n",
       "    <tr>\n",
       "      <th>10</th>\n",
       "      <td>82.0</td>\n",
       "      <td>0</td>\n",
       "      <td>0</td>\n",
       "    </tr>\n",
       "    <tr>\n",
       "      <th>11</th>\n",
       "      <td>87.0</td>\n",
       "      <td>0</td>\n",
       "      <td>0</td>\n",
       "    </tr>\n",
       "    <tr>\n",
       "      <th>12</th>\n",
       "      <td>NaN</td>\n",
       "      <td>1</td>\n",
       "      <td>1</td>\n",
       "    </tr>\n",
       "  </tbody>\n",
       "</table>\n",
       "</div>"
      ],
      "text/plain": [
       "       A  is_missing  is_missing2\n",
       "0    1.0           0            0\n",
       "1    2.0           0            0\n",
       "2    5.0           0            0\n",
       "3    NaN           1            1\n",
       "4   98.0           0            0\n",
       "5   12.0           0            0\n",
       "6   56.0           0            0\n",
       "7    NaN           1            1\n",
       "8   10.0           0            0\n",
       "9   64.0           0            0\n",
       "10  82.0           0            0\n",
       "11  87.0           0            0\n",
       "12   NaN           1            1"
      ]
     },
     "execution_count": 58,
     "metadata": {},
     "output_type": "execute_result"
    }
   ],
   "source": [
    "df"
   ]
  },
  {
   "cell_type": "markdown",
   "id": "39530c87",
   "metadata": {},
   "source": [
    "### 2.3 Performing multivariate imputation by chained equations\n",
    "\n",
    "A strategy for replacing missing values (imputation) by estimating each feature from all the others.\n",
    "\n",
    "1. A simple imputation (ex: replacing with mean) is performed for every feature with missing data\n",
    "2. feature(i) is selected. And the missing values are set back to missing.\n",
    "3. We build a model to predict feature(i) based on the other features.\n",
    "4. The missing values for feature(i) are replaced with the new estimates.\n",
    "5. Repeat step 2 to 4 for all the remaining variables.\n",
    "6. Once all variables have been modeled based on the rest, a cycle of imputation is concluded. Typically we have 10 cycles.\n",
    "\n",
    "Using IterativeImputer() from scikit-learn, we can model variables using multiple algorithms, such as Bayes, k-nearest neighbors, decision trees, and random forests. "
   ]
  },
  {
   "cell_type": "code",
   "execution_count": null,
   "id": "fe4bccf5",
   "metadata": {},
   "outputs": [],
   "source": [
    "from sklearn.experimental import enable_iterative_imputer  # noqa\n",
    "from sklearn.impute import IterativeImputer"
   ]
  },
  {
   "cell_type": "code",
   "execution_count": 5,
   "id": "41bd8b5a",
   "metadata": {},
   "outputs": [],
   "source": [
    "variables = ['A2','A3','A8', 'A11', 'A14', 'A15', 'A16']\n",
    "data = pd.read_csv('creditApprovalUCI.csv', usecols=variables)"
   ]
  },
  {
   "cell_type": "code",
   "execution_count": 6,
   "id": "16f63537",
   "metadata": {},
   "outputs": [],
   "source": [
    "X_train, X_test, y_train, y_test = train_test_split(data.drop('A16', axis=1),data['A16' ], test_size=0.3,random_state=0)"
   ]
  },
  {
   "cell_type": "code",
   "execution_count": 12,
   "id": "28ae8978",
   "metadata": {},
   "outputs": [
    {
     "data": {
      "text/plain": [
       "IterativeImputer(estimator=BayesianRidge(), max_iter=0, random_state=0)"
      ]
     },
     "execution_count": 12,
     "metadata": {},
     "output_type": "execute_result"
    }
   ],
   "source": [
    "imputer = IterativeImputer(estimator=BayesianRidge(),max_iter=0,random_state=0)\n",
    "imputer.fit(X_train)"
   ]
  },
  {
   "cell_type": "code",
   "execution_count": 13,
   "id": "d66d2aa0",
   "metadata": {},
   "outputs": [],
   "source": [
    "X_train = imputer.transform(X_train)\n",
    "X_test = imputer.transform(X_test)"
   ]
  },
  {
   "attachments": {
    "image-2.png": {
     "image/png": "[encoded data removed]"
    }
   },
   "cell_type": "markdown",
   "id": "80ce5ec9",
   "metadata": {},
   "source": [
    "## ========================================================================\n",
    "## <a id=3> 3. Encoding Categorical Variables<a>\n",
    "\n",
    "1. One-Hot Encoding\n",
    "2. One-Hot Encoding of frequent categories\n",
    "3. Replacing categories with ordinal numbers\n",
    "4. Replacing categories with counts or frequency of observations\n",
    "5. Encoding with integers in an ordered manner\n",
    "6. Encoding with the mean of the target\n",
    "7. Encoding with the Weight of Evidence\n",
    "8. Grouping rare or infrequent categories\n",
    "9. Feature hashing \n",
    "10. Binary encoding (skip)\n",
    " \n",
    "Encoding methods which use the target can result in data leakage. One way to prevent that is by strict separation between target count/mean statistics and training. Use an earlier batch of data points for counting, use the current data points for training, and future data points for testing. This fixes the problem of leakage, but introduces delay a delay in the learning pipeline.\n",
    "\n",
    "![image-2.png](attachment:image-2.png)\n",
    "\n",
    "### 3.1 One Hot Encoding"
   ]
  },
  {
   "cell_type": "code",
   "execution_count": 120,
   "id": "ec291dfe",
   "metadata": {},
   "outputs": [],
   "source": [
    "df = pd.read_csv('creditApprovalUCI.csv')\n",
    "X_train, X_test, y_train, y_test = train_test_split(df.drop('A16', axis=1),data['A16' ], test_size=0.3,random_state=0)"
   ]
  },
  {
   "cell_type": "code",
   "execution_count": 22,
   "id": "9416db73",
   "metadata": {},
   "outputs": [
    {
     "data": {
      "text/html": [
       "<div>\n",
       "<style scoped>\n",
       "    .dataframe tbody tr th:only-of-type {\n",
       "        vertical-align: middle;\n",
       "    }\n",
       "\n",
       "    .dataframe tbody tr th {\n",
       "        vertical-align: top;\n",
       "    }\n",
       "\n",
       "    .dataframe thead th {\n",
       "        text-align: right;\n",
       "    }\n",
       "</style>\n",
       "<table border=\"1\" class=\"dataframe\">\n",
       "  <thead>\n",
       "    <tr style=\"text-align: right;\">\n",
       "      <th></th>\n",
       "      <th>A1</th>\n",
       "      <th>A2</th>\n",
       "      <th>A3</th>\n",
       "      <th>A4</th>\n",
       "      <th>A5</th>\n",
       "      <th>A6</th>\n",
       "      <th>A7</th>\n",
       "      <th>A8</th>\n",
       "      <th>A9</th>\n",
       "      <th>A10</th>\n",
       "      <th>A11</th>\n",
       "      <th>A12</th>\n",
       "      <th>A13</th>\n",
       "      <th>A14</th>\n",
       "      <th>A15</th>\n",
       "      <th>A16</th>\n",
       "    </tr>\n",
       "  </thead>\n",
       "  <tbody>\n",
       "    <tr>\n",
       "      <th>0</th>\n",
       "      <td>b</td>\n",
       "      <td>30.83</td>\n",
       "      <td>0.00</td>\n",
       "      <td>u</td>\n",
       "      <td>g</td>\n",
       "      <td>w</td>\n",
       "      <td>v</td>\n",
       "      <td>1.25</td>\n",
       "      <td>t</td>\n",
       "      <td>t</td>\n",
       "      <td>1</td>\n",
       "      <td>f</td>\n",
       "      <td>g</td>\n",
       "      <td>202.0</td>\n",
       "      <td>0</td>\n",
       "      <td>1</td>\n",
       "    </tr>\n",
       "    <tr>\n",
       "      <th>1</th>\n",
       "      <td>a</td>\n",
       "      <td>58.67</td>\n",
       "      <td>4.46</td>\n",
       "      <td>u</td>\n",
       "      <td>g</td>\n",
       "      <td>q</td>\n",
       "      <td>h</td>\n",
       "      <td>3.04</td>\n",
       "      <td>t</td>\n",
       "      <td>t</td>\n",
       "      <td>6</td>\n",
       "      <td>f</td>\n",
       "      <td>g</td>\n",
       "      <td>43.0</td>\n",
       "      <td>560</td>\n",
       "      <td>1</td>\n",
       "    </tr>\n",
       "  </tbody>\n",
       "</table>\n",
       "</div>"
      ],
      "text/plain": [
       "  A1     A2    A3 A4 A5 A6 A7    A8 A9 A10  A11 A12 A13    A14  A15  A16\n",
       "0  b  30.83  0.00  u  g  w  v  1.25  t   t    1   f   g  202.0    0    1\n",
       "1  a  58.67  4.46  u  g  q  h  3.04  t   t    6   f   g   43.0  560    1"
      ]
     },
     "execution_count": 22,
     "metadata": {},
     "output_type": "execute_result"
    }
   ],
   "source": [
    "df.head(2)"
   ]
  },
  {
   "cell_type": "code",
   "execution_count": 62,
   "id": "6dac9fb6",
   "metadata": {},
   "outputs": [],
   "source": [
    "#1/ OneHotEncoding using Pandas\n",
    "vars_categorical = ['A1', 'A4', 'A5', 'A6', 'A7', 'A9', 'A10','A12', 'A13']\n",
    "#to avoid the dummy variable trap, drop one of the variables\n",
    "X_train_enc = pd.get_dummies(X_train[vars_categorical],drop_first=True)\n",
    "X_test_enc = pd.get_dummies(X_test[vars_categorical],drop_first=True)"
   ]
  },
  {
   "cell_type": "code",
   "execution_count": 63,
   "id": "d625e8ad",
   "metadata": {},
   "outputs": [
    {
     "data": {
      "text/html": [
       "<div>\n",
       "<style scoped>\n",
       "    .dataframe tbody tr th:only-of-type {\n",
       "        vertical-align: middle;\n",
       "    }\n",
       "\n",
       "    .dataframe tbody tr th {\n",
       "        vertical-align: top;\n",
       "    }\n",
       "\n",
       "    .dataframe thead th {\n",
       "        text-align: right;\n",
       "    }\n",
       "</style>\n",
       "<table border=\"1\" class=\"dataframe\">\n",
       "  <thead>\n",
       "    <tr style=\"text-align: right;\">\n",
       "      <th></th>\n",
       "      <th>A1_b</th>\n",
       "      <th>A4_u</th>\n",
       "      <th>A4_y</th>\n",
       "      <th>A5_gg</th>\n",
       "      <th>A5_p</th>\n",
       "      <th>A6_c</th>\n",
       "      <th>A6_cc</th>\n",
       "      <th>A6_d</th>\n",
       "      <th>A6_e</th>\n",
       "      <th>A6_ff</th>\n",
       "      <th>...</th>\n",
       "      <th>A7_j</th>\n",
       "      <th>A7_n</th>\n",
       "      <th>A7_o</th>\n",
       "      <th>A7_v</th>\n",
       "      <th>A7_z</th>\n",
       "      <th>A9_t</th>\n",
       "      <th>A10_t</th>\n",
       "      <th>A12_t</th>\n",
       "      <th>A13_p</th>\n",
       "      <th>A13_s</th>\n",
       "    </tr>\n",
       "  </thead>\n",
       "  <tbody>\n",
       "    <tr>\n",
       "      <th>596</th>\n",
       "      <td>0</td>\n",
       "      <td>1</td>\n",
       "      <td>0</td>\n",
       "      <td>0</td>\n",
       "      <td>0</td>\n",
       "      <td>1</td>\n",
       "      <td>0</td>\n",
       "      <td>0</td>\n",
       "      <td>0</td>\n",
       "      <td>0</td>\n",
       "      <td>...</td>\n",
       "      <td>0</td>\n",
       "      <td>0</td>\n",
       "      <td>0</td>\n",
       "      <td>1</td>\n",
       "      <td>0</td>\n",
       "      <td>1</td>\n",
       "      <td>1</td>\n",
       "      <td>1</td>\n",
       "      <td>0</td>\n",
       "      <td>0</td>\n",
       "    </tr>\n",
       "    <tr>\n",
       "      <th>303</th>\n",
       "      <td>0</td>\n",
       "      <td>1</td>\n",
       "      <td>0</td>\n",
       "      <td>0</td>\n",
       "      <td>0</td>\n",
       "      <td>0</td>\n",
       "      <td>0</td>\n",
       "      <td>0</td>\n",
       "      <td>0</td>\n",
       "      <td>0</td>\n",
       "      <td>...</td>\n",
       "      <td>0</td>\n",
       "      <td>0</td>\n",
       "      <td>0</td>\n",
       "      <td>1</td>\n",
       "      <td>0</td>\n",
       "      <td>0</td>\n",
       "      <td>0</td>\n",
       "      <td>0</td>\n",
       "      <td>0</td>\n",
       "      <td>0</td>\n",
       "    </tr>\n",
       "  </tbody>\n",
       "</table>\n",
       "<p>2 rows × 31 columns</p>\n",
       "</div>"
      ],
      "text/plain": [
       "     A1_b  A4_u  A4_y  A5_gg  A5_p  A6_c  A6_cc  A6_d  A6_e  A6_ff  ...  A7_j  \\\n",
       "596     0     1     0      0     0     1      0     0     0      0  ...     0   \n",
       "303     0     1     0      0     0     0      0     0     0      0  ...     0   \n",
       "\n",
       "     A7_n  A7_o  A7_v  A7_z  A9_t  A10_t  A12_t  A13_p  A13_s  \n",
       "596     0     0     1     0     1      1      1      0      0  \n",
       "303     0     0     1     0     0      0      0      0      0  \n",
       "\n",
       "[2 rows x 31 columns]"
      ]
     },
     "execution_count": 63,
     "metadata": {},
     "output_type": "execute_result"
    }
   ],
   "source": [
    "X_train_enc.head(2)"
   ]
  },
  {
   "cell_type": "markdown",
   "id": "6928f9b3",
   "metadata": {},
   "source": [
    "The beauty of pandas' get_dummies() function is that it returns feature names that clearly indicate which variable and which category each feature represents. On the downside, get_dummies() does not persist the information learned from the train set to the test set.\n",
    "Contrarily, scikit-learn's OneHotEncoder() function can persist the information from the train set, but it returns a NumPy array, where the information about the meaning of the features is lost."
   ]
  },
  {
   "cell_type": "code",
   "execution_count": null,
   "id": "844ed9ca",
   "metadata": {},
   "outputs": [],
   "source": [
    "from sklearn.preprocessing import OneHotEncoder"
   ]
  },
  {
   "cell_type": "code",
   "execution_count": 64,
   "id": "2da8ea7e",
   "metadata": {},
   "outputs": [
    {
     "data": {
      "text/plain": [
       "OneHotEncoder(drop='first', sparse='False')"
      ]
     },
     "execution_count": 64,
     "metadata": {},
     "output_type": "execute_result"
    }
   ],
   "source": [
    "#2/ OneHotEncoding using scikit learn\n",
    "encoder = OneHotEncoder(categories='auto',drop='first',sparse='False',)\n",
    "encoder.fit(X_train[vars_categorical])"
   ]
  },
  {
   "cell_type": "code",
   "execution_count": 65,
   "id": "0ee32983",
   "metadata": {},
   "outputs": [],
   "source": [
    "X_train_enc = encoder.transform(X_train[vars_categorical])\n",
    "X_test_enc = encoder.transform(X_test[vars_categorical])"
   ]
  },
  {
   "cell_type": "code",
   "execution_count": 67,
   "id": "dc33f76c",
   "metadata": {},
   "outputs": [
    {
     "data": {
      "text/plain": [
       "(483, 38)"
      ]
     },
     "execution_count": 67,
     "metadata": {},
     "output_type": "execute_result"
    }
   ],
   "source": [
    "#Why do we get a different number of features than pandas?????\n",
    "X_train_enc.toarray().shape"
   ]
  },
  {
   "cell_type": "markdown",
   "id": "d0876c4d",
   "metadata": {},
   "source": [
    "### 3.2 OneHotEncoding of Frequent Categories\n",
    "One-hot encoding of highly cardinal variables or datasets with multiple categorical features can expand the feature space dramatically. To reduce the number of binary variables, we can perform one-hot encoding of the most frequent categories only. One-hot encoding of top categories is equivalent to treating the remaining, less frequent categories as a single, unique category.\n",
    "\n",
    "The most frequent categories need to be determined in the train set. As\n",
    "with any machine learning algorithm, this is to avoid overfitting and\n",
    "information leakage."
   ]
  },
  {
   "cell_type": "code",
   "execution_count": 84,
   "id": "c5b4bfb5",
   "metadata": {},
   "outputs": [
    {
     "data": {
      "text/plain": [
       "array(['c', 'q', 'w', 'ff', 'm', 'i', 'e', 'cc', 'x', 'd', 'k', 'j', nan,\n",
       "       'aa', 'r'], dtype=object)"
      ]
     },
     "execution_count": 84,
     "metadata": {},
     "output_type": "execute_result"
    }
   ],
   "source": [
    "X_train['A6'].unique()"
   ]
  },
  {
   "cell_type": "code",
   "execution_count": 87,
   "id": "c54c036b",
   "metadata": {},
   "outputs": [
    {
     "data": {
      "text/plain": [
       "c    93\n",
       "q    56\n",
       "w    48\n",
       "i    41\n",
       "k    38\n",
       "Name: A6, dtype: int64"
      ]
     },
     "execution_count": 87,
     "metadata": {},
     "output_type": "execute_result"
    }
   ],
   "source": [
    "X_train['A6'].value_counts().sort_values(ascending=False).head(5)"
   ]
  },
  {
   "cell_type": "code",
   "execution_count": 93,
   "id": "3bcb955b",
   "metadata": {},
   "outputs": [],
   "source": [
    "top_5 = X_train['A6'].value_counts().sort_values(ascending=False)[:5].index.values"
   ]
  },
  {
   "cell_type": "code",
   "execution_count": 96,
   "id": "7bfe147d",
   "metadata": {},
   "outputs": [],
   "source": [
    "#let's add a binary variable per top category in the train and test sets\n",
    "for category in top_5:\n",
    "    X_train['A6'+'_'+category] = np.where(X_train['A6'] == category,1,0)\n",
    "    X_test['A6'+'_'+category] = np.where(X_test['A6'] == category,1,0)"
   ]
  },
  {
   "cell_type": "code",
   "execution_count": 98,
   "id": "f0005b34",
   "metadata": {},
   "outputs": [
    {
     "data": {
      "text/html": [
       "<div>\n",
       "<style scoped>\n",
       "    .dataframe tbody tr th:only-of-type {\n",
       "        vertical-align: middle;\n",
       "    }\n",
       "\n",
       "    .dataframe tbody tr th {\n",
       "        vertical-align: top;\n",
       "    }\n",
       "\n",
       "    .dataframe thead th {\n",
       "        text-align: right;\n",
       "    }\n",
       "</style>\n",
       "<table border=\"1\" class=\"dataframe\">\n",
       "  <thead>\n",
       "    <tr style=\"text-align: right;\">\n",
       "      <th></th>\n",
       "      <th>A1</th>\n",
       "      <th>A2</th>\n",
       "      <th>A3</th>\n",
       "      <th>A4</th>\n",
       "      <th>A5</th>\n",
       "      <th>A6</th>\n",
       "      <th>A7</th>\n",
       "      <th>A8</th>\n",
       "      <th>A9</th>\n",
       "      <th>A10</th>\n",
       "      <th>A11</th>\n",
       "      <th>A12</th>\n",
       "      <th>A13</th>\n",
       "      <th>A14</th>\n",
       "      <th>A15</th>\n",
       "      <th>A6_c</th>\n",
       "      <th>A6_q</th>\n",
       "      <th>A6_w</th>\n",
       "      <th>A6_i</th>\n",
       "      <th>A6_k</th>\n",
       "    </tr>\n",
       "  </thead>\n",
       "  <tbody>\n",
       "    <tr>\n",
       "      <th>596</th>\n",
       "      <td>a</td>\n",
       "      <td>46.08</td>\n",
       "      <td>3.000</td>\n",
       "      <td>u</td>\n",
       "      <td>g</td>\n",
       "      <td>c</td>\n",
       "      <td>v</td>\n",
       "      <td>2.375</td>\n",
       "      <td>t</td>\n",
       "      <td>t</td>\n",
       "      <td>8</td>\n",
       "      <td>t</td>\n",
       "      <td>g</td>\n",
       "      <td>396.0</td>\n",
       "      <td>4159</td>\n",
       "      <td>1</td>\n",
       "      <td>0</td>\n",
       "      <td>0</td>\n",
       "      <td>0</td>\n",
       "      <td>0</td>\n",
       "    </tr>\n",
       "    <tr>\n",
       "      <th>303</th>\n",
       "      <td>a</td>\n",
       "      <td>15.92</td>\n",
       "      <td>2.875</td>\n",
       "      <td>u</td>\n",
       "      <td>g</td>\n",
       "      <td>q</td>\n",
       "      <td>v</td>\n",
       "      <td>0.085</td>\n",
       "      <td>f</td>\n",
       "      <td>f</td>\n",
       "      <td>0</td>\n",
       "      <td>f</td>\n",
       "      <td>g</td>\n",
       "      <td>120.0</td>\n",
       "      <td>0</td>\n",
       "      <td>0</td>\n",
       "      <td>1</td>\n",
       "      <td>0</td>\n",
       "      <td>0</td>\n",
       "      <td>0</td>\n",
       "    </tr>\n",
       "  </tbody>\n",
       "</table>\n",
       "</div>"
      ],
      "text/plain": [
       "    A1     A2     A3 A4 A5 A6 A7     A8 A9 A10  A11 A12 A13    A14   A15  \\\n",
       "596  a  46.08  3.000  u  g  c  v  2.375  t   t    8   t   g  396.0  4159   \n",
       "303  a  15.92  2.875  u  g  q  v  0.085  f   f    0   f   g  120.0     0   \n",
       "\n",
       "     A6_c  A6_q  A6_w  A6_i  A6_k  \n",
       "596     1     0     0     0     0  \n",
       "303     0     1     0     0     0  "
      ]
     },
     "execution_count": 98,
     "metadata": {},
     "output_type": "execute_result"
    }
   ],
   "source": [
    "X_train.head(2)"
   ]
  },
  {
   "cell_type": "markdown",
   "id": "6e7fbbb2",
   "metadata": {},
   "source": [
    "### 3.3 Replacing Categories with Ordinal Numbers\n",
    "\n",
    "Ex: cities = ['Budapest','Paris','Denver'] --> [1,2,3]\n",
    "\n",
    "Ordinal encoding is better suited for nonlinear machine learning models, which can navigate through the arbitrarily assigned digits to try and find patterns that relate to the target."
   ]
  },
  {
   "cell_type": "code",
   "execution_count": 121,
   "id": "9fcad555",
   "metadata": {},
   "outputs": [],
   "source": [
    "#1/ Using Pandas\n",
    "ordinal_mapper = {df['A7'].unique()[i] : i for i in range(len(df['A7'].unique()))}"
   ]
  },
  {
   "cell_type": "code",
   "execution_count": 122,
   "id": "ac626216",
   "metadata": {},
   "outputs": [
    {
     "data": {
      "text/html": [
       "<div>\n",
       "<style scoped>\n",
       "    .dataframe tbody tr th:only-of-type {\n",
       "        vertical-align: middle;\n",
       "    }\n",
       "\n",
       "    .dataframe tbody tr th {\n",
       "        vertical-align: top;\n",
       "    }\n",
       "\n",
       "    .dataframe thead th {\n",
       "        text-align: right;\n",
       "    }\n",
       "</style>\n",
       "<table border=\"1\" class=\"dataframe\">\n",
       "  <thead>\n",
       "    <tr style=\"text-align: right;\">\n",
       "      <th></th>\n",
       "      <th>A1</th>\n",
       "      <th>A2</th>\n",
       "      <th>A3</th>\n",
       "      <th>A4</th>\n",
       "      <th>A5</th>\n",
       "      <th>A6</th>\n",
       "      <th>A7</th>\n",
       "      <th>A8</th>\n",
       "      <th>A9</th>\n",
       "      <th>A10</th>\n",
       "      <th>A11</th>\n",
       "      <th>A12</th>\n",
       "      <th>A13</th>\n",
       "      <th>A14</th>\n",
       "      <th>A15</th>\n",
       "    </tr>\n",
       "  </thead>\n",
       "  <tbody>\n",
       "    <tr>\n",
       "      <th>596</th>\n",
       "      <td>a</td>\n",
       "      <td>46.08</td>\n",
       "      <td>3.000</td>\n",
       "      <td>u</td>\n",
       "      <td>g</td>\n",
       "      <td>c</td>\n",
       "      <td>v</td>\n",
       "      <td>2.375</td>\n",
       "      <td>t</td>\n",
       "      <td>t</td>\n",
       "      <td>8</td>\n",
       "      <td>t</td>\n",
       "      <td>g</td>\n",
       "      <td>396.0</td>\n",
       "      <td>4159</td>\n",
       "    </tr>\n",
       "    <tr>\n",
       "      <th>303</th>\n",
       "      <td>a</td>\n",
       "      <td>15.92</td>\n",
       "      <td>2.875</td>\n",
       "      <td>u</td>\n",
       "      <td>g</td>\n",
       "      <td>q</td>\n",
       "      <td>v</td>\n",
       "      <td>0.085</td>\n",
       "      <td>f</td>\n",
       "      <td>f</td>\n",
       "      <td>0</td>\n",
       "      <td>f</td>\n",
       "      <td>g</td>\n",
       "      <td>120.0</td>\n",
       "      <td>0</td>\n",
       "    </tr>\n",
       "    <tr>\n",
       "      <th>204</th>\n",
       "      <td>b</td>\n",
       "      <td>36.33</td>\n",
       "      <td>2.125</td>\n",
       "      <td>y</td>\n",
       "      <td>p</td>\n",
       "      <td>w</td>\n",
       "      <td>v</td>\n",
       "      <td>0.085</td>\n",
       "      <td>t</td>\n",
       "      <td>t</td>\n",
       "      <td>1</td>\n",
       "      <td>f</td>\n",
       "      <td>g</td>\n",
       "      <td>50.0</td>\n",
       "      <td>1187</td>\n",
       "    </tr>\n",
       "    <tr>\n",
       "      <th>351</th>\n",
       "      <td>b</td>\n",
       "      <td>22.17</td>\n",
       "      <td>0.585</td>\n",
       "      <td>y</td>\n",
       "      <td>p</td>\n",
       "      <td>ff</td>\n",
       "      <td>ff</td>\n",
       "      <td>0.000</td>\n",
       "      <td>f</td>\n",
       "      <td>f</td>\n",
       "      <td>0</td>\n",
       "      <td>f</td>\n",
       "      <td>g</td>\n",
       "      <td>100.0</td>\n",
       "      <td>0</td>\n",
       "    </tr>\n",
       "    <tr>\n",
       "      <th>118</th>\n",
       "      <td>b</td>\n",
       "      <td>57.83</td>\n",
       "      <td>7.040</td>\n",
       "      <td>u</td>\n",
       "      <td>g</td>\n",
       "      <td>m</td>\n",
       "      <td>v</td>\n",
       "      <td>14.000</td>\n",
       "      <td>t</td>\n",
       "      <td>t</td>\n",
       "      <td>6</td>\n",
       "      <td>t</td>\n",
       "      <td>g</td>\n",
       "      <td>360.0</td>\n",
       "      <td>1332</td>\n",
       "    </tr>\n",
       "    <tr>\n",
       "      <th>...</th>\n",
       "      <td>...</td>\n",
       "      <td>...</td>\n",
       "      <td>...</td>\n",
       "      <td>...</td>\n",
       "      <td>...</td>\n",
       "      <td>...</td>\n",
       "      <td>...</td>\n",
       "      <td>...</td>\n",
       "      <td>...</td>\n",
       "      <td>...</td>\n",
       "      <td>...</td>\n",
       "      <td>...</td>\n",
       "      <td>...</td>\n",
       "      <td>...</td>\n",
       "      <td>...</td>\n",
       "    </tr>\n",
       "    <tr>\n",
       "      <th>359</th>\n",
       "      <td>a</td>\n",
       "      <td>36.75</td>\n",
       "      <td>4.710</td>\n",
       "      <td>u</td>\n",
       "      <td>g</td>\n",
       "      <td>ff</td>\n",
       "      <td>ff</td>\n",
       "      <td>0.000</td>\n",
       "      <td>f</td>\n",
       "      <td>f</td>\n",
       "      <td>0</td>\n",
       "      <td>f</td>\n",
       "      <td>g</td>\n",
       "      <td>160.0</td>\n",
       "      <td>0</td>\n",
       "    </tr>\n",
       "    <tr>\n",
       "      <th>192</th>\n",
       "      <td>b</td>\n",
       "      <td>41.75</td>\n",
       "      <td>0.960</td>\n",
       "      <td>u</td>\n",
       "      <td>g</td>\n",
       "      <td>x</td>\n",
       "      <td>v</td>\n",
       "      <td>2.500</td>\n",
       "      <td>t</td>\n",
       "      <td>f</td>\n",
       "      <td>0</td>\n",
       "      <td>f</td>\n",
       "      <td>g</td>\n",
       "      <td>510.0</td>\n",
       "      <td>600</td>\n",
       "    </tr>\n",
       "    <tr>\n",
       "      <th>629</th>\n",
       "      <td>a</td>\n",
       "      <td>19.58</td>\n",
       "      <td>0.665</td>\n",
       "      <td>u</td>\n",
       "      <td>g</td>\n",
       "      <td>w</td>\n",
       "      <td>v</td>\n",
       "      <td>1.665</td>\n",
       "      <td>f</td>\n",
       "      <td>f</td>\n",
       "      <td>0</td>\n",
       "      <td>f</td>\n",
       "      <td>g</td>\n",
       "      <td>220.0</td>\n",
       "      <td>5</td>\n",
       "    </tr>\n",
       "    <tr>\n",
       "      <th>559</th>\n",
       "      <td>a</td>\n",
       "      <td>22.83</td>\n",
       "      <td>2.290</td>\n",
       "      <td>u</td>\n",
       "      <td>g</td>\n",
       "      <td>q</td>\n",
       "      <td>h</td>\n",
       "      <td>2.290</td>\n",
       "      <td>t</td>\n",
       "      <td>t</td>\n",
       "      <td>7</td>\n",
       "      <td>t</td>\n",
       "      <td>g</td>\n",
       "      <td>140.0</td>\n",
       "      <td>2384</td>\n",
       "    </tr>\n",
       "    <tr>\n",
       "      <th>684</th>\n",
       "      <td>b</td>\n",
       "      <td>40.58</td>\n",
       "      <td>3.290</td>\n",
       "      <td>u</td>\n",
       "      <td>g</td>\n",
       "      <td>m</td>\n",
       "      <td>v</td>\n",
       "      <td>3.500</td>\n",
       "      <td>f</td>\n",
       "      <td>f</td>\n",
       "      <td>0</td>\n",
       "      <td>t</td>\n",
       "      <td>s</td>\n",
       "      <td>400.0</td>\n",
       "      <td>0</td>\n",
       "    </tr>\n",
       "  </tbody>\n",
       "</table>\n",
       "<p>483 rows × 15 columns</p>\n",
       "</div>"
      ],
      "text/plain": [
       "    A1     A2     A3 A4 A5  A6  A7      A8 A9 A10  A11 A12 A13    A14   A15\n",
       "596  a  46.08  3.000  u  g   c   v   2.375  t   t    8   t   g  396.0  4159\n",
       "303  a  15.92  2.875  u  g   q   v   0.085  f   f    0   f   g  120.0     0\n",
       "204  b  36.33  2.125  y  p   w   v   0.085  t   t    1   f   g   50.0  1187\n",
       "351  b  22.17  0.585  y  p  ff  ff   0.000  f   f    0   f   g  100.0     0\n",
       "118  b  57.83  7.040  u  g   m   v  14.000  t   t    6   t   g  360.0  1332\n",
       "..  ..    ...    ... .. ..  ..  ..     ... ..  ..  ...  ..  ..    ...   ...\n",
       "359  a  36.75  4.710  u  g  ff  ff   0.000  f   f    0   f   g  160.0     0\n",
       "192  b  41.75  0.960  u  g   x   v   2.500  t   f    0   f   g  510.0   600\n",
       "629  a  19.58  0.665  u  g   w   v   1.665  f   f    0   f   g  220.0     5\n",
       "559  a  22.83  2.290  u  g   q   h   2.290  t   t    7   t   g  140.0  2384\n",
       "684  b  40.58  3.290  u  g   m   v   3.500  f   f    0   t   s  400.0     0\n",
       "\n",
       "[483 rows x 15 columns]"
      ]
     },
     "execution_count": 122,
     "metadata": {},
     "output_type": "execute_result"
    }
   ],
   "source": [
    "X_train"
   ]
  },
  {
   "cell_type": "code",
   "execution_count": 123,
   "id": "89073c97",
   "metadata": {},
   "outputs": [],
   "source": [
    "X_train['A7'] = X_train['A7'].map(ordinal_mapper)\n",
    "X_test['A7'] = X_test['A7'].map(ordinal_mapper)"
   ]
  },
  {
   "cell_type": "code",
   "execution_count": null,
   "id": "bcb2425b",
   "metadata": {},
   "outputs": [],
   "source": [
    "from sklearn.preprocessing import OrdinalEncoder"
   ]
  },
  {
   "cell_type": "code",
   "execution_count": 129,
   "id": "17cb53be",
   "metadata": {},
   "outputs": [
    {
     "data": {
      "text/plain": [
       "OrdinalEncoder()"
      ]
     },
     "execution_count": 129,
     "metadata": {},
     "output_type": "execute_result"
    }
   ],
   "source": [
    "#2/ Using scikit learn\n",
    "encoder = OrdinalEncoder()\n",
    "encoder.fit(X_train.dropna())"
   ]
  },
  {
   "cell_type": "code",
   "execution_count": null,
   "id": "958d42f8",
   "metadata": {},
   "outputs": [],
   "source": [
    "X_train_enc = le.transform(X_train)\n",
    "X_test_enc = le.transform(X_test)"
   ]
  },
  {
   "cell_type": "markdown",
   "id": "f173c02a",
   "metadata": {},
   "source": [
    "### 3.4 Replacing Categories with Counts/Frequency of Observations\n",
    "\n",
    "Very popular in data science competitions, but note that if two different categories are present in the same percentage of observations, they will be replaced by the same value, which may lead to information loss."
   ]
  },
  {
   "cell_type": "code",
   "execution_count": 132,
   "id": "837cc7d2",
   "metadata": {},
   "outputs": [],
   "source": [
    "df = pd.read_csv('creditApprovalUCI.csv')\n",
    "X_train, X_test, y_train, y_test = train_test_split(df.drop('A16', axis=1),df['A16' ], test_size=0.3,random_state=0)"
   ]
  },
  {
   "cell_type": "code",
   "execution_count": 133,
   "id": "d2839b53",
   "metadata": {
    "scrolled": true
   },
   "outputs": [
    {
     "data": {
      "text/plain": [
       "v     277\n",
       "h     101\n",
       "ff     41\n",
       "bb     39\n",
       "z       7\n",
       "dd      5\n",
       "j       5\n",
       "n       3\n",
       "o       1\n",
       "Name: A7, dtype: int64"
      ]
     },
     "execution_count": 133,
     "metadata": {},
     "output_type": "execute_result"
    }
   ],
   "source": [
    "#here count(j) = count(dd) so we may lose information related to that\n",
    "X_train['A7'].value_counts()"
   ]
  },
  {
   "cell_type": "code",
   "execution_count": 135,
   "id": "89a0688a",
   "metadata": {},
   "outputs": [],
   "source": [
    "# 1/ Using Pandas\n",
    "count_map = X_train['A7'].value_counts()/len(X_train)\n",
    "X_train['A7'] = X_train['A7'].map(count_map)\n",
    "X_test['A7'] = X_test['A7'].map(count_map)"
   ]
  },
  {
   "cell_type": "markdown",
   "id": "1776bf75",
   "metadata": {},
   "source": [
    "### 3.5 Encoding with Integers in an Ordered Manner\n",
    "In the Replacing categories with ordinal numbers recipe, we replaced categories with integers, which were assigned arbitrarily. This encoding works well with non-linear machine learning algorithms that can navigate through the arbitrarily assigned digits to try and find patterns that relate them to the target. However, this encoding method may not work so well with linear models. We can instead assign integers to the categories given the target values. To do this, we do the following:\n",
    "1. Calculate the mean value of the target per category.\n",
    "2. Order the categories from the one with the lowest to the one with the highest target mean value.\n",
    "3. Assign digits to the ordered categories, starting with 0 to the first category all of the way up to k-1 to the last category, where k is the number of distinct categories.\n",
    "\n",
    "This encoding technique creates a monotonic relationship between the categorical variable and the response and therefore makes the variables more adequate for use in linear models."
   ]
  },
  {
   "cell_type": "code",
   "execution_count": 155,
   "id": "6023d0f3",
   "metadata": {},
   "outputs": [
    {
     "data": {
      "text/plain": [
       "{'ff': 0, 'dd': 1, 'j': 2, 'v': 3, 'bb': 4, 'n': 5, 'o': 6, 'h': 7, 'z': 8}"
      ]
     },
     "execution_count": 155,
     "metadata": {},
     "output_type": "execute_result"
    }
   ],
   "source": [
    "#1/ Using Pandas #A7: feature, A16: target\n",
    "means = df.groupby(df['A7'])['A16'].mean()\n",
    "ordered_mapper = {category:order for order,category in enumerate(means.sort_values().index)}\n",
    "ordered_mapper"
   ]
  },
  {
   "cell_type": "code",
   "execution_count": 156,
   "id": "515b0b48",
   "metadata": {},
   "outputs": [],
   "source": [
    "X_train['A7'] = X_train['A7'].map(ordered_mapper)\n",
    "X_test['A7'] = X_test['A7'].map(ordered_mapper)"
   ]
  },
  {
   "cell_type": "code",
   "execution_count": 157,
   "id": "c8fdaf87",
   "metadata": {},
   "outputs": [
    {
     "data": {
      "text/plain": [
       "596    3.0\n",
       "303    3.0\n",
       "204    3.0\n",
       "351    0.0\n",
       "118    3.0\n",
       "      ... \n",
       "359    0.0\n",
       "192    3.0\n",
       "629    3.0\n",
       "559    7.0\n",
       "684    3.0\n",
       "Name: A7, Length: 483, dtype: float64"
      ]
     },
     "execution_count": 157,
     "metadata": {},
     "output_type": "execute_result"
    }
   ],
   "source": [
    "X_train['A7']"
   ]
  },
  {
   "cell_type": "markdown",
   "id": "529be4a6",
   "metadata": {},
   "source": [
    "### 3.6 Mean Encoding \n",
    "(Covered in Kaggle Competition Course)"
   ]
  },
  {
   "cell_type": "markdown",
   "id": "518abbbe",
   "metadata": {},
   "source": [
    "### 3.7 Encoding with the Weight of Evidence (WoE)\n",
    "The Weight of Evidence (WoE) was developed primarily for credit and financial industries to facilitate variable screening and exploratory analysis and to build more predictive linear models to evaluate the risk of loan default; that is, to predict how likely money lent to a person or institution is to be lost.<br>\n",
    "The WoE is computed from the basic odds ratio:<br>\n",
    "- WoE = log(p(Y==1)/p(Y==0))\n",
    "\n",
    "Here, p(Y=1) is the probability of an event occurring. Therefore, the WoE takes the following values:<br>\n",
    "- WoE = 0 if p(1) / p(0) = 1, that is, if the outcome is random (50/50)\n",
    "- WoE > 0 if p(1) > p(0)\n",
    "- WoE < 0 if p(0) > p(1)\n",
    "\n",
    "This allows for a direct visualization of the predictive power of the category in the variable: the higher the WoE, the more likely the event will occur, and in fact, if the W0E is positive, the event is likely to occur."
   ]
  },
  {
   "cell_type": "code",
   "execution_count": 160,
   "id": "1bb56c8d",
   "metadata": {},
   "outputs": [],
   "source": [
    "#the probability of the target being 1, for each catgory A1:\n",
    "p1 = df.groupby(['A1'])['A16'].mean() \n",
    "p0 = 1 - p1"
   ]
  },
  {
   "cell_type": "code",
   "execution_count": 163,
   "id": "2988600c",
   "metadata": {},
   "outputs": [
    {
     "data": {
      "text/plain": [
       "A1\n",
       "a   -0.133531\n",
       "b   -0.240468\n",
       "Name: A16, dtype: float64"
      ]
     },
     "execution_count": 163,
     "metadata": {},
     "output_type": "execute_result"
    }
   ],
   "source": [
    "woe = np.log(p1/p0)\n",
    "woe"
   ]
  },
  {
   "cell_type": "code",
   "execution_count": 164,
   "id": "931196c7",
   "metadata": {},
   "outputs": [],
   "source": [
    "X_train['A1'] = X_train['A1'].map(woe)\n",
    "X_test['A1'] = X_test['A1'].map(woe)"
   ]
  },
  {
   "cell_type": "markdown",
   "id": "2db74af5",
   "metadata": {},
   "source": [
    "### 3.8 Grouping Rare or Infrequent Categories\n",
    "\n",
    "Rare values are those categories that are present only in a small percentage of the observations. Typically, any value below 5 % can be considered rare. Infrequent labels often appear only on the train set or only on the test set, therefore making the algorithms prone to overfitting or unable to score an observation. To avoid these complications, we can group infrequent\n",
    "categories into a new category called Rare or Other."
   ]
  },
  {
   "cell_type": "code",
   "execution_count": 15,
   "id": "0b576dba",
   "metadata": {},
   "outputs": [
    {
     "data": {
      "text/plain": [
       "v     57.349896\n",
       "h     20.910973\n",
       "ff     8.488613\n",
       "bb     8.074534\n",
       "z      1.449275\n",
       "j      1.035197\n",
       "dd     1.035197\n",
       "n      0.621118\n",
       "o      0.207039\n",
       "Name: A7, dtype: float64"
      ]
     },
     "execution_count": 15,
     "metadata": {},
     "output_type": "execute_result"
    }
   ],
   "source": [
    "#Let's check the % of observations per category in A7\n",
    "#z, j, dd, n, o can be classified as rare\n",
    "X_train['A7'].value_counts()/len(X_train)*100 "
   ]
  },
  {
   "cell_type": "code",
   "execution_count": 47,
   "id": "dba1c6d6",
   "metadata": {},
   "outputs": [
    {
     "data": {
      "text/plain": [
       "['v', 'h', 'ff', 'bb']"
      ]
     },
     "execution_count": 47,
     "metadata": {},
     "output_type": "execute_result"
    }
   ],
   "source": [
    "#find frequent labels\n",
    "#1/ Using lists:\n",
    "temp = X_train['A7'].value_counts()/len(X_train)*100\n",
    "frequent_labels = [x for x in temp.loc[temp>5].index.values]\n",
    "\n",
    "#2/ Using dictionaries:\n",
    "category_percentage = dict(X_train['A7'].value_counts()/len(X_train)*100)\n",
    "frequent_labels = [k for k,v in category_percentage.items() if v >= 5]\n",
    "frequent_labels"
   ]
  },
  {
   "cell_type": "code",
   "execution_count": 48,
   "id": "07e8a314",
   "metadata": {},
   "outputs": [],
   "source": [
    "#Replace rare labels with the 'rare' string\n",
    "X_train['A7'] = np.where(X_train['A7'].isin(frequent_labels),X_train['A7'],'rare')\n",
    "X_test['A7'] = np.where(X_test['A7'].isin(frequent_labels),X_test['A7'],'rare')"
   ]
  },
  {
   "cell_type": "code",
   "execution_count": 49,
   "id": "8aad5176",
   "metadata": {},
   "outputs": [
    {
     "data": {
      "text/plain": [
       "v       57.349896\n",
       "h       20.910973\n",
       "ff       8.488613\n",
       "bb       8.074534\n",
       "rare     5.175983\n",
       "Name: A7, dtype: float64"
      ]
     },
     "execution_count": 49,
     "metadata": {},
     "output_type": "execute_result"
    }
   ],
   "source": [
    "X_train['A7'].value_counts()/len(X_train)*100"
   ]
  },
  {
   "cell_type": "markdown",
   "id": "1f31b16a",
   "metadata": {},
   "source": [
    "### 3.9 Feature Hashing\n",
    "(Used for highly cardinal features)\n",
    "\n",
    "\n",
    "A hash function is a deterministic function that maps a potentially unbounded integer to a finite integer range [1, m].\n",
    "\n",
    "1. We determine, arbitrarily, the number of binary vectors to represent the category. (Ex:5) . \n",
    "2. Create a hash function that will take a category and return a number between 0 and m-1, where m is the number of binary vectors. In our example, the hash function should return a value between 0 and 4. Let's say our hash function returns the value of 3 for the category blue. That means that our category blue will be represented by a 0 in the vectors 0, 1, 2, and 4 and 1 in the vector 3: [0,0,0,1,0]. \n",
    "\n",
    "An example of a hash function is the module or remainder. In our example, it would be the remainder of 5.  hash function: x // 5"
   ]
  },
  {
   "cell_type": "code",
   "execution_count": 134,
   "id": "9204311b",
   "metadata": {},
   "outputs": [],
   "source": [
    "from sklearn.feature_extraction import FeatureHasher"
   ]
  },
  {
   "cell_type": "code",
   "execution_count": 138,
   "id": "35209464",
   "metadata": {},
   "outputs": [],
   "source": [
    "#it takes a dictionary, not sure how to use it\n",
    "hasher = FeatureHasher(n_features=5)"
   ]
  },
  {
   "cell_type": "markdown",
   "id": "023c69e4",
   "metadata": {},
   "source": [
    "## ========================================================================\n",
    "## <a id = 4> 4. Transforming Numerical Variables </a>\n",
    "\n",
    "Linear and logistic regression assume that the variables are normally distributed. If they are not, we can often apply a mathematical transformation to change their distribution into Gaussian, and sometimes even unmask linear relationships between variables and their targets. This means that transforming variables may improve the performance of linear machine learning models. Commonly used mathematical transformations include the logarithm, reciprocal, power, square and cube root transformations, as well as the Box-Cox and Yeo-Johnson transformations\n",
    "\n",
    "1. Log Transformation\n",
    "2. Reciprocal Function Transformation (1/x <==> np.reciprocal) (what is it used for?) (skip)\n",
    "3. Square and Cube Root Transformation (np.sqrt, bp.cbrt) (skip)\n",
    "4. Power Transformations (np.power) (skip)\n",
    "5. Box-Cox transformation (X**λ - 1)/λ (stats.boxcox) (skip)<br>\n",
    "    Works only when data is positive. For nonpositive data, one could shift the values by adding a fixed constant. By default, the scipy implementation of Box-Cox transform finds the lambda parameter that will make the output the closest to a normal distribution\n",
    "6. Yeo-Johnson transformation on numerical variables (stats.yeojohnson) (skip)"
   ]
  },
  {
   "cell_type": "code",
   "execution_count": 7,
   "id": "2f9ca587",
   "metadata": {},
   "outputs": [],
   "source": [
    "boston_dataset = load_boston()\n",
    "df = pd.DataFrame(boston_dataset.data,columns=boston_dataset.feature_names)\n",
    "df['MEDV'] = boston_dataset.target"
   ]
  },
  {
   "cell_type": "code",
   "execution_count": 52,
   "id": "38b88e21",
   "metadata": {},
   "outputs": [
    {
     "data": {
      "text/html": [
       "<div>\n",
       "<style scoped>\n",
       "    .dataframe tbody tr th:only-of-type {\n",
       "        vertical-align: middle;\n",
       "    }\n",
       "\n",
       "    .dataframe tbody tr th {\n",
       "        vertical-align: top;\n",
       "    }\n",
       "\n",
       "    .dataframe thead th {\n",
       "        text-align: right;\n",
       "    }\n",
       "</style>\n",
       "<table border=\"1\" class=\"dataframe\">\n",
       "  <thead>\n",
       "    <tr style=\"text-align: right;\">\n",
       "      <th></th>\n",
       "      <th>CRIM</th>\n",
       "      <th>ZN</th>\n",
       "      <th>INDUS</th>\n",
       "      <th>CHAS</th>\n",
       "      <th>NOX</th>\n",
       "      <th>RM</th>\n",
       "      <th>AGE</th>\n",
       "      <th>DIS</th>\n",
       "      <th>RAD</th>\n",
       "      <th>TAX</th>\n",
       "      <th>PTRATIO</th>\n",
       "      <th>B</th>\n",
       "      <th>LSTAT</th>\n",
       "    </tr>\n",
       "  </thead>\n",
       "  <tbody>\n",
       "    <tr>\n",
       "      <th>0</th>\n",
       "      <td>0.00632</td>\n",
       "      <td>18.0</td>\n",
       "      <td>2.31</td>\n",
       "      <td>0.0</td>\n",
       "      <td>0.538</td>\n",
       "      <td>6.575</td>\n",
       "      <td>65.2</td>\n",
       "      <td>4.0900</td>\n",
       "      <td>1.0</td>\n",
       "      <td>296.0</td>\n",
       "      <td>15.3</td>\n",
       "      <td>396.9</td>\n",
       "      <td>4.98</td>\n",
       "    </tr>\n",
       "    <tr>\n",
       "      <th>1</th>\n",
       "      <td>0.02731</td>\n",
       "      <td>0.0</td>\n",
       "      <td>7.07</td>\n",
       "      <td>0.0</td>\n",
       "      <td>0.469</td>\n",
       "      <td>6.421</td>\n",
       "      <td>78.9</td>\n",
       "      <td>4.9671</td>\n",
       "      <td>2.0</td>\n",
       "      <td>242.0</td>\n",
       "      <td>17.8</td>\n",
       "      <td>396.9</td>\n",
       "      <td>9.14</td>\n",
       "    </tr>\n",
       "  </tbody>\n",
       "</table>\n",
       "</div>"
      ],
      "text/plain": [
       "      CRIM    ZN  INDUS  CHAS    NOX     RM   AGE     DIS  RAD    TAX  \\\n",
       "0  0.00632  18.0   2.31   0.0  0.538  6.575  65.2  4.0900  1.0  296.0   \n",
       "1  0.02731   0.0   7.07   0.0  0.469  6.421  78.9  4.9671  2.0  242.0   \n",
       "\n",
       "   PTRATIO      B  LSTAT  \n",
       "0     15.3  396.9   4.98  \n",
       "1     17.8  396.9   9.14  "
      ]
     },
     "execution_count": 52,
     "metadata": {},
     "output_type": "execute_result"
    }
   ],
   "source": [
    "df.head(2)"
   ]
  },
  {
   "cell_type": "code",
   "execution_count": 72,
   "id": "2ec30baa",
   "metadata": {},
   "outputs": [
    {
     "data": {
      "image/png": "[encoded data removed]",
      "text/plain": [
       "<Figure size 864x360 with 2 Axes>"
      ]
     },
     "metadata": {
      "needs_background": "light"
     },
     "output_type": "display_data"
    }
   ],
   "source": [
    "#Check if LSTAT is normally distributed\n",
    "def diagnostic_plots(df,variable):\n",
    "    fig, (ax1,ax2) = plt.subplots(1,2,figsize=(12,5))\n",
    "    ax1.hist(df[variable],bins=30)\n",
    "    #Q-Q plot, we can see that LSTAT is not normally distributed\n",
    "    ax2 = stats.probplot(df[variable],dist='norm',plot=plt);\n",
    "\n",
    "diagnostic_plots(df,'LSTAT')"
   ]
  },
  {
   "cell_type": "code",
   "execution_count": 69,
   "id": "9fc3a08d",
   "metadata": {},
   "outputs": [],
   "source": [
    "df_copy = df.copy()\n",
    "#Apply log transformation to some variables\n",
    "df_copy[['LSTAT', 'NOX', 'DIS', 'RM']] = np.log(df_copy[['LSTAT', 'NOX', 'DIS', 'RM']])"
   ]
  },
  {
   "cell_type": "code",
   "execution_count": 73,
   "id": "c6441d87",
   "metadata": {},
   "outputs": [
    {
     "data": {
      "image/png": "[encoded data removed]",
      "text/plain": [
       "<Figure size 864x360 with 2 Axes>"
      ]
     },
     "metadata": {
      "needs_background": "light"
     },
     "output_type": "display_data"
    }
   ],
   "source": [
    "#Check if LSTAT is normally distributed now. It looks more 'normal'?\n",
    "diagnostic_plots(df_copy,'LSTAT')"
   ]
  },
  {
   "cell_type": "markdown",
   "id": "a6ff7c89",
   "metadata": {},
   "source": [
    "## ========================================================================\n",
    "## <a id=5> 5. Feature Discretization (Binning)</a>\n",
    "\n",
    "Binning is used to change the distribution of skewed variables and to minimize the influence of outliers, and hence improve the performance of some machine learning models.\n",
    "\n",
    "There are Supervised (using target) and Unsupervised (using features) approaches to transform continuous variables into discrete ones. \n",
    "\n",
    "1. Binning with Equal Width Intervals\n",
    "2. Binning with Equal Frequency Intervals\n",
    "3. Binning + Categorical Encoding in an ordered manner (3.5) (skip)\n",
    "4. Binning with User pre-defined Intervals (skip)\n",
    "5. Binning with k-means Clustering\n",
    "6. Binning with Decision Trees"
   ]
  },
  {
   "cell_type": "code",
   "execution_count": 8,
   "id": "94c77375",
   "metadata": {},
   "outputs": [],
   "source": [
    "X_train, X_test, y_train, y_test = train_test_split(df.drop('MEDV', axis=1), df['MEDV'], test_size=0.3,random_state=0)"
   ]
  },
  {
   "cell_type": "markdown",
   "id": "ae93fc92",
   "metadata": {},
   "source": [
    "### 5.1 Binning with Equal Width Intervals"
   ]
  },
  {
   "cell_type": "code",
   "execution_count": 112,
   "id": "5043810d",
   "metadata": {
    "scrolled": true
   },
   "outputs": [
    {
     "name": "stdout",
     "output_type": "stream",
     "text": [
      "1 37 3\n"
     ]
    }
   ],
   "source": [
    "num_bins = 10\n",
    "interval_width = int((X_train['LSTAT'].max() - X_train['LSTAT'].min())/num_bins)\n",
    "\n",
    "min_value = int(np.floor( X_train['LSTAT'].min()))\n",
    "max_value = int(np.ceil( X_train['LSTAT'].max()))\n",
    "\n",
    "print(min_value, max_value, interval_width)"
   ]
  },
  {
   "cell_type": "code",
   "execution_count": 113,
   "id": "072af712",
   "metadata": {},
   "outputs": [
    {
     "data": {
      "text/plain": [
       "[1, 4, 7, 10, 13, 16, 19, 22, 25, 28, 31, 34, 37]"
      ]
     },
     "execution_count": 113,
     "metadata": {},
     "output_type": "execute_result"
    }
   ],
   "source": [
    "bins = [i for i in range(min_value, max_value + interval_width,interval_width)]\n",
    "bins"
   ]
  },
  {
   "cell_type": "code",
   "execution_count": 114,
   "id": "36c73cc6",
   "metadata": {},
   "outputs": [],
   "source": [
    "#include_lowest=True to include the lowest value in the 1st interval\n",
    "X_train['LSTAT_DISC'] = pd.cut(X_train['LSTAT'],bins=bins,include_lowest=True)\n",
    "X_test['LSTAT_DISC'] = pd.cut(X_test['LSTAT'], bins=bins,include_lowest=True)"
   ]
  },
  {
   "cell_type": "code",
   "execution_count": 116,
   "id": "0218fd41",
   "metadata": {},
   "outputs": [
    {
     "data": {
      "text/plain": [
       "(4.0, 7.0]      67\n",
       "(7.0, 10.0]     63\n",
       "(10.0, 13.0]    49\n",
       "(16.0, 19.0]    45\n",
       "(13.0, 16.0]    44\n",
       "(0.999, 4.0]    28\n",
       "(19.0, 22.0]    21\n",
       "(22.0, 25.0]    17\n",
       "(28.0, 31.0]     9\n",
       "(25.0, 28.0]     7\n",
       "(34.0, 37.0]     4\n",
       "(31.0, 34.0]     0\n",
       "Name: LSTAT_DISC, dtype: int64"
      ]
     },
     "execution_count": 116,
     "metadata": {},
     "output_type": "execute_result"
    }
   ],
   "source": [
    "# Intervals have the same width but not the same frequency\n",
    "X_train['LSTAT_DISC'].value_counts()"
   ]
  },
  {
   "cell_type": "markdown",
   "id": "b948c95c",
   "metadata": {},
   "source": [
    "### 5.2 Binning with Equal Frequency Intervals\n",
    "Equal-frequency discretization divides the values of the variable into intervals that carry the same proportion of observations. The interval width is determined by quantiles, so different intervals may have different widths. This discretization technique is particularly useful for skewed variables as it spreads the observations over the different bins equally."
   ]
  },
  {
   "cell_type": "code",
   "execution_count": 133,
   "id": "6efcc432",
   "metadata": {},
   "outputs": [],
   "source": [
    "#Divide LSTAT into 10 quantiles\n",
    "X_train['LSTAT_DISC'], bins = pd.qcut(X_train['LSTAT'], 10,labels=None, retbins=True)\n",
    "X_test['LSTAT_DISC'] = pd.cut(x = X_test['LSTAT'], bins=bins)"
   ]
  },
  {
   "cell_type": "code",
   "execution_count": 131,
   "id": "d4ee87b3",
   "metadata": {},
   "outputs": [
    {
     "data": {
      "text/plain": [
       "(7.528, 9.5]       0.104520\n",
       "(1.729, 4.623]     0.101695\n",
       "(13.26, 15.565]    0.101695\n",
       "(15.565, 18.06]    0.101695\n",
       "(22.453, 36.98]    0.101695\n",
       "(4.623, 6.202]     0.098870\n",
       "(6.202, 7.528]     0.098870\n",
       "(11.16, 13.26]     0.098870\n",
       "(9.5, 11.16]       0.096045\n",
       "(18.06, 22.453]    0.096045\n",
       "Name: LSTAT_DISC, dtype: float64"
      ]
     },
     "execution_count": 131,
     "metadata": {},
     "output_type": "execute_result"
    }
   ],
   "source": [
    "#the intervals have similar proportions of observations\n",
    "X_train['LSTAT_DISC'].value_counts()/len(X_train)"
   ]
  },
  {
   "cell_type": "markdown",
   "id": "4ac150df",
   "metadata": {},
   "source": [
    "### 5.5 Binning with k-means Clustering\n",
    "The bins are the clusters identified by the kmeans algorithm. The number of clusters (k) is defined by the user. The k-means clustering algorithm has two main steps:\n",
    "1. Initialization step: k observations are chosen randomly as the initial centers of the k clusters, and the remaining data points are assigned to the closest cluster. \n",
    "2. Iteration step: the centers of the clusters are re-computed as the average points of all of the observations within the cluster, and the observations are reassigned to the newly created closest cluster. The iteration step continues until the optimal k centers are found. "
   ]
  },
  {
   "cell_type": "code",
   "execution_count": 136,
   "id": "78ee0c0f",
   "metadata": {},
   "outputs": [],
   "source": [
    "from sklearn.preprocessing import KBinsDiscretizer"
   ]
  },
  {
   "cell_type": "code",
   "execution_count": 146,
   "id": "d87c0f34",
   "metadata": {},
   "outputs": [
    {
     "data": {
      "text/plain": [
       "KBinsDiscretizer(encode='ordinal', n_bins=10, strategy='kmeans')"
      ]
     },
     "execution_count": 146,
     "metadata": {},
     "output_type": "execute_result"
    }
   ],
   "source": [
    "disc = KBinsDiscretizer(n_bins=10,encode='ordinal',strategy='kmeans')\n",
    "disc.fit(X_train[['LSTAT']])"
   ]
  },
  {
   "cell_type": "code",
   "execution_count": 148,
   "id": "55c35110",
   "metadata": {},
   "outputs": [
    {
     "data": {
      "text/plain": [
       "array([array([ 1.73      ,  5.45330009,  8.65519753, 12.03266667, 15.46755102,\n",
       "       18.89709647, 22.15778075, 25.54037815, 28.75339286, 32.6525    ,\n",
       "       36.98      ])], dtype=object)"
      ]
     },
     "execution_count": 148,
     "metadata": {},
     "output_type": "execute_result"
    }
   ],
   "source": [
    "disc.bin_edges_"
   ]
  },
  {
   "cell_type": "code",
   "execution_count": 152,
   "id": "f9963788",
   "metadata": {},
   "outputs": [],
   "source": [
    "X_train['LSTAT_KMEANS'] = disc.transform(X_train[['LSTAT']])\n",
    "X_train['TEST_KMEANS'] = disc.transform(X_test[['LSTAT']])"
   ]
  },
  {
   "cell_type": "markdown",
   "id": "0b4dd448",
   "metadata": {},
   "source": [
    "### 5.6 Binning with Decision Trees\n",
    "Uses a decision tree to identify the optimal bins in which to sort the feature values. The decision tree is built using the feature to discretize, and the target. When a decision tree makes a prediction, it assigns an observation to one of N end leaves, therefore, any decision tree will generate a discrete output, the values of which are the predictions at each of its N leaves. Discretization with decision trees creates a monotonic relationship between the bins and the target. "
   ]
  },
  {
   "cell_type": "code",
   "execution_count": 153,
   "id": "cb951eec",
   "metadata": {},
   "outputs": [],
   "source": [
    "from sklearn.tree import DecisionTreeRegressor"
   ]
  },
  {
   "cell_type": "code",
   "execution_count": 159,
   "id": "b3c29b9d",
   "metadata": {},
   "outputs": [
    {
     "data": {
      "text/plain": [
       "DecisionTreeRegressor(max_depth=3, random_state=0)"
      ]
     },
     "execution_count": 159,
     "metadata": {},
     "output_type": "execute_result"
    }
   ],
   "source": [
    "tree_model = DecisionTreeRegressor(max_depth=3,random_state=0)\n",
    "tree_model.fit(X_train[['LSTAT']],y_train)"
   ]
  },
  {
   "cell_type": "code",
   "execution_count": 162,
   "id": "e83cd39c",
   "metadata": {},
   "outputs": [],
   "source": [
    "X_train['LSTAT_TREE'] = tree_model.predict(X_train[['LSTAT']])\n",
    "X_test['LSTAT_TREE'] = tree_model.predict(X_test[['LSTAT']])\n",
    "#For classification:\n",
    "#X_train['LSTAT_TREE'] = tree_model.predict_proba(X_train['LSTAT'].to_frame())[:,1]"
   ]
  },
  {
   "cell_type": "code",
   "execution_count": 164,
   "id": "fef14841",
   "metadata": {},
   "outputs": [
    {
     "data": {
      "text/plain": [
       "array([12.91724138, 27.15384615, 16.36181818, 32.04285714, 20.555     ,\n",
       "       34.88333333, 23.71388889, 41.80740741])"
      ]
     },
     "execution_count": 164,
     "metadata": {},
     "output_type": "execute_result"
    }
   ],
   "source": [
    "#check the bins\n",
    "X_train['LSTAT_TREE'].unique()"
   ]
  },
  {
   "cell_type": "markdown",
   "id": "f8592f1b",
   "metadata": {},
   "source": [
    "## ========================================================================\n",
    "## <a id=6> 6. Outliers </a>\n",
    "\n",
    "Statistical parameters such as the mean and variance are sensitive to outliers. Outliers may also affect the performance of some machine learning models, such as linear regression or AdaBoost. Therefore, we may want to remove or engineer the outliers in the variables of our dataset. Ways to deal with outliers:\n",
    "- Binning\n",
    "- Treat like missing data\n",
    "\n",
    "But here we will discuss:\n",
    "1. Trimming outliers from the dataset\n",
    "2. Winsorization\n",
    "3. Capping the variable at arbitrary maximum and minimum values\n",
    "4. Performing zero-coding – capping the variable values at zero (as said) (skip)"
   ]
  },
  {
   "cell_type": "markdown",
   "id": "7b11db9d",
   "metadata": {},
   "source": [
    "### 6.1 Trimming Outliers"
   ]
  },
  {
   "cell_type": "code",
   "execution_count": 171,
   "id": "4ed5115e",
   "metadata": {},
   "outputs": [
    {
     "name": "stderr",
     "output_type": "stream",
     "text": [
      "C:\\Users\\oula.aabkari\\Anaconda3\\lib\\site-packages\\seaborn\\_decorators.py:36: FutureWarning: Pass the following variable as a keyword arg: x. From version 0.12, the only valid positional argument will be `data`, and passing other arguments without an explicit keyword will result in an error or misinterpretation.\n",
      "  warnings.warn(\n"
     ]
    },
    {
     "data": {
      "image/png": "[encoded data removed]",
      "text/plain": [
       "<Figure size 432x288 with 1 Axes>"
      ]
     },
     "metadata": {
      "needs_background": "light"
     },
     "output_type": "display_data"
    }
   ],
   "source": [
    "sns.boxplot(df['RM']);"
   ]
  },
  {
   "cell_type": "code",
   "execution_count": 172,
   "id": "4a413655",
   "metadata": {},
   "outputs": [],
   "source": [
    "#we make a function to find the boundaries of a variable using the inter-quartile range\n",
    "def find_boundaries(df,feature,distance):\n",
    "    iqr = df[feature].quantile(0.75) - df[feature].quantile(0.25)\n",
    "    lower_boundary = df[feature].quantile(0.25) - distance*iqr\n",
    "    upper_boundary = df[feature].quantile(0.75) + distance*iqr\n",
    "    return upper_boundary, lower_boundary"
   ]
  },
  {
   "cell_type": "code",
   "execution_count": 191,
   "id": "371ae50c",
   "metadata": {},
   "outputs": [],
   "source": [
    "#instead of the iqr, we can use the mean and std\n",
    "def find_boundaries2(df,feature,distance):\n",
    "    lower_boundary = df[feature].mean() - distance*df[feature].std()\n",
    "    upper_boundary = df[feature].mean() + distance*df[feature].std()\n",
    "    return upper_boundary, lower_boundary"
   ]
  },
  {
   "cell_type": "code",
   "execution_count": 190,
   "id": "b61d954a",
   "metadata": {},
   "outputs": [],
   "source": [
    "RM_upper, RM_lower = find_boundaries(df,'RM',1.5)\n",
    "\n",
    "#rows to delete\n",
    "outliers = (df['RM'] < RM_lower) | (df['RM'] > RM_upper)\n",
    "df_trimmed = df.loc[~outliers,:]"
   ]
  },
  {
   "cell_type": "markdown",
   "id": "36c958fa",
   "metadata": {},
   "source": [
    "### 6.2 Winsorization\n",
    "It's the process of transforming the data by limiting the outliers, to a certain arbitrary value, closer to the mean of the distribution. A typical strategy involves setting outliers to a specified percentile.\n",
    "\n",
    "For example, with 90% winsorization, we set all data below the 5th percentile to the value at the 5th percentile and all data above the 95th percentile to the value at the 95th percentile."
   ]
  },
  {
   "cell_type": "code",
   "execution_count": 193,
   "id": "d5a2772e",
   "metadata": {},
   "outputs": [],
   "source": [
    "lower_limit = df['RM'].quantile(0.05)\n",
    "upper_limit = df['RM'].quantile(0.9)"
   ]
  },
  {
   "cell_type": "code",
   "execution_count": 194,
   "id": "89652764",
   "metadata": {},
   "outputs": [],
   "source": [
    "# Method1\n",
    "df['RM_WIN'] = df['RM']\n",
    "df['RM_WIN'][df['RM'] < lower_limit] = lower_limit\n",
    "df['RM_WIN'][df['RM'] > upper_limit] = upper_limit"
   ]
  },
  {
   "cell_type": "code",
   "execution_count": null,
   "id": "07e79683",
   "metadata": {},
   "outputs": [],
   "source": [
    "# Method2: replace directly within the dataframe\n",
    "np.where(df['RM'] > upper_limit, upper_limit,np.where(df['RM'] < lower_limit, lower_limit,df['RM']))"
   ]
  },
  {
   "cell_type": "code",
   "execution_count": 214,
   "id": "76e7f5bd",
   "metadata": {},
   "outputs": [
    {
     "data": {
      "image/png": "[encoded data removed]",
      "text/plain": [
       "<Figure size 720x288 with 2 Axes>"
      ]
     },
     "metadata": {
      "needs_background": "light"
     },
     "output_type": "display_data"
    }
   ],
   "source": [
    "#we can see here that there are no outliers\n",
    "fig, (ax1,ax2) = plt.subplots(1,2,figsize=(10,4))\n",
    "ax1.boxplot(df['RM']);\n",
    "ax2 = stats.probplot(df['RM'],dist='norm',plot=plt);"
   ]
  },
  {
   "cell_type": "code",
   "execution_count": 215,
   "id": "ac867afb",
   "metadata": {},
   "outputs": [
    {
     "data": {
      "image/png": "[encoded data removed]",
      "text/plain": [
       "<Figure size 720x288 with 2 Axes>"
      ]
     },
     "metadata": {
      "needs_background": "light"
     },
     "output_type": "display_data"
    }
   ],
   "source": [
    "fig, (ax1,ax2) = plt.subplots(1,2,figsize=(10,4))\n",
    "ax1.boxplot(df['RM_WIN']);\n",
    "ax2 = stats.probplot(df['RM_WIN'],dist='norm',plot=plt);"
   ]
  },
  {
   "cell_type": "markdown",
   "id": "f0f56cb6",
   "metadata": {},
   "source": [
    "### 6.3 Capping the variable at arbitrary maximum and minimum values\n",
    "\n",
    "Similar to winsorization, instead we replace the outliers by predetermined max and min values which we decide using the min/max +/- std or the iqr. This\n",
    "procedure is also called bottom and top coding, censoring, or capping.  \n",
    "\n",
    "same as 6.1, but replacing instead of deleting"
   ]
  },
  {
   "cell_type": "markdown",
   "id": "5b6d00dd",
   "metadata": {},
   "source": [
    "## ========================================================================\n",
    "## <a id=7> 7. Feature Scaling</a>\n",
    "\n",
    "Models that are smooth functions of the input, such as linear regression, logistic regression, or anything that involves a matrix, are affected by the scale of the input. Tree-based models, on the other hand, couldn’t care less. \n",
    "\n",
    "1. Standardization\n",
    "2. Mean Normalization\n",
    "3. Scaling to the maximum and minimum values\n",
    "4. Maximum absolute scaling\n",
    "5. Scaling with the median and quantiles\n",
    "6. Scaling to vector unit length (x/norm, common for text classification) (Normalizer()) (skip)\n",
    "\n",
    "### 7.1 Standarizing\n",
    "\n",
    "We center the variable at 0 and standarize the variance to 1. The result is called the z-score and represents how many standard deviations a given observation deviates from the mean. \n",
    "\n",
    "                            z = (x - mean) / std"
   ]
  },
  {
   "cell_type": "code",
   "execution_count": null,
   "id": "54ad1595",
   "metadata": {},
   "outputs": [],
   "source": [
    "from sklearn.preprocessing import StandardScaler"
   ]
  },
  {
   "cell_type": "code",
   "execution_count": null,
   "id": "7bdfadb3",
   "metadata": {},
   "outputs": [],
   "source": [
    "scaler = StandardScaler()\n",
    "scaler.fit(X_train)\n",
    "X_train_scaled = scaler.transform(X_train)\n",
    "X_test_scaled = scaler.transform(X_test)"
   ]
  },
  {
   "cell_type": "markdown",
   "id": "c420c9d2",
   "metadata": {},
   "source": [
    "### 7.2 Mean Normalization\n",
    "\n",
    "We center the variable at 0 and rescale the distribution to the value range.\n",
    "\n",
    "                        x_scaled = (x - mean) / (max - min) \n",
    "\n",
    "                        x_scaled is in  [-1,1]"
   ]
  },
  {
   "cell_type": "code",
   "execution_count": 11,
   "id": "e237e301",
   "metadata": {},
   "outputs": [],
   "source": [
    "means = X_train.mean()\n",
    "ranges = X_train.max() - X_train.min()\n",
    "\n",
    "X_train_scaled = (X_train - means) / ranges\n",
    "X_test_scaled = (X_test - means) / ranges"
   ]
  },
  {
   "cell_type": "markdown",
   "id": "2c6009c0",
   "metadata": {},
   "source": [
    "### 7.3 Scaling to the Maximum and Minimum Values\n",
    "                        x_scaled = (x - min) / (max - min) \n",
    "                        \n",
    "                        x_scaled is in [0,1]"
   ]
  },
  {
   "cell_type": "code",
   "execution_count": null,
   "id": "ef98e5ff",
   "metadata": {},
   "outputs": [],
   "source": [
    "from sklearn.preprocessing import MinMaxScaler"
   ]
  },
  {
   "cell_type": "markdown",
   "id": "6f9b09cc",
   "metadata": {},
   "source": [
    "### 7.4 Maximum Absolute Scaling\n",
    "                        x_scaled = x / max\n",
    "                        \n",
    "                        x_scaled is in [0,1]"
   ]
  },
  {
   "cell_type": "code",
   "execution_count": null,
   "id": "f3461880",
   "metadata": {},
   "outputs": [],
   "source": [
    "from sklearn.preprocessing import MaxAbsScaler"
   ]
  },
  {
   "cell_type": "markdown",
   "id": "2deaa5ae",
   "metadata": {},
   "source": [
    "### 7.5 Scaling with the Median and Quantiles\n",
    "\n",
    "This method is known as robust scaling because it produces more robust estimates for the center and value range of the variable, and is recommended if the data contains outliers. \n",
    "\n",
    "                        x_scaled = x - meadian / (75th quantile - 25th quantile)\n",
    "                        \n",
    "                        x_scaled is in [0,1]"
   ]
  },
  {
   "cell_type": "code",
   "execution_count": null,
   "id": "1f96c2b9",
   "metadata": {},
   "outputs": [],
   "source": [
    "from sklearn.preprocessing import RobustScaler"
   ]
  },
  {
   "cell_type": "markdown",
   "id": "034bf7e2",
   "metadata": {},
   "source": [
    "## ========================================================================\n",
    "## <a id=8> 8. Applying Mathematical Computations to Features </a>\n",
    "\n",
    "Mathematical functions are usually derived via domain knowledge of the industry. But We can also combine variables automatically, by creating polynomial combinations of the existing variables in the dataset or by algorithms such as decision trees and Principal Component Analysis (PCA). \n",
    "\n",
    "1. Combining multiple features with statistical operations\n",
    "2. Polynomial expansion (sklearn.preprocessing PolynomialFeatures) (skip)\n",
    "3. Deriving new features with decision trees\n",
    "4. Principal Component Analysis\n",
    "\n",
    "### 8.1 Combining multiple features with statistical operations"
   ]
  },
  {
   "cell_type": "code",
   "execution_count": 13,
   "id": "980f63bd",
   "metadata": {},
   "outputs": [],
   "source": [
    "from sklearn.datasets import load_breast_cancer"
   ]
  },
  {
   "cell_type": "code",
   "execution_count": 14,
   "id": "aa0a40d7",
   "metadata": {
    "scrolled": true
   },
   "outputs": [
    {
     "data": {
      "text/html": [
       "<div>\n",
       "<style scoped>\n",
       "    .dataframe tbody tr th:only-of-type {\n",
       "        vertical-align: middle;\n",
       "    }\n",
       "\n",
       "    .dataframe tbody tr th {\n",
       "        vertical-align: top;\n",
       "    }\n",
       "\n",
       "    .dataframe thead th {\n",
       "        text-align: right;\n",
       "    }\n",
       "</style>\n",
       "<table border=\"1\" class=\"dataframe\">\n",
       "  <thead>\n",
       "    <tr style=\"text-align: right;\">\n",
       "      <th></th>\n",
       "      <th>mean radius</th>\n",
       "      <th>mean texture</th>\n",
       "      <th>mean perimeter</th>\n",
       "      <th>mean area</th>\n",
       "      <th>mean smoothness</th>\n",
       "      <th>mean compactness</th>\n",
       "      <th>mean concavity</th>\n",
       "      <th>mean concave points</th>\n",
       "      <th>mean symmetry</th>\n",
       "      <th>mean fractal dimension</th>\n",
       "      <th>...</th>\n",
       "      <th>worst texture</th>\n",
       "      <th>worst perimeter</th>\n",
       "      <th>worst area</th>\n",
       "      <th>worst smoothness</th>\n",
       "      <th>worst compactness</th>\n",
       "      <th>worst concavity</th>\n",
       "      <th>worst concave points</th>\n",
       "      <th>worst symmetry</th>\n",
       "      <th>worst fractal dimension</th>\n",
       "      <th>target</th>\n",
       "    </tr>\n",
       "  </thead>\n",
       "  <tbody>\n",
       "    <tr>\n",
       "      <th>0</th>\n",
       "      <td>17.99</td>\n",
       "      <td>10.38</td>\n",
       "      <td>122.8</td>\n",
       "      <td>1001.0</td>\n",
       "      <td>0.11840</td>\n",
       "      <td>0.27760</td>\n",
       "      <td>0.3001</td>\n",
       "      <td>0.14710</td>\n",
       "      <td>0.2419</td>\n",
       "      <td>0.07871</td>\n",
       "      <td>...</td>\n",
       "      <td>17.33</td>\n",
       "      <td>184.6</td>\n",
       "      <td>2019.0</td>\n",
       "      <td>0.1622</td>\n",
       "      <td>0.6656</td>\n",
       "      <td>0.7119</td>\n",
       "      <td>0.2654</td>\n",
       "      <td>0.4601</td>\n",
       "      <td>0.11890</td>\n",
       "      <td>0</td>\n",
       "    </tr>\n",
       "    <tr>\n",
       "      <th>1</th>\n",
       "      <td>20.57</td>\n",
       "      <td>17.77</td>\n",
       "      <td>132.9</td>\n",
       "      <td>1326.0</td>\n",
       "      <td>0.08474</td>\n",
       "      <td>0.07864</td>\n",
       "      <td>0.0869</td>\n",
       "      <td>0.07017</td>\n",
       "      <td>0.1812</td>\n",
       "      <td>0.05667</td>\n",
       "      <td>...</td>\n",
       "      <td>23.41</td>\n",
       "      <td>158.8</td>\n",
       "      <td>1956.0</td>\n",
       "      <td>0.1238</td>\n",
       "      <td>0.1866</td>\n",
       "      <td>0.2416</td>\n",
       "      <td>0.1860</td>\n",
       "      <td>0.2750</td>\n",
       "      <td>0.08902</td>\n",
       "      <td>0</td>\n",
       "    </tr>\n",
       "  </tbody>\n",
       "</table>\n",
       "<p>2 rows × 31 columns</p>\n",
       "</div>"
      ],
      "text/plain": [
       "   mean radius  mean texture  mean perimeter  mean area  mean smoothness  \\\n",
       "0        17.99         10.38           122.8     1001.0          0.11840   \n",
       "1        20.57         17.77           132.9     1326.0          0.08474   \n",
       "\n",
       "   mean compactness  mean concavity  mean concave points  mean symmetry  \\\n",
       "0           0.27760          0.3001              0.14710         0.2419   \n",
       "1           0.07864          0.0869              0.07017         0.1812   \n",
       "\n",
       "   mean fractal dimension  ...  worst texture  worst perimeter  worst area  \\\n",
       "0                 0.07871  ...          17.33            184.6      2019.0   \n",
       "1                 0.05667  ...          23.41            158.8      1956.0   \n",
       "\n",
       "   worst smoothness  worst compactness  worst concavity  worst concave points  \\\n",
       "0            0.1622             0.6656           0.7119                0.2654   \n",
       "1            0.1238             0.1866           0.2416                0.1860   \n",
       "\n",
       "   worst symmetry  worst fractal dimension  target  \n",
       "0          0.4601                  0.11890       0  \n",
       "1          0.2750                  0.08902       0  \n",
       "\n",
       "[2 rows x 31 columns]"
      ]
     },
     "execution_count": 14,
     "metadata": {},
     "output_type": "execute_result"
    }
   ],
   "source": [
    "data = load_breast_cancer()\n",
    "df = pd.DataFrame(data.data, columns=data.feature_names)\n",
    "df['target'] = data.target\n",
    "df.head(2)"
   ]
  },
  {
   "cell_type": "code",
   "execution_count": 18,
   "id": "338abe97",
   "metadata": {},
   "outputs": [
    {
     "data": {
      "text/html": [
       "<div>\n",
       "<style scoped>\n",
       "    .dataframe tbody tr th:only-of-type {\n",
       "        vertical-align: middle;\n",
       "    }\n",
       "\n",
       "    .dataframe tbody tr th {\n",
       "        vertical-align: top;\n",
       "    }\n",
       "\n",
       "    .dataframe thead th {\n",
       "        text-align: right;\n",
       "    }\n",
       "</style>\n",
       "<table border=\"1\" class=\"dataframe\">\n",
       "  <thead>\n",
       "    <tr style=\"text-align: right;\">\n",
       "      <th></th>\n",
       "      <th>sum</th>\n",
       "      <th>prod</th>\n",
       "      <th>mean</th>\n",
       "      <th>std</th>\n",
       "      <th>max</th>\n",
       "      <th>min</th>\n",
       "    </tr>\n",
       "  </thead>\n",
       "  <tbody>\n",
       "    <tr>\n",
       "      <th>0</th>\n",
       "      <td>1.08510</td>\n",
       "      <td>0.000351</td>\n",
       "      <td>0.21702</td>\n",
       "      <td>0.080321</td>\n",
       "      <td>0.3001</td>\n",
       "      <td>0.11840</td>\n",
       "    </tr>\n",
       "    <tr>\n",
       "      <th>1</th>\n",
       "      <td>0.50165</td>\n",
       "      <td>0.000007</td>\n",
       "      <td>0.10033</td>\n",
       "      <td>0.045671</td>\n",
       "      <td>0.1812</td>\n",
       "      <td>0.07017</td>\n",
       "    </tr>\n",
       "  </tbody>\n",
       "</table>\n",
       "</div>"
      ],
      "text/plain": [
       "       sum      prod     mean       std     max      min\n",
       "0  1.08510  0.000351  0.21702  0.080321  0.3001  0.11840\n",
       "1  0.50165  0.000007  0.10033  0.045671  0.1812  0.07017"
      ]
     },
     "execution_count": 18,
     "metadata": {},
     "output_type": "execute_result"
    }
   ],
   "source": [
    "features = ['mean smoothness', 'mean compactness','mean concavity', 'mean concave points','mean symmetry']\n",
    "\n",
    "#All in one Line\n",
    "df_t = df[features].agg(['sum','prod','mean','std', 'max', 'min'], axis='columns')\n",
    "df_t.head(2)"
   ]
  },
  {
   "cell_type": "code",
   "execution_count": 26,
   "id": "2cb1f63e",
   "metadata": {},
   "outputs": [
    {
     "data": {
      "image/png": "[encoded data removed]",
      "text/plain": [
       "<Figure size 432x288 with 1 Axes>"
      ]
     },
     "metadata": {
      "needs_background": "light"
     },
     "output_type": "display_data"
    }
   ],
   "source": [
    "#we can check wether added features provide valuable information or not\n",
    "#here the distribution of the 'sum' feature is different between cancerous and normal tumors\n",
    "sns.violinplot(x=df['target'], y=df_t['sum'], data=df);"
   ]
  },
  {
   "cell_type": "markdown",
   "id": "0f6ba610",
   "metadata": {},
   "source": [
    "### 8.3 Feature Generation with Decision Trees (linear)\n",
    "\n",
    "In the winning solution of the KDD competition in 2009, the authors created new features by combining two or more variables using decision trees and then used those variables to train the winning predictive model. This technique is particularly useful to derive features that are monotonic with the target, which is convenient for linear models. The procedure consists of building a decision tree using a subset of the features, typically two or three at a time, and then using the prediction of the tree as a new feature.\n",
    "\n",
    "Creating new features with decision trees not only creates monotonic relationships between features and target, but it also captures feature interactions, which is useful when building models that do not do so automatically, such as linear models."
   ]
  },
  {
   "cell_type": "code",
   "execution_count": 27,
   "id": "6300847b",
   "metadata": {},
   "outputs": [],
   "source": [
    "from sklearn.tree import DecisionTreeRegressor\n",
    "from sklearn.model_selection import GridSearchCV"
   ]
  },
  {
   "cell_type": "code",
   "execution_count": null,
   "id": "5cc0f70f",
   "metadata": {},
   "outputs": [],
   "source": [
    "tree_model = GridSearchCV(DecisionTreeRegressor(random_state=0),\n",
    "                          cv = 5,\n",
    "                          scoring = 'neg_mean_squared_error',\n",
    "                          param_grid = {'max_depth': [3, 4, None]})"
   ]
  },
  {
   "cell_type": "code",
   "execution_count": null,
   "id": "b2cc5b5b",
   "metadata": {},
   "outputs": [],
   "source": [
    "tree_model.fit(X_train[['LSTAT', 'RM', 'NOX']], y_train)"
   ]
  },
  {
   "cell_type": "code",
   "execution_count": null,
   "id": "03a95072",
   "metadata": {},
   "outputs": [],
   "source": [
    "X_train['new_feat'] = tree_model.predict(X_train[['LSTAT', 'RM','NOX']])\n",
    "X_test['new_feat'] = tree_model.predict(X_test[['LSTAT', 'RM','NOX']])"
   ]
  },
  {
   "cell_type": "markdown",
   "id": "66824e10",
   "metadata": {},
   "source": [
    "### 8.4 Principal Component Analysis (linear)\n",
    "\n",
    "PCA is a dimensionality reduction technique used to reduce a high dimensional dataset into a smaller subset of Principal Components (PC), which explain most of the variability observed in the original data. \n",
    "\n",
    "The first PC of the data is a vector along which the observations vary the most, or in other words, a linear combination of the variables in the dataset that maximizes the variance. Mathematically, the first PC minimizes the sum of the squared distances between each observation and the PC. \n",
    "\n",
    "The second PC is again a linear combination of the original variables, which captures the largest remaining variance and is subject to the constraint that is perpendicular to the first PC.\n",
    "\n",
    "In general, each PC is a linear combination of the variables, orthogonal to the other components, and maximizes the remaining variance, which is left unexplained by previous PCs. It is often possible for a few of the first PCs to capture most of the information of the original data, as well as most of its relationships to the target.\n",
    "\n",
    "#### Notes\n",
    "- PCA is a <b>linear projection</b>\n",
    "- It involves calculating the SVD --> Computationally expensive for > a few 1000 features.\n",
    "- Very useful as a preprocessing step when there are linear correlations between features.\n",
    "- Outcome is uninterpretable (most of the time, we don't know what concept the eigenvectors represent)\n",
    "- Discards information from data, so can be less accurate.\n",
    "- Often used in: anomaly detection, financial modeling (find correlated stocks),..."
   ]
  },
  {
   "cell_type": "code",
   "execution_count": 2,
   "id": "d257e439",
   "metadata": {},
   "outputs": [],
   "source": [
    "from sklearn.decomposition import PCA"
   ]
  },
  {
   "cell_type": "code",
   "execution_count": 29,
   "id": "e620c463",
   "metadata": {},
   "outputs": [],
   "source": [
    "pca = PCA(n_components=None)\n",
    "pca.fit(X_train)\n",
    "\n",
    "train_t = pca.transform(X_train)\n",
    "test_t = pca.transform(X_test)"
   ]
  },
  {
   "cell_type": "markdown",
   "id": "9c142303",
   "metadata": {},
   "source": [
    "When creating principal components, a few of the components will capture most of the variability of the original data. To identify how many components capture most of the variability in the Boston House Prices dataset, we can plot the percentage of variance explained (by each component) versus the component number.\n",
    "\n",
    "We can see that the first two components capture most of the variability of the data. Therefore, we can use the first two components to train our machine learning models using a linear model."
   ]
  },
  {
   "cell_type": "code",
   "execution_count": 31,
   "id": "485e3170",
   "metadata": {
    "scrolled": true
   },
   "outputs": [
    {
     "data": {
      "image/png": "[encoded data removed]",
      "text/plain": [
       "<Figure size 432x288 with 1 Axes>"
      ]
     },
     "metadata": {
      "needs_background": "light"
     },
     "output_type": "display_data"
    }
   ],
   "source": [
    "plt.plot(pca.explained_variance_ratio_)\n",
    "plt.title('Percentage of Variance Explained')\n",
    "plt.xlabel('Number of Components')\n",
    "plt.ylabel('Percentage of Variance Explained');"
   ]
  },
  {
   "cell_type": "markdown",
   "id": "eb63662e",
   "metadata": {},
   "source": [
    "### 8.5 Non-linear Feature Generation with k-means\n",
    "\n",
    "- PCA is useful when data lies in a linear subspace, but if the data forms a more complicated shape we need to use a non-linear featurization technic.\n",
    "- Non-linear dimensionality reduction assumes that the manifold (multi dimensional shape formed by our data) is simpler than the full dimensiob it occupies and attempts to unfold it.\n",
    "- The key is that even if the manifold is complicated, the local neighborhood around each point can often be approximated with a patch of flat surface.\n",
    "- With clustering, a datapoint can be represented by its cluster's vector.\n",
    "- We want to get to a smaller amount of features which represent the spatial characteristics of the data. Note that sometimes clustering may produce more features??\n",
    "- Below we use One-Hot Cluster membership as a new feature. but instead of one-hot cluster membership, a data point can also be represented by a dense vector of its inverse distance to each cluster center. This retains more information than simple binary cluster assignment, but is computationally expensive.\n",
    "- Using k-means to turn spatial data into features is an example of model stacking, where the input to one model is the output of another. Another example of stacking is to use the output of a decision tree–type model (random forest or gradient boosting tree) as input to a linear classifier.\n",
    "- The key intuition with stacking is to push the nonlinearities into the features and use a very simple, usually linear model as the last layer."
   ]
  },
  {
   "cell_type": "code",
   "execution_count": 53,
   "id": "ff2067e8",
   "metadata": {},
   "outputs": [],
   "source": [
    "from sklearn.cluster import KMeans\n",
    "from sklearn.linear_model import LogisticRegression\n",
    "from sklearn.svm import SVC\n",
    "from sklearn.neighbors import KNeighborsClassifier\n",
    "from sklearn.ensemble import RandomForestClassifier, GradientBoostingClassifier"
   ]
  },
  {
   "cell_type": "code",
   "execution_count": 61,
   "id": "251f4219",
   "metadata": {},
   "outputs": [],
   "source": [
    "from sklearn import manifold, datasets\n",
    "from sklearn.datasets import make_moons\n",
    "from sklearn.metrics import roc_curve\n",
    "from mpl_toolkits.mplot3d import Axes3D"
   ]
  },
  {
   "cell_type": "code",
   "execution_count": 16,
   "id": "e675c643",
   "metadata": {},
   "outputs": [
    {
     "data": {
      "text/plain": [
       "<mpl_toolkits.mplot3d.art3d.Path3DCollection at 0x1bc5aee90a0>"
      ]
     },
     "execution_count": 16,
     "metadata": {},
     "output_type": "execute_result"
    },
    {
     "data": {
      "image/png": "[encoded data removed]",
      "text/plain": [
       "<Figure size 432x288 with 1 Axes>"
      ]
     },
     "metadata": {
      "needs_background": "light"
     },
     "output_type": "display_data"
    }
   ],
   "source": [
    "#VISUALIZATION OF CLUSTERS\n",
    "#generate a swiss roll dataset\n",
    "X, color = datasets.make_swiss_roll(n_samples=1500)\n",
    "\n",
    "#approximate the data with 100 k-means clusters\n",
    "clusters_swiss_roll = KMeans(n_clusters=100, random_state=1).fit_predict(X)\n",
    "\n",
    "#plot\n",
    "fig = plt.figure()\n",
    "ax = fig.add_subplot(111,projection='3d')\n",
    "ax.scatter(X[:,0],X[:,1],X[:,2],c=clusters_swiss_roll,cmap='Spectral')"
   ]
  },
  {
   "cell_type": "code",
   "execution_count": 114,
   "id": "616f7609",
   "metadata": {},
   "outputs": [
    {
     "data": {
      "text/html": [
       "<div>\n",
       "<style scoped>\n",
       "    .dataframe tbody tr th:only-of-type {\n",
       "        vertical-align: middle;\n",
       "    }\n",
       "\n",
       "    .dataframe tbody tr th {\n",
       "        vertical-align: top;\n",
       "    }\n",
       "\n",
       "    .dataframe thead th {\n",
       "        text-align: right;\n",
       "    }\n",
       "</style>\n",
       "<table border=\"1\" class=\"dataframe\">\n",
       "  <thead>\n",
       "    <tr style=\"text-align: right;\">\n",
       "      <th></th>\n",
       "      <th>X1</th>\n",
       "      <th>X2</th>\n",
       "      <th>Y</th>\n",
       "    </tr>\n",
       "  </thead>\n",
       "  <tbody>\n",
       "    <tr>\n",
       "      <th>0</th>\n",
       "      <td>-0.404824</td>\n",
       "      <td>0.857653</td>\n",
       "      <td>0</td>\n",
       "    </tr>\n",
       "    <tr>\n",
       "      <th>1</th>\n",
       "      <td>1.342280</td>\n",
       "      <td>-0.478913</td>\n",
       "      <td>1</td>\n",
       "    </tr>\n",
       "  </tbody>\n",
       "</table>\n",
       "</div>"
      ],
      "text/plain": [
       "         X1        X2  Y\n",
       "0 -0.404824  0.857653  0\n",
       "1  1.342280 -0.478913  1"
      ]
     },
     "execution_count": 114,
     "metadata": {},
     "output_type": "execute_result"
    }
   ],
   "source": [
    "#CLUSTER FEATURE GENERATION\n",
    "#Generate training data\n",
    "train_data, train_labels = make_moons(n_samples=2000,noise=0.2)\n",
    "\n",
    "#Generate the test data\n",
    "test_data, test_labels = make_moons(n_samples=2000,noise=0.3)\n",
    "\n",
    "pd.DataFrame({'X1':train_data[:,0],'X2':train_data[:,1],'Y':train_labels}).head(2)"
   ]
  },
  {
   "cell_type": "code",
   "execution_count": 125,
   "id": "50743a12",
   "metadata": {},
   "outputs": [
    {
     "data": {
      "text/plain": [
       "<matplotlib.collections.PathCollection at 0x1bc60222760>"
      ]
     },
     "execution_count": 125,
     "metadata": {},
     "output_type": "execute_result"
    },
    {
     "data": {
      "image/png": "[encoded data removed]",
      "text/plain": [
       "<Figure size 432x288 with 1 Axes>"
      ]
     },
     "metadata": {
      "needs_background": "light"
     },
     "output_type": "display_data"
    }
   ],
   "source": [
    "#Fit and train the k means model\n",
    "km_model = KMeans(n_clusters=100,n_init=20)\n",
    "km_model.fit(train_data)\n",
    "\n",
    "#ONE-HOT CLUSTER MEMBERSHIP\n",
    "#Generated cluster based train and test features = closest cluster ID to each datapoint\n",
    "train_cluster_features = km_model.predict(train_data)[:,np.newaxis] #np.newaxis adds a new dimension <=> reshape()\n",
    "test_cluster_features = km_model.predict(test_data)[:,np.newaxis]\n",
    "\n",
    "#Add the cluster features to the existing features\n",
    "train_with_cluster = np.hstack((train_data,train_cluster_features))\n",
    "test_with_cluster = np.hstack((test_data,test_cluster_features))\n",
    "\n",
    "\n",
    "plt.scatter(train_data[:,0],train_data[:,1],c=train_cluster_features)"
   ]
  },
  {
   "cell_type": "code",
   "execution_count": 126,
   "id": "8b7f4241",
   "metadata": {},
   "outputs": [
    {
     "data": {
      "text/html": [
       "<div>\n",
       "<style scoped>\n",
       "    .dataframe tbody tr th:only-of-type {\n",
       "        vertical-align: middle;\n",
       "    }\n",
       "\n",
       "    .dataframe tbody tr th {\n",
       "        vertical-align: top;\n",
       "    }\n",
       "\n",
       "    .dataframe thead th {\n",
       "        text-align: right;\n",
       "    }\n",
       "</style>\n",
       "<table border=\"1\" class=\"dataframe\">\n",
       "  <thead>\n",
       "    <tr style=\"text-align: right;\">\n",
       "      <th></th>\n",
       "      <th>X1</th>\n",
       "      <th>X2</th>\n",
       "      <th>X_clusters</th>\n",
       "    </tr>\n",
       "  </thead>\n",
       "  <tbody>\n",
       "    <tr>\n",
       "      <th>0</th>\n",
       "      <td>-0.343892</td>\n",
       "      <td>-0.141909</td>\n",
       "      <td>19.0</td>\n",
       "    </tr>\n",
       "    <tr>\n",
       "      <th>1</th>\n",
       "      <td>0.855038</td>\n",
       "      <td>-0.059154</td>\n",
       "      <td>60.0</td>\n",
       "    </tr>\n",
       "    <tr>\n",
       "      <th>2</th>\n",
       "      <td>-0.855228</td>\n",
       "      <td>0.772830</td>\n",
       "      <td>55.0</td>\n",
       "    </tr>\n",
       "    <tr>\n",
       "      <th>3</th>\n",
       "      <td>2.089166</td>\n",
       "      <td>0.369950</td>\n",
       "      <td>30.0</td>\n",
       "    </tr>\n",
       "    <tr>\n",
       "      <th>4</th>\n",
       "      <td>-0.467744</td>\n",
       "      <td>0.742311</td>\n",
       "      <td>79.0</td>\n",
       "    </tr>\n",
       "  </tbody>\n",
       "</table>\n",
       "</div>"
      ],
      "text/plain": [
       "         X1        X2  X_clusters\n",
       "0 -0.343892 -0.141909        19.0\n",
       "1  0.855038 -0.059154        60.0\n",
       "2 -0.855228  0.772830        55.0\n",
       "3  2.089166  0.369950        30.0\n",
       "4 -0.467744  0.742311        79.0"
      ]
     },
     "execution_count": 126,
     "metadata": {},
     "output_type": "execute_result"
    }
   ],
   "source": [
    "pd.DataFrame(test_with_cluster,columns=['X1','X2','X_clusters']).head()"
   ]
  },
  {
   "cell_type": "code",
   "execution_count": 127,
   "id": "9db91891",
   "metadata": {},
   "outputs": [],
   "source": [
    "#CLASSIFICATION USING EXISTING FEATURES+FEATURES WITH CLLUSTERS\n",
    "# we use the LogisticRegression model\n",
    "lr_cluster = LogisticRegression().fit(train_with_cluster,train_labels)\n",
    "\n",
    "#CLASSIFICATION USING EXISTING FEATURES ONLY\n",
    "\n",
    "#classifier_names = ['LR','kNN','RBF SVM','Random Forest','Boosted Trees']\n",
    "classifier_names = ['LR']\n",
    "\n",
    "#classifiers = [LogisticRegression(),\n",
    "#               KNeighborsClassifier(5),\n",
    "#               SVC(gamma=2,C=1),\n",
    "#               RandomForestClassifier(max_depth=5,n_estimators=10,max_features=1),\n",
    "#               GradientBoostingClassifier(n_estimators=10,learning_rate=1,max_depth=5)]\n",
    "\n",
    "classifiers = [LogisticRegression()]\n",
    "\n",
    "for model in classifiers:\n",
    "    model.fit(train_data,train_labels)"
   ]
  },
  {
   "cell_type": "code",
   "execution_count": 128,
   "id": "a9910b1a",
   "metadata": {},
   "outputs": [],
   "source": [
    "#Helper function to evaluate classifier performance using ROC\n",
    "def test_roc(model,data,labels):\n",
    "    if hasattr(model,\"decision_function\"):\n",
    "        predictions = model.decision_function(data)\n",
    "    else:\n",
    "        predictions = model.predict_proba(data)[:,1]\n",
    "    fpr, tpr, _ = roc_curve(labels,predictions)\n",
    "    \n",
    "    return fpr, tpr"
   ]
  },
  {
   "cell_type": "code",
   "execution_count": 129,
   "id": "d683a226",
   "metadata": {},
   "outputs": [
    {
     "data": {
      "image/png": "[encoded data removed]",
      "text/plain": [
       "<Figure size 864x432 with 1 Axes>"
      ]
     },
     "metadata": {
      "needs_background": "light"
     },
     "output_type": "display_data"
    }
   ],
   "source": [
    "#PLOT RESULTS: LR with k-means features is supposed to do better than LR But I don't see the difference (^^??)\n",
    "plt.figure(figsize=(12,6))\n",
    "fpr_cluster, tpr_cluster = test_roc(lr_cluster, test_with_cluster, test_labels)\n",
    "plt.plot(fpr_cluster, tpr_cluster, 'r-', label='LR with k-means')\n",
    "\n",
    "for i, model in enumerate(classifiers):\n",
    "    fpr, tpr = test_roc(model, test_data, test_labels)\n",
    "    plt.plot(fpr, tpr, label=classifier_names[i])\n",
    "plt.plot([0, 1], [0, 1], 'k--')\n",
    "plt.legend();"
   ]
  },
  {
   "cell_type": "markdown",
   "id": "ca2dea84",
   "metadata": {},
   "source": [
    "## ========================================================================\n",
    "## <a id=9> 9. Feature Generation with Transactional and Time Series Data </a>\n",
    "\n",
    "1. Aggregating transactions with mathematical operations (groupby().agg([operations]) (skipped)\n",
    "2. Aggregating transactions in a time window\n",
    "3. Determining the number of local maxima and minima\n",
    "4. Deriving time elapsed between time-stamped events\n",
    "5. Deriving Features from Date and Time Variables\n",
    "\n",
    "### 9.1 Aggregating Transactions in a Time Window (Moving Average)\n",
    "When we want to predict an event at a certain point in time, often, transactions or values closer to the event tend to be more relevant. \n",
    "\n",
    "We can use mathematical operations to summarize historical data, just like in (10.1), but only for a certain temporal window. This way, we can create features such as the maximum amount spent in the last week or the number of transactions in the last month,... "
   ]
  },
  {
   "cell_type": "code",
   "execution_count": 38,
   "id": "3d775cc4",
   "metadata": {},
   "outputs": [
    {
     "data": {
      "text/html": [
       "<div>\n",
       "<style scoped>\n",
       "    .dataframe tbody tr th:only-of-type {\n",
       "        vertical-align: middle;\n",
       "    }\n",
       "\n",
       "    .dataframe tbody tr th {\n",
       "        vertical-align: top;\n",
       "    }\n",
       "\n",
       "    .dataframe thead th {\n",
       "        text-align: right;\n",
       "    }\n",
       "</style>\n",
       "<table border=\"1\" class=\"dataframe\">\n",
       "  <thead>\n",
       "    <tr style=\"text-align: right;\">\n",
       "      <th></th>\n",
       "      <th>date</th>\n",
       "      <th>Appliances</th>\n",
       "      <th>lights</th>\n",
       "    </tr>\n",
       "  </thead>\n",
       "  <tbody>\n",
       "    <tr>\n",
       "      <th>0</th>\n",
       "      <td>2016-01-11 17:00:00</td>\n",
       "      <td>60</td>\n",
       "      <td>30</td>\n",
       "    </tr>\n",
       "    <tr>\n",
       "      <th>1</th>\n",
       "      <td>2016-01-11 17:10:00</td>\n",
       "      <td>60</td>\n",
       "      <td>30</td>\n",
       "    </tr>\n",
       "  </tbody>\n",
       "</table>\n",
       "</div>"
      ],
      "text/plain": [
       "                 date  Appliances  lights\n",
       "0 2016-01-11 17:00:00          60      30\n",
       "1 2016-01-11 17:10:00          60      30"
      ]
     },
     "execution_count": 38,
     "metadata": {},
     "output_type": "execute_result"
    }
   ],
   "source": [
    "cols = ['date', 'Appliances', 'lights']\n",
    "data = pd.read_csv('energydata_complete.csv', usecols=cols)\n",
    "data['date'] = pd.to_datetime(data['date'])\n",
    "data.head(2)"
   ]
  },
  {
   "cell_type": "code",
   "execution_count": 41,
   "id": "f770c837",
   "metadata": {},
   "outputs": [],
   "source": [
    "#Features that captures the average energy consumption by appliances and lights in the last 60 minutes (6 observations)\n",
    "data_rolled = data.rolling(window=6,on='date').mean()\n",
    "#or\n",
    "operations_dict = {'Appliances':['sum','max','min'],'lights':['mean','median','std']}\n",
    "data_rolled = data.rolling(window=6).agg(operations_dict)"
   ]
  },
  {
   "cell_type": "code",
   "execution_count": 43,
   "id": "dacbcf4f",
   "metadata": {},
   "outputs": [
    {
     "data": {
      "text/html": [
       "<div>\n",
       "<style scoped>\n",
       "    .dataframe tbody tr th:only-of-type {\n",
       "        vertical-align: middle;\n",
       "    }\n",
       "\n",
       "    .dataframe tbody tr th {\n",
       "        vertical-align: top;\n",
       "    }\n",
       "\n",
       "    .dataframe thead tr th {\n",
       "        text-align: left;\n",
       "    }\n",
       "</style>\n",
       "<table border=\"1\" class=\"dataframe\">\n",
       "  <thead>\n",
       "    <tr>\n",
       "      <th></th>\n",
       "      <th colspan=\"3\" halign=\"left\">Appliances</th>\n",
       "      <th colspan=\"3\" halign=\"left\">lights</th>\n",
       "    </tr>\n",
       "    <tr>\n",
       "      <th></th>\n",
       "      <th>sum</th>\n",
       "      <th>max</th>\n",
       "      <th>min</th>\n",
       "      <th>mean</th>\n",
       "      <th>median</th>\n",
       "      <th>std</th>\n",
       "    </tr>\n",
       "  </thead>\n",
       "  <tbody>\n",
       "    <tr>\n",
       "      <th>0</th>\n",
       "      <td>NaN</td>\n",
       "      <td>NaN</td>\n",
       "      <td>NaN</td>\n",
       "      <td>NaN</td>\n",
       "      <td>NaN</td>\n",
       "      <td>NaN</td>\n",
       "    </tr>\n",
       "    <tr>\n",
       "      <th>1</th>\n",
       "      <td>NaN</td>\n",
       "      <td>NaN</td>\n",
       "      <td>NaN</td>\n",
       "      <td>NaN</td>\n",
       "      <td>NaN</td>\n",
       "      <td>NaN</td>\n",
       "    </tr>\n",
       "    <tr>\n",
       "      <th>2</th>\n",
       "      <td>NaN</td>\n",
       "      <td>NaN</td>\n",
       "      <td>NaN</td>\n",
       "      <td>NaN</td>\n",
       "      <td>NaN</td>\n",
       "      <td>NaN</td>\n",
       "    </tr>\n",
       "    <tr>\n",
       "      <th>3</th>\n",
       "      <td>NaN</td>\n",
       "      <td>NaN</td>\n",
       "      <td>NaN</td>\n",
       "      <td>NaN</td>\n",
       "      <td>NaN</td>\n",
       "      <td>NaN</td>\n",
       "    </tr>\n",
       "    <tr>\n",
       "      <th>4</th>\n",
       "      <td>NaN</td>\n",
       "      <td>NaN</td>\n",
       "      <td>NaN</td>\n",
       "      <td>NaN</td>\n",
       "      <td>NaN</td>\n",
       "      <td>NaN</td>\n",
       "    </tr>\n",
       "    <tr>\n",
       "      <th>5</th>\n",
       "      <td>330.0</td>\n",
       "      <td>60.0</td>\n",
       "      <td>50.0</td>\n",
       "      <td>35.000000</td>\n",
       "      <td>35.0</td>\n",
       "      <td>5.477226</td>\n",
       "    </tr>\n",
       "    <tr>\n",
       "      <th>6</th>\n",
       "      <td>330.0</td>\n",
       "      <td>60.0</td>\n",
       "      <td>50.0</td>\n",
       "      <td>38.333333</td>\n",
       "      <td>40.0</td>\n",
       "      <td>7.527727</td>\n",
       "    </tr>\n",
       "    <tr>\n",
       "      <th>7</th>\n",
       "      <td>330.0</td>\n",
       "      <td>60.0</td>\n",
       "      <td>50.0</td>\n",
       "      <td>41.666667</td>\n",
       "      <td>40.0</td>\n",
       "      <td>7.527727</td>\n",
       "    </tr>\n",
       "    <tr>\n",
       "      <th>8</th>\n",
       "      <td>340.0</td>\n",
       "      <td>60.0</td>\n",
       "      <td>50.0</td>\n",
       "      <td>43.333333</td>\n",
       "      <td>40.0</td>\n",
       "      <td>5.163978</td>\n",
       "    </tr>\n",
       "    <tr>\n",
       "      <th>9</th>\n",
       "      <td>360.0</td>\n",
       "      <td>70.0</td>\n",
       "      <td>50.0</td>\n",
       "      <td>43.333333</td>\n",
       "      <td>40.0</td>\n",
       "      <td>5.163978</td>\n",
       "    </tr>\n",
       "  </tbody>\n",
       "</table>\n",
       "</div>"
      ],
      "text/plain": [
       "  Appliances                 lights                 \n",
       "         sum   max   min       mean median       std\n",
       "0        NaN   NaN   NaN        NaN    NaN       NaN\n",
       "1        NaN   NaN   NaN        NaN    NaN       NaN\n",
       "2        NaN   NaN   NaN        NaN    NaN       NaN\n",
       "3        NaN   NaN   NaN        NaN    NaN       NaN\n",
       "4        NaN   NaN   NaN        NaN    NaN       NaN\n",
       "5      330.0  60.0  50.0  35.000000   35.0  5.477226\n",
       "6      330.0  60.0  50.0  38.333333   40.0  7.527727\n",
       "7      330.0  60.0  50.0  41.666667   40.0  7.527727\n",
       "8      340.0  60.0  50.0  43.333333   40.0  5.163978\n",
       "9      360.0  70.0  50.0  43.333333   40.0  5.163978"
      ]
     },
     "execution_count": 43,
     "metadata": {},
     "output_type": "execute_result"
    }
   ],
   "source": [
    "data_rolled.head(10)"
   ]
  },
  {
   "cell_type": "markdown",
   "id": "efc837f0",
   "metadata": {},
   "source": [
    "### 9.2 Determining the Number of Local Maxima and Minima"
   ]
  },
  {
   "cell_type": "code",
   "execution_count": 45,
   "id": "297509e7",
   "metadata": {},
   "outputs": [],
   "source": [
    "from scipy.signal import find_peaks"
   ]
  },
  {
   "cell_type": "code",
   "execution_count": 90,
   "id": "521ab39d",
   "metadata": {},
   "outputs": [],
   "source": [
    "from scipy.signal import argrelextrema, argrelmin, argrelmax"
   ]
  },
  {
   "cell_type": "code",
   "execution_count": 46,
   "id": "ccef7255",
   "metadata": {},
   "outputs": [],
   "source": [
    "#we extract date, month, hour from the previous dataset\n",
    "data[['day', 'month', 'hr']] = pd.DataFrame([(x.day, x.month,x.hour) for x in data['date']])"
   ]
  },
  {
   "cell_type": "code",
   "execution_count": 50,
   "id": "b6879dae",
   "metadata": {},
   "outputs": [
    {
     "data": {
      "image/png": "[encoded data removed]",
      "text/plain": [
       "<Figure size 432x288 with 1 Axes>"
      ]
     },
     "metadata": {
      "needs_background": "light"
     },
     "output_type": "display_data"
    }
   ],
   "source": [
    "daily_ec = data.groupby(['month', 'day'])['Appliances'].mean()\n",
    "\n",
    "daily_ec.plot()\n",
    "plt.ylabel('Energy in Kh')\n",
    "plt.title('Mean daily Energy Consumption');"
   ]
  },
  {
   "cell_type": "code",
   "execution_count": 119,
   "id": "c77fb4d2",
   "metadata": {},
   "outputs": [],
   "source": [
    "#Method 1\n",
    "#get the local maxima, with the constraint that the local maxima can't show values below the 60kh baseline\n",
    "peaks, _ = find_peaks(daily_ec,height=60) #peaks= indexes of local maxima, _ = height of local maxima\n",
    "\n",
    "#get the local minima\n",
    "valleys, _ = find_peaks(1/daily_ec,height=(0,1/60)) #height is limited here"
   ]
  },
  {
   "cell_type": "code",
   "execution_count": 101,
   "id": "bcf2d972",
   "metadata": {},
   "outputs": [],
   "source": [
    "#Method 2\n",
    "# for local maxima\n",
    "peaks = argrelextrema(daily_ec.to_numpy(), np.greater)[0].reshape(1,-1)\n",
    "\n",
    "# for local minima\n",
    "valleys = argrelextrema(daily_ec.to_numpy(), np.less)[0].reshape(1,-1)"
   ]
  },
  {
   "cell_type": "code",
   "execution_count": 122,
   "id": "8e7169ec",
   "metadata": {},
   "outputs": [],
   "source": [
    "#Method 3\n",
    "# for local maxima\n",
    "peaks = argrelmax(daily_ec.to_numpy())[0].reshape(1,-1)\n",
    "\n",
    "# for local minima\n",
    "valleys = argrelmin(daily_ec.to_numpy())[0].reshape(1,-1)"
   ]
  },
  {
   "cell_type": "code",
   "execution_count": 123,
   "id": "7e5d3d67",
   "metadata": {},
   "outputs": [
    {
     "data": {
      "image/png": "[encoded data removed]",
      "text/plain": [
       "<Figure size 864x288 with 1 Axes>"
      ]
     },
     "metadata": {
      "needs_background": "light"
     },
     "output_type": "display_data"
    }
   ],
   "source": [
    "plt.figure(figsize=(12, 4))\n",
    "daily_ec.plot()\n",
    "plt.plot(peaks, daily_ec.values[peaks], \"o\", color='red')\n",
    "plt.plot(valleys, daily_ec.values[valleys], \"o\", color='green')\n",
    "plt.plot(np.full_like(daily_ec, 60), \"--\", color=\"gray\");"
   ]
  },
  {
   "cell_type": "markdown",
   "id": "54360441",
   "metadata": {},
   "source": [
    "### 9.3 Deriving Time Elapsed between Time-Stamped Events\n",
    "\n",
    "Earlier, we created new features that summarize information about the variable (mean, max,...). It is also possible to perform these mathematical operations over the time-stamp and obtain information about the time between transactions or the time between specific events.\n",
    "<br>Ex:<br>\n",
    "Time between successive records of the variable values.<br>\n",
    "Time between specific events, such as the time between peaks of energy consumption,..."
   ]
  },
  {
   "cell_type": "code",
   "execution_count": 128,
   "id": "c24dc1b2",
   "metadata": {},
   "outputs": [],
   "source": [
    "data['time_since_previous'] = data['date'].diff()\n",
    "\n",
    "#in minutes\n",
    "data['time_since_previous'] = data['time_since_previous']/np.timedelta64(1,'m')"
   ]
  },
  {
   "cell_type": "code",
   "execution_count": 131,
   "id": "5fb765fc",
   "metadata": {},
   "outputs": [
    {
     "data": {
      "text/html": [
       "<div>\n",
       "<style scoped>\n",
       "    .dataframe tbody tr th:only-of-type {\n",
       "        vertical-align: middle;\n",
       "    }\n",
       "\n",
       "    .dataframe tbody tr th {\n",
       "        vertical-align: top;\n",
       "    }\n",
       "\n",
       "    .dataframe thead th {\n",
       "        text-align: right;\n",
       "    }\n",
       "</style>\n",
       "<table border=\"1\" class=\"dataframe\">\n",
       "  <thead>\n",
       "    <tr style=\"text-align: right;\">\n",
       "      <th></th>\n",
       "      <th>date</th>\n",
       "      <th>Appliances</th>\n",
       "      <th>lights</th>\n",
       "      <th>day</th>\n",
       "      <th>month</th>\n",
       "      <th>hr</th>\n",
       "      <th>time_since_previous</th>\n",
       "    </tr>\n",
       "  </thead>\n",
       "  <tbody>\n",
       "    <tr>\n",
       "      <th>0</th>\n",
       "      <td>2016-01-11 17:00:00</td>\n",
       "      <td>60</td>\n",
       "      <td>30</td>\n",
       "      <td>11</td>\n",
       "      <td>1</td>\n",
       "      <td>17</td>\n",
       "      <td>NaN</td>\n",
       "    </tr>\n",
       "    <tr>\n",
       "      <th>1</th>\n",
       "      <td>2016-01-11 17:10:00</td>\n",
       "      <td>60</td>\n",
       "      <td>30</td>\n",
       "      <td>11</td>\n",
       "      <td>1</td>\n",
       "      <td>17</td>\n",
       "      <td>10.0</td>\n",
       "    </tr>\n",
       "  </tbody>\n",
       "</table>\n",
       "</div>"
      ],
      "text/plain": [
       "                 date  Appliances  lights  day  month  hr  time_since_previous\n",
       "0 2016-01-11 17:00:00          60      30   11      1  17                  NaN\n",
       "1 2016-01-11 17:10:00          60      30   11      1  17                 10.0"
      ]
     },
     "execution_count": 131,
     "metadata": {},
     "output_type": "execute_result"
    }
   ],
   "source": [
    "data.head(2)"
   ]
  },
  {
   "cell_type": "markdown",
   "id": "4b09ca67",
   "metadata": {},
   "source": [
    "### 9.4 Deriving Features from Date and Time Variables</a>\n",
    "\n",
    "1. Deriving representations of the year and month\n",
    "\n",
    "    Some events occur more often at certain times of the year, for example, recruitment rates, increase after Christmas and slow down toward the summer holidays in Europe. Businesses and organizations want to evaluate performance and objectives at regular intervals throughout the year, for example, at every quarter or every semester.\n",
    "    \n",
    "    \n",
    "2. Creating representations of day and week\n",
    "\n",
    "    Some events occur more often on certain days of the week, for example, loan applications occur more likely during the week than over weekends, whereas others occur more often during certain weeks of the year. Businesses and organizations may also want to track some key performance metrics throughout the week.\n",
    "\n",
    "\n",
    "3. Extracting time parts from a time variable\n",
    "\n",
    "    Some events occur more often at certain times of the day, for example, fraudulent activity occurs more likely during the night or early morning. Also, occasionally, organizations want to track whether an event occurred after another one, in a very short time window, for example, if sales increased on the back of displaying a TV or online advertisement."
   ]
  },
  {
   "cell_type": "code",
   "execution_count": 216,
   "id": "82609518",
   "metadata": {},
   "outputs": [
    {
     "data": {
      "text/html": [
       "<div>\n",
       "<style scoped>\n",
       "    .dataframe tbody tr th:only-of-type {\n",
       "        vertical-align: middle;\n",
       "    }\n",
       "\n",
       "    .dataframe tbody tr th {\n",
       "        vertical-align: top;\n",
       "    }\n",
       "\n",
       "    .dataframe thead th {\n",
       "        text-align: right;\n",
       "    }\n",
       "</style>\n",
       "<table border=\"1\" class=\"dataframe\">\n",
       "  <thead>\n",
       "    <tr style=\"text-align: right;\">\n",
       "      <th></th>\n",
       "      <th>date</th>\n",
       "    </tr>\n",
       "  </thead>\n",
       "  <tbody>\n",
       "    <tr>\n",
       "      <th>0</th>\n",
       "      <td>2019-03-05 00:00:00</td>\n",
       "    </tr>\n",
       "    <tr>\n",
       "      <th>1</th>\n",
       "      <td>2019-03-05 00:01:00</td>\n",
       "    </tr>\n",
       "    <tr>\n",
       "      <th>2</th>\n",
       "      <td>2019-03-05 00:02:00</td>\n",
       "    </tr>\n",
       "    <tr>\n",
       "      <th>3</th>\n",
       "      <td>2019-03-05 00:03:00</td>\n",
       "    </tr>\n",
       "    <tr>\n",
       "      <th>4</th>\n",
       "      <td>2019-03-05 00:04:00</td>\n",
       "    </tr>\n",
       "  </tbody>\n",
       "</table>\n",
       "</div>"
      ],
      "text/plain": [
       "                 date\n",
       "0 2019-03-05 00:00:00\n",
       "1 2019-03-05 00:01:00\n",
       "2 2019-03-05 00:02:00\n",
       "3 2019-03-05 00:03:00\n",
       "4 2019-03-05 00:04:00"
      ]
     },
     "execution_count": 216,
     "metadata": {},
     "output_type": "execute_result"
    }
   ],
   "source": [
    "rng_ = pd.date_range('2019-03-05', periods=20, freq='T')\n",
    "df = pd.DataFrame({'date': rng_})\n",
    "df.head()"
   ]
  },
  {
   "cell_type": "code",
   "execution_count": null,
   "id": "db70473a",
   "metadata": {},
   "outputs": [],
   "source": [
    "df['date'].dt.date[0]\n",
    "df['date'].dt.time[0]\n",
    "df['date'].dt.month[0]\n",
    "df['date'].dt.quarter[0] \n",
    "df['semester'] = np.where(df['quarter'].isin([1,2]), 1, 2)\n",
    "df['date'].dt.day[0]\n",
    "df['date'].dt.dayofweek[0]\n",
    "df['day_week_name'] = df['date'].dt.weekday_name\n",
    "df['is_weekend'] = np.where(df['day_week_name'].isin(['Sunday','Saturday']), 1, 0)\n",
    "df['date'].dt.week #from 1 to 52\n",
    "df['date'].dt.hour\n",
    "df['date'].dt.minute\n",
    "df['date'].dt.second\n",
    "df['is_morning'] = np.where( (df['hour'] < 12) & (df['hour'] > 6),1,0)\n",
    "df['elapsed_days'] = (df['date2'] - df['date1']).dt.days\n",
    "df['months_passed'] = ((df['date2'] - df['date1']) / np.timedelta64(1,'M'))\n",
    "df['months_passed'] = np.round(df['months_passed'],0)"
   ]
  },
  {
   "cell_type": "code",
   "execution_count": null,
   "id": "28c1dd74",
   "metadata": {},
   "outputs": [],
   "source": []
  }
 ],
 "metadata": {
  "kernelspec": {
   "display_name": "Python 3 (ipykernel)",
   "language": "python",
   "name": "python3"
  },
  "language_info": {
   "codemirror_mode": {
    "name": "ipython",
    "version": 3
   },
   "file_extension": ".py",
   "mimetype": "text/x-python",
   "name": "python",
   "nbconvert_exporter": "python",
   "pygments_lexer": "ipython3",
   "version": "3.8.8"
  }
 },
 "nbformat": 4,
 "nbformat_minor": 5
}
