{
 "cells": [
  {
   "cell_type": "code",
   "execution_count": 1,
   "id": "0b11ed2f",
   "metadata": {},
   "outputs": [],
   "source": [
    "import numpy as np\n",
    "import pandas as pd\n",
    "import matplotlib.pyplot as plt"
   ]
  },
  {
   "cell_type": "code",
   "execution_count": 2,
   "id": "7b728cc6",
   "metadata": {},
   "outputs": [],
   "source": [
    "from tensorflow import keras\n",
    "from tensorflow.keras.utils import timeseries_dataset_from_array\n",
    "from tensorflow.keras import Input, Model\n",
    "from tensorflow.keras.layers import Dense, Flatten, Conv1D, MaxPooling1D, GlobalAveragePooling1D, LSTM, GRU, SimpleRNN, Dropout\n",
    "from tensorflow.keras.callbacks import ModelCheckpoint"
   ]
  },
  {
   "cell_type": "markdown",
   "id": "960a1a1c",
   "metadata": {},
   "source": [
    "## Deep Learning with Python\n",
    "Chollet François\n",
    "\n",
    "<b>[1. Deep Learning Fundamentals](#1)<br></b>\n",
    "    1.1 Neural Network Composition<br>\n",
    "    1.2 Gradient Descent<br>\n",
    "    1.3 Activation Functions<br>\n",
    "    1.4 Real world examples of data tensors (inputs expected by NN models)<br>\n",
    "    1.5 Common-Sense Baseline<br>\n",
    "\n",
    "<b>[2. Improving the Model](#2)<br></b>\n",
    "    2.1 Improving model fit<br>\n",
    "    2.2 Improving Generalization<br>\n",
    "    3.3 Dropout<br>\n",
    "\n",
    "<b>[3. Regularization](#3)<br></b>\n",
    "    3.1 Reducing the network's size<br>\n",
    "    3.2 Adding Weights Regularization<br>\n",
    "\n",
    "<b>[4. Deep Learning for Classification ](#4)<br></b>\n",
    "    4.1 Binary Classification<br>\n",
    "    4.2 Multi-class Classification<br>\n",
    "\n",
    "<b>[5. Deep Learning for Regression](#5)<br></b>\n",
    "\n",
    "<b>[6. Deep Learning for Timeseries](#6)<br></b>\n",
    "    6.1 Train, Val, Test Datasets using Sliding Windows<br>\n",
    "    6.2 Evaluating a Base Naive Model<br>\n",
    "    6.3 Evaluating a Basic Machine Learning Model<br>\n",
    "    6.4 Evaluating a 1D Convolutional Model<br>\n",
    "    6.5 Evaluating a Basic LSTM based model<br>\n",
    "\n",
    "<b>[7. Recursive Neural Networks](#7)<br></b>\n",
    "    7.1 Simple RNN<br>\n",
    "    7.2 Recurrent Dropout<br>\n",
    "    7.3 Stacking RNNS<br>\n",
    "    7.4 Bidirectional RNNs<br>\n",
    "    7.5 Better improve the model<br>"
   ]
  },
  {
   "cell_type": "markdown",
   "id": "1e41e38a",
   "metadata": {},
   "source": [
    "### ⊷⊷⊷⊷⊷⊷⊷⊷⊷⊷⊷⊷⊷⊷⊷⊷⊷⊷⊷⊷⊷⊷⊷⊷⊷⊷⊷⊷⊷⊷⊷⊷⊷⊷⊷⊷⊷⊷⊷⊷⊷⊷⊷⊷⊷⊷⊷⊷⊷\n",
    "### <a id =1> 1. Deep Learning Fundamentals </a>\n",
    "\n",
    "#### 1.1 Neural Network Composition\n",
    "\n",
    "The model, composed of layers that are chained together, maps the input data to predictions. The loss function then compares these predictions to the targets, producing a loss value: a measure of how well the model’s predictions match what was expected. The optimizer uses this loss value to update the model’s weights.\n",
    "\n",
    "<img src='network.PNG' height=550 width=350>.\n",
    "\n",
    "- optimizer: the mechanism through which the model will update itself based on the training data it sees, so as to improve its performance. Determines how the network will be updated based on the loss function. It implements a specific variant of stochastic gradient descent (SGD). <i>rmsprop</i> is a usually a good default choice for virtually any problem.<br><br>\n",
    "    \n",
    "- loss function: how the model will be able to measure its performance on the training data, and thus how it will be able to steer itself in the right direction.<br><br>\n",
    "\n",
    "- metrics: The measures of success you want to monitor during training and validation, such as classification accuracy. Unlike the loss, training will not optimize directly for these metrics. As such, metrics don’t need to be differentiable.\n",
    "\n",
    "\n",
    "#### 1.2 Gradient Descent\n",
    "Gradient descent is done in mini-batches of samples (typically between 8 and 128) that are processed simultaneously by the model. The number of samples is\n",
    "often a power of 2, to facilitate memory allocation on GPU.\n",
    "\n",
    "#### 1.3 Activation Functions\n",
    "Without an activation function like relu (also called a non-linearity), the Dense(units=n) layer would consist of two linear operations—a dot product and an addition: output = dot(input,W)+b\n",
    "\n",
    "The layer could only learn linear transformations (affine transformations) of the input data: the hypothesis space of the layer would be the set of all possible linear transformations of the input data into a n-dimensional space. Such a hypothesis space is too restricted and wouldn’t benefit from multiple layers of representations, because a deep stack of linear layers would still implement a linear operation.\n",
    "\n",
    "In order to get access to a much richer hypothesis space that will benefit from deeprepresentations, you need a non-linearity, or activation function.  relu is the most popular activation function in deep learning."
   ]
  },
  {
   "cell_type": "markdown",
   "id": "c0274584",
   "metadata": {},
   "source": [
    "#### 1.4 Real world examples of data tensors (inputs expected by NN models)\n",
    "\n",
    "- Vector data—Rank-2 tensors of shape (samples, features), where each sample is a vector of numerical attributes (“features”)\n",
    "\n",
    "\n",
    "- Timeseries data or sequence data—Rank-3 tensors of shape (samples, timesteps, features), where each sample is a sequence (of length timesteps) of feature　vectors\n",
    "\n",
    "Ex: <i>A dataset of stock prices. Every minute, we store the current price of the stock, the highest price in the past minute, and the lowest price in the past minute. Thus, every minute is encoded as a 3D vector, an entire day of trading is encoded as a matrix of shape (390, 3) (there are 390 minutes in a trading day), and 250 days’ worth of data can be stored in a rank-3 tensor of shape (250, 390, 3). Here, each sample would be one day’s worth of data.</i>\n",
    "\n",
    "- Images—Rank-4 tensors of shape (samples, height, width, channels), where each sample is a 2D grid of pixels, and each pixel is represented by a vector of values (“channels”=1 for Gray 3 for RGB)\n",
    "\n",
    "\n",
    "- Video—Rank-5 tensors of shape (samples, frames, height, width, channels), where each sample is a sequence (of length frames) of images\n",
    "\n",
    "#### 1.5 Common-Sense Baseline\n",
    "Always have a naive model as a baseline to compare other models with!!! It can be a random classifier or any simple non-machine learning technic"
   ]
  },
  {
   "cell_type": "markdown",
   "id": "a623d8b2",
   "metadata": {},
   "source": [
    "### ⊷⊷⊷⊷⊷⊷⊷⊷⊷⊷⊷⊷⊷⊷⊷⊷⊷⊷⊷⊷⊷⊷⊷⊷⊷⊷⊷⊷⊷⊷⊷⊷⊷⊷⊷⊷⊷⊷⊷⊷⊷⊷⊷⊷⊷⊷⊷⊷⊷\n",
    "### <a id=2> 2. Improving the Model </a>\n",
    "\n",
    "#### 2.1 Improving model fit\n",
    "\n",
    "To achieve the perfect fit, you must first overfit. Since you don’t know in advance where the boundary lies, you must cross it to find it. Once we find a model that overfits we take measures to fight overfitting.\n",
    "\n",
    "<u>Common problem 1</u>\n",
    "\n",
    "    training doesn't get started: training loss doesn't go down over time\n",
    "\n",
    "<u>Solutions</u>\n",
    "\n",
    "Even if nothing about your problem makes sense, you should still be able to train something—if only by memorizing the training data. When this happens, it’s always a problem with the configuration of the gradient descent process: \n",
    "\n",
    "- choice of optimizer\n",
    "- the distribution of initial values in the weights of the model\n",
    "- batch size\n",
    "- learning rate (tweak inside the optimizer)\n",
    "\n",
    "        model.compile(optimizer=keras.optimizers.RMSprop(1e-2),\n",
    "                      loss=\"sparse_categorical_crossentropy\",\n",
    "                      metrics=[\"accuracy\"])\n",
    "\n",
    "\n",
    "All these parameters are interdependent, and as such it is usually sufficient to tune the learning rate and the batch size while keeping the rest of the parameters constant.\n",
    "\n",
    "<u>Common problem 2</u>\n",
    "\n",
    "    training started but the model doesn't perform well: you can't beat the common sense baseline\n",
    "\n",
    "<u>Solutions</u>\n",
    "\n",
    "This is perhaps the worst machine learning situation you can find yourself in. It indicates that something is fundamentally wrong with your approach, and it may not be easy to tell what. Here are some tips.\n",
    "\n",
    "- input data doesn't contain enough information to predict the target\n",
    "- model used is not suited for the problem at hand (Ex: Conv1D for time series): read up on architecture best practices for our kind of task\n",
    "\n",
    "<u>Common problem 3</u>\n",
    "\n",
    "    training and validation loss both go down over time, and we can beat the baseline but we can't overfit (validation loss stagnates, doesn't increase after a certain number of epochs), which indicates we're still underfitting.\n",
    "\n",
    "<u>Solutions</u>\n",
    "\n",
    "If we can't overfit, it’s likely a problem with the representational power of our model: we need a model with more capacity, by\n",
    "\n",
    "- adding more layers\n",
    "- using more units per layer"
   ]
  },
  {
   "cell_type": "markdown",
   "id": "485599c9",
   "metadata": {},
   "source": [
    "#### 2.2 Improving Generalization\n",
    "\n",
    "Once your model has shown itself to have some generalization power and to be able to overfit, it’s time to switch your focus to maximizing generalization.\n",
    "\n",
    "1. Data Data Data\n",
    "\n",
    "If your data makes it possible to smoothly interpolate between samples, you will be able to train a deep learning model that generalizes. If your problem is overly noisy or fundamentally discrete, like, say, list sorting, deep learning will not help you. Deep learning is curve fitting, not magic.\n",
    "\n",
    "- having enough data\n",
    "- visualize data and check for anomalies\n",
    "- clean data and deal with missing values\n",
    "- feature selection \n",
    "\n",
    "2. Feature engineering/Feature selection\n",
    "\n",
    "The essence of feature engineering: making a problem easier by expressing it in a simpler way. Make the latent manifold smoother, simpler, better organized. Doing so usually requires understanding the problem in depth.\n",
    "\n",
    "3. Early Stopping\n",
    "\n",
    "Finding the exact point during training where you’ve reached the most generalizable fit—the exact boundary between an underfit curve and an overfit curve—\n",
    "\n",
    "4. Regularization"
   ]
  },
  {
   "cell_type": "markdown",
   "id": "327b76a9",
   "metadata": {},
   "source": [
    "### ⊷⊷⊷⊷⊷⊷⊷⊷⊷⊷⊷⊷⊷⊷⊷⊷⊷⊷⊷⊷⊷⊷⊷⊷⊷⊷⊷⊷⊷⊷⊷⊷⊷⊷⊷⊷⊷⊷⊷⊷⊷⊷⊷⊷⊷⊷⊷⊷⊷\n",
    "### <a id=3> 3. Regularization </a>\n",
    "\n",
    "“regularizing” the model: making the model simpler, more “regular,” its curve smoother, more “generic”; thus it is less specific to the training set and better able to generalize by more closely approximating the latent manifold of the data.\n",
    "\n",
    "#### 3.1 Reducing the network's size\n",
    "\n",
    "The general workflow for finding an appropriate model size is to start with relatively few layers and parameters, and increase the size of the layers or add new layers until you see diminishing returns with regard to validation loss.\n",
    "\n",
    "#### 3.2 Adding Weights Regularization\n",
    "\n",
    "A common way to mitigate overfitting is to put constraints on the complexity of a model by forcing its weights to take only small values, which makes the distribution of weight values more regular and have less entropy. \n",
    "\n",
    "This is done by adding to the loss function of the model a cost associated with having large weights.\n",
    "\n",
    "- <i>L1 regularization</i>: The cost added is proportional to the absolute value of the weight coefficients (the L1 norm of the weights)\n",
    "\n",
    "- <i>L2 regularization/Weight decay</i>: The cost added is proportional to the square of the value of the weight coefficients (the L2 norm of the weights)\n",
    "\n",
    "regularizers.l2(0.002) means that every coefficient in the weight matrix of the layer will add 0.002 * weight_coefficient_value ** 2 to the total loss of the model. Note that because this penalty is only added at training time, the loss for the model will be much higher at training than at test time."
   ]
  },
  {
   "cell_type": "code",
   "execution_count": 5,
   "id": "546912e6",
   "metadata": {},
   "outputs": [],
   "source": [
    "from tensorflow.keras import regularizers"
   ]
  },
  {
   "cell_type": "code",
   "execution_count": null,
   "id": "f4f93073",
   "metadata": {},
   "outputs": [],
   "source": [
    "regularizers.l1(0.001)  #l1 regularization\n",
    "regularizers.l2(0.001)  #l2 regularization\n",
    "regularizers.l1_l2(l1=0.001, l2=0.001) #simultaneous l1 & l2 regularization\n",
    "\n",
    "model = Sequential([Dense(16,kernel_regularizer=regularizers.l2(0.002),activation=\"relu\"),\n",
    "                    Dense(16,kernel_regularizer=regularizers.l2(0.002),activation=\"relu\"),\n",
    "                    Dense(1, activation=\"sigmoid\")])\n",
    "\n",
    "model.compile(optimizer=\"rmsprop\",loss=\"binary_crossentropy\",metrics=[\"accuracy\"])"
   ]
  },
  {
   "cell_type": "markdown",
   "id": "4d743b71",
   "metadata": {},
   "source": [
    "Note that weight regularization is more typically used for smaller deep learning models. Large deep learning models tend to be so overparameterized that imposing constraints on weight values hasn’t much impact on model capacity and generalization. In\n",
    "these cases, a different regularization technique is preferred: dropout.\n",
    "\n",
    "#### 3.3 Dropout\n",
    "One of the most effective and most commonly used regularization techniques for neural networks. Dropout, applied to a layer, consists of randomly dropping out (setting to zero) a number of output features of the layer during training. Let’s say a\n",
    "given layer would normally return a vector [0.2, 0.5, 1.3, 0.8, 1.1] for a given input sample during training. After applying dropout, this vector will have a few zero entries distributed at random: for example, [0, 0.5, 1.3, 0, 1.1]. The dropout rate\n",
    "is the fraction of the features that are zeroed out; it’s usually set between 0.2 and 0.5.\n",
    "\n",
    "At test time, no units are dropped out; instead, the layer’s output values are scaled down by a factor equal to the dropout rate, to balance for the fact that more units are active than at training time."
   ]
  },
  {
   "cell_type": "markdown",
   "id": "6dc03e3b",
   "metadata": {},
   "source": [
    "You may sometimes be offered ethically dubious projects, such as “building an AI that rates the trustworthiness of someone from a picture of their face.” First of all,\n",
    "the validity of the project is in doubt: it isn’t clear why trustworthiness would be\n",
    "reflected on someone’s face. Second, such a task opens the door to all kinds of ethical problems.....You may sometimes be offered ethically dubious projects, such as “building an AI\n",
    "that rates the trustworthiness of someone from a picture of their face.” First of all,\n",
    "the validity of the project is in doubt: it isn’t clear why trustworthiness would be\n",
    "reflected on someone’s face. Second, such a task opens the door to all kinds of ethical problems. "
   ]
  },
  {
   "cell_type": "markdown",
   "id": "92352344",
   "metadata": {},
   "source": [
    "### ⊷⊷⊷⊷⊷⊷⊷⊷⊷⊷⊷⊷⊷⊷⊷⊷⊷⊷⊷⊷⊷⊷⊷⊷⊷⊷⊷⊷⊷⊷⊷⊷⊷⊷⊷⊷⊷⊷⊷⊷⊷⊷⊷⊷⊷⊷⊷⊷⊷\n",
    "### <a id=4> 4. Deep Learning for Classification </a>\n",
    "\n",
    "\n",
    "- Two-class Classification: \n",
    "> - activation: <i>sigmoid</i>\n",
    "> - loss: <i>binary_crossentropy</i>\n",
    "\n",
    "- Multi-Class Single-Label Classification: \n",
    "> - activation: <i>softmax</i> (the model will output a probability distribution over the k number of classes)\n",
    "> - loss: <i>categorical_crossentropy</i>\n",
    "\n",
    "<i>categorical_crossentropy</i>, expects the labels to follow a categorical encoding. With integer encoding, you should use <i>sparse_categorical_crossentropy</i>\n",
    "\n",
    "\n",
    "Mean_squared_error can be used as a loss as well, but crossentropy is the best choice when dealing with models that output probabilities. Crossentropy is a quantity from the field of information theory that measures the distance between probability distributions of y_true and y_pred\n",
    "    \n",
    "    \n",
    "- Multi-Class Multi-label Classification: \n",
    "\n",
    "Multilabel can be binary or multiclass, it's when items can be classified as more than 1 class.\n",
    "\n",
    "> - activation: <i>sigmoid</i>\n",
    "> - loss: <i>binary_crossentropy</i>\n",
    "    \n",
    "- Metric choice\n",
    "\n",
    "Balanced classification problems, where every class is equally likely:\n",
    "        \n",
    "    - Accuracy\n",
    "    - ROC curve\n",
    "\n",
    "Unbalanced problems, ranking problems or multilabel classification:\n",
    "\n",
    "    - Precision\n",
    "    - Recall\n",
    "    - Weighted form of accuracy or ROC\n",
    "   \n",
    "    \n",
    "#### 4.1 Binary Classification"
   ]
  },
  {
   "cell_type": "code",
   "execution_count": null,
   "id": "3670e70c",
   "metadata": {},
   "outputs": [],
   "source": [
    "model = Sequential([Dense(16, activation=\"relu\"),\n",
    "                    Dense(16, activation=\"relu\"),\n",
    "                    Dense(1, activation=\"sigmoid\")]) #should end with sigmoid activation\n",
    "    \n",
    "model.compile(optimizer=\"rmsprop\",\n",
    "              loss=\"binary_crossentropy\",  #!!!loss for binary classification\n",
    "              metrics=[\"accuracy\"])\n",
    "\n",
    "#!! monitor for the overfitting by checking model.history.history\n",
    "#!! retrain the model using less epochs if overfitting happens\n",
    "model.fit(partial_x_train,partial_y_train,epochs=20,batch_size=512,validation_data=(x_val, y_val))\n",
    "\n",
    "#retrain the model on the entire x_train\n",
    "\n",
    "model.evaluate(x_test,y_test) #show the loss and metrics as measured on the test set\n",
    "model.predict(x_test) #generate the actual predictions"
   ]
  },
  {
   "cell_type": "markdown",
   "id": "85f026c7",
   "metadata": {},
   "source": [
    "#### 4.2 Multi-class Classification\n",
    "\n",
    "Example of 42 classes: \n",
    "\n",
    "In the previous example, we used 16-dimensional intermediate layers, but a 16-dimensional space may be too limited to learn to separate 46 different classes: such small layers may act as information bottlenecks, permanently dropping relevant information. For this reason we’ll use larger layers. Let’s go with 64 units."
   ]
  },
  {
   "cell_type": "code",
   "execution_count": null,
   "id": "186283c2",
   "metadata": {},
   "outputs": [],
   "source": [
    "model = Sequential([Dense(64, activation=\"relu\"),\n",
    "                    Dense(64, activation=\"relu\"),\n",
    "                    Dense(46, activation=\"softmax\")])\n",
    "\n",
    "model.compile(optimizer=\"rmsprop\",\n",
    "              loss=\"categorical_crossentropy\",\n",
    "              metrics=[\"accuracy\"])"
   ]
  },
  {
   "cell_type": "markdown",
   "id": "eb045a25",
   "metadata": {},
   "source": [
    "### ⊷⊷⊷⊷⊷⊷⊷⊷⊷⊷⊷⊷⊷⊷⊷⊷⊷⊷⊷⊷⊷⊷⊷⊷⊷⊷⊷⊷⊷⊷⊷⊷⊷⊷⊷⊷⊷⊷⊷⊷⊷⊷⊷⊷⊷⊷⊷⊷⊷\n",
    "### <a id=5> 5. Deep Learning for Regression</a>\n",
    "- activation: none for the last layer, because we want the actual value not the probability\n",
    "- loss: <i>mse</i> (we can't use mae because it's not differentiable ==> we can't calculate its gradient)\n",
    "- metric: <i>mae</i>\n",
    "\n",
    "\n",
    "- When there is little data available: using K-fold validation\n",
    "- When little training data is available, it’s preferable to use a small model with few intermediate layers (typically only one or two), in order to avoid severe overfitting."
   ]
  },
  {
   "cell_type": "code",
   "execution_count": null,
   "id": "fe060840",
   "metadata": {},
   "outputs": [],
   "source": [
    "def build_model():\n",
    "    model = Sequential([Dense(64, activation=\"relu\"),\n",
    "                        Dense(64, activation=\"relu\"),\n",
    "                        Dense(1)]) #scalar prediction\n",
    "\n",
    "    model.compile(optimizer=\"rmsprop\", loss=\"mse\", metrics=[\"mae\"])\n",
    "    return model"
   ]
  },
  {
   "cell_type": "code",
   "execution_count": null,
   "id": "ce4fbde7",
   "metadata": {},
   "outputs": [],
   "source": [
    "#Manual k-fold validation: in case if our data is small\n",
    "k = 10\n",
    "num_val_samples = len(X_train) // k\n",
    "num_epochs = 100\n",
    "all_scores = []\n",
    "\n",
    "for i in range(k):\n",
    "    print('Processing fold #',i)\n",
    "    start = i * num_val_samples\n",
    "    end = (i+1) * num_val_samples\n",
    "    \n",
    "    X_val = X_train[start:end]\n",
    "    y_val = y_train[start:end]\n",
    "    \n",
    "    X_train_partial = np.concatenate([X_train[:start],X_train[end:]],axis=0)\n",
    "    y_train_partial = np.concatenate([y_train[:start],y_train[end:]],axis=0)\n",
    "    \n",
    "    model = build_model()\n",
    "    model.fit(X_train_partial,y_train_partial,epochs=num_epochs,batch_size=16,verbose=0)\n",
    "    \n",
    "    val_mse, val_mae = model.evaluate(X_val,y_val,verbose=0)\n",
    "    all_scores.apppend(val_mae)\n",
    "\n",
    "np.mean(all_scores)"
   ]
  },
  {
   "cell_type": "code",
   "execution_count": null,
   "id": "0c7f005c",
   "metadata": {},
   "outputs": [],
   "source": [
    "#Manual k-fold validation Increasing the number of epochs, while recording the mae scores\n",
    "k = 10\n",
    "num_val_samples = len(X_train) // k\n",
    "num_epochs = 500\n",
    "all_mae_histories = []\n",
    "\n",
    "for i in range(k):\n",
    "    print('Processing fold #',i)\n",
    "    start = i * num_val_samples\n",
    "    end = (i+1) * num_val_samples\n",
    "    \n",
    "    X_val = X_train[start:end]\n",
    "    y_val = y_train[start:end]\n",
    "    \n",
    "    X_train_partial = np.concatenate([X_train[:start],X_train[end:]],axis=0)\n",
    "    y_train_partial = np.concatenate([y_train[:start],y_train[end:]],axis=0)\n",
    "    \n",
    "    model = build_model()\n",
    "    model.fit(X_train_partial,y_train_partial,\n",
    "              validation_data=(X_val,y_val),\n",
    "              epochs=num_epochs,batch_size=16,verbose=0)\n",
    "    \n",
    "    mae_history = model.history.history['val_mae']\n",
    "    all_mae_histories.append(mae_history)\n",
    "    \n",
    "#average mae for each epoch:\n",
    "average_mae_history = [np.mean([x[i] for x in all_mae_histories]) for i in range(num_epochs)]\n",
    "\n",
    "#!!!Plot and choose the num of epochs where the validation MAE stops improving <==> start of overfitting\n",
    "plt.plot(range(1,num_epochs+1), average_mae_history)\n",
    "plt.xlabel('Epochs')\n",
    "plt.ylabel('Validation MAE');"
   ]
  },
  {
   "cell_type": "markdown",
   "id": "1e27d53f",
   "metadata": {},
   "source": [
    "### ⊷⊷⊷⊷⊷⊷⊷⊷⊷⊷⊷⊷⊷⊷⊷⊷⊷⊷⊷⊷⊷⊷⊷⊷⊷⊷⊷⊷⊷⊷⊷⊷⊷⊷⊷⊷⊷⊷⊷⊷⊷⊷⊷⊷⊷⊷⊷⊷⊷\n",
    "### <a id=6> 6. Deep Learning for Timeseries"
   ]
  },
  {
   "cell_type": "code",
   "execution_count": 3,
   "id": "360e2b2b",
   "metadata": {},
   "outputs": [],
   "source": [
    "temp_df = pd.read_csv('jena_climate_2009_2016.csv',parse_dates=True)"
   ]
  },
  {
   "cell_type": "code",
   "execution_count": 4,
   "id": "8b6ce05e",
   "metadata": {},
   "outputs": [
    {
     "data": {
      "text/html": [
       "<div>\n",
       "<style scoped>\n",
       "    .dataframe tbody tr th:only-of-type {\n",
       "        vertical-align: middle;\n",
       "    }\n",
       "\n",
       "    .dataframe tbody tr th {\n",
       "        vertical-align: top;\n",
       "    }\n",
       "\n",
       "    .dataframe thead th {\n",
       "        text-align: right;\n",
       "    }\n",
       "</style>\n",
       "<table border=\"1\" class=\"dataframe\">\n",
       "  <thead>\n",
       "    <tr style=\"text-align: right;\">\n",
       "      <th></th>\n",
       "      <th>Date Time</th>\n",
       "      <th>p (mbar)</th>\n",
       "      <th>T (degC)</th>\n",
       "      <th>Tpot (K)</th>\n",
       "      <th>Tdew (degC)</th>\n",
       "      <th>rh (%)</th>\n",
       "      <th>VPmax (mbar)</th>\n",
       "      <th>VPact (mbar)</th>\n",
       "      <th>VPdef (mbar)</th>\n",
       "      <th>sh (g/kg)</th>\n",
       "      <th>H2OC (mmol/mol)</th>\n",
       "      <th>rho (g/m**3)</th>\n",
       "      <th>wv (m/s)</th>\n",
       "      <th>max. wv (m/s)</th>\n",
       "      <th>wd (deg)</th>\n",
       "    </tr>\n",
       "  </thead>\n",
       "  <tbody>\n",
       "    <tr>\n",
       "      <th>0</th>\n",
       "      <td>01.01.2009 00:10:00</td>\n",
       "      <td>996.52</td>\n",
       "      <td>-8.02</td>\n",
       "      <td>265.40</td>\n",
       "      <td>-8.90</td>\n",
       "      <td>93.3</td>\n",
       "      <td>3.33</td>\n",
       "      <td>3.11</td>\n",
       "      <td>0.22</td>\n",
       "      <td>1.94</td>\n",
       "      <td>3.12</td>\n",
       "      <td>1307.75</td>\n",
       "      <td>1.03</td>\n",
       "      <td>1.75</td>\n",
       "      <td>152.3</td>\n",
       "    </tr>\n",
       "    <tr>\n",
       "      <th>1</th>\n",
       "      <td>01.01.2009 00:20:00</td>\n",
       "      <td>996.57</td>\n",
       "      <td>-8.41</td>\n",
       "      <td>265.01</td>\n",
       "      <td>-9.28</td>\n",
       "      <td>93.4</td>\n",
       "      <td>3.23</td>\n",
       "      <td>3.02</td>\n",
       "      <td>0.21</td>\n",
       "      <td>1.89</td>\n",
       "      <td>3.03</td>\n",
       "      <td>1309.80</td>\n",
       "      <td>0.72</td>\n",
       "      <td>1.50</td>\n",
       "      <td>136.1</td>\n",
       "    </tr>\n",
       "  </tbody>\n",
       "</table>\n",
       "</div>"
      ],
      "text/plain": [
       "             Date Time  p (mbar)  T (degC)  Tpot (K)  Tdew (degC)  rh (%)  \\\n",
       "0  01.01.2009 00:10:00    996.52     -8.02    265.40        -8.90    93.3   \n",
       "1  01.01.2009 00:20:00    996.57     -8.41    265.01        -9.28    93.4   \n",
       "\n",
       "   VPmax (mbar)  VPact (mbar)  VPdef (mbar)  sh (g/kg)  H2OC (mmol/mol)  \\\n",
       "0          3.33          3.11          0.22       1.94             3.12   \n",
       "1          3.23          3.02          0.21       1.89             3.03   \n",
       "\n",
       "   rho (g/m**3)  wv (m/s)  max. wv (m/s)  wd (deg)  \n",
       "0       1307.75      1.03           1.75     152.3  \n",
       "1       1309.80      0.72           1.50     136.1  "
      ]
     },
     "execution_count": 4,
     "metadata": {},
     "output_type": "execute_result"
    }
   ],
   "source": [
    "temp_df.head(2)"
   ]
  },
  {
   "cell_type": "code",
   "execution_count": 5,
   "id": "5ec7d19e",
   "metadata": {},
   "outputs": [],
   "source": [
    "temp = temp_df['T (degC)']\n",
    "raw = temp_df.iloc[:,1:].to_numpy()\n",
    "raw = temp_df.iloc[:,1:]"
   ]
  },
  {
   "cell_type": "code",
   "execution_count": 6,
   "id": "c8ff7cd7",
   "metadata": {},
   "outputs": [],
   "source": [
    "train_length = int(0.5*len(temp))\n",
    "val_length = int(0.25*len(temp))\n",
    "test_length = len(temp) - train_length - val_length"
   ]
  },
  {
   "cell_type": "code",
   "execution_count": 7,
   "id": "9a28e616",
   "metadata": {},
   "outputs": [],
   "source": [
    "#normalizing\n",
    "mean = raw[:train_length].mean(axis=0)\n",
    "raw -= mean\n",
    "\n",
    "std = raw[:train_length].std(axis=0)\n",
    "raw /= std"
   ]
  },
  {
   "cell_type": "code",
   "execution_count": 8,
   "id": "b1ef83c4",
   "metadata": {},
   "outputs": [
    {
     "data": {
      "text/plain": [
       "(420451, 14)"
      ]
     },
     "execution_count": 8,
     "metadata": {},
     "output_type": "execute_result"
    }
   ],
   "source": [
    "raw.shape"
   ]
  },
  {
   "cell_type": "markdown",
   "id": "145b54c0",
   "metadata": {},
   "source": [
    "#### 6.1 Train, Val, Test Datasets using Sliding Windows\n",
    "We use the keras generator timeseries_dataset_from_array() so as not to allocate memory for every sample."
   ]
  },
  {
   "cell_type": "code",
   "execution_count": 10,
   "id": "38d2a091",
   "metadata": {},
   "outputs": [
    {
     "name": "stdout",
     "output_type": "stream",
     "text": [
      "[0, 1, 2] 3\n",
      "[1, 2, 3] 4\n",
      "[2, 3, 4] 5\n",
      "[3, 4, 5] 6\n",
      "[4, 5, 6] 7\n"
     ]
    }
   ],
   "source": [
    "#Usage example\n",
    "a = np.arange(10)\n",
    "data = timeseries_dataset_from_array(data=a[:-3],\n",
    "                                    targets=a[3:],\n",
    "                                    sequence_length=3,\n",
    "                                    batch_size=2)\n",
    "\n",
    "for X, y in data: #it yields a tuple (features,target)\n",
    "    for i in range(X.shape[0]):\n",
    "        print([int(x) for x in X[i]], int(y[i]))"
   ]
  },
  {
   "cell_type": "code",
   "execution_count": 11,
   "id": "45c0698f",
   "metadata": {},
   "outputs": [],
   "source": [
    "#Use on our Temp dataset\n",
    "sampling_rate = 6  #observations will be sampled at one data point per hour:\n",
    "                   #data is 10minutely so we will only keep one data point out of 6\n",
    "sequence_length = 120 #120h = 5 days: use 5days data to predict 1 day?\n",
    "delay = sampling_rate * (sequence_length + 24 - 1) #the target for a sequence will be the temp 24h after the end of the sequence\n",
    "batch_size = 256\n",
    "\n",
    "train = timeseries_dataset_from_array(data=raw[:-delay],\n",
    "                                     targets=temp[delay:],\n",
    "                                     sampling_rate=sampling_rate,\n",
    "                                     sequence_length=sequence_length,\n",
    "                                     shuffle=True,\n",
    "                                     batch_size=batch_size,\n",
    "                                     start_index=0,\n",
    "                                     end_index=train_length)\n",
    "\n",
    "val = timeseries_dataset_from_array(data=raw[:-delay],\n",
    "                                   targets=temp[delay:],\n",
    "                                   sampling_rate=sampling_rate,\n",
    "                                   sequence_length=sequence_length,\n",
    "                                   shuffle=True,\n",
    "                                   batch_size=batch_size,\n",
    "                                   start_index=train_length,\n",
    "                                   end_index=train_length+val_length)\n",
    "\n",
    "test = timeseries_dataset_from_array(data=raw[:-delay],\n",
    "                                   targets=temp[delay:],\n",
    "                                   sampling_rate=sampling_rate,\n",
    "                                   sequence_length=sequence_length,\n",
    "                                   shuffle=True,\n",
    "                                   batch_size=batch_size,\n",
    "                                   start_index=train_length+val_length)\n",
    "\n",
    "#each dataset yields a tuple(sample,targets), where sample is a batch of 256 sammples, each containing 120 consecutive hours of input data\n",
    "#targets is the corresponding array of 256 target temperatures\n",
    "#samples are randomly shuffled, so 2 consecutive sequences in a batch (sample[0], sample[1]) aren't necessarily temprarily close."
   ]
  },
  {
   "cell_type": "code",
   "execution_count": 12,
   "id": "cc5f5575",
   "metadata": {},
   "outputs": [
    {
     "name": "stdout",
     "output_type": "stream",
     "text": [
      "samples shape:  (256, 120, 14)\n",
      "targets shape:  (256,)\n"
     ]
    }
   ],
   "source": [
    "for samples, targets in train:\n",
    "    print('samples shape: ',samples.shape)\n",
    "    print('targets shape: ',targets.shape)\n",
    "    break"
   ]
  },
  {
   "cell_type": "code",
   "execution_count": 13,
   "id": "dd5dcbe6",
   "metadata": {},
   "outputs": [
    {
     "name": "stdout",
     "output_type": "stream",
     "text": [
      "819\n"
     ]
    }
   ],
   "source": [
    "i = 0\n",
    "for samples, targets in train:\n",
    "    i += 1\n",
    "print(i)"
   ]
  },
  {
   "cell_type": "markdown",
   "id": "e7abc047",
   "metadata": {},
   "source": [
    "#### 6.2 Evaluating a Base Naive Model\n",
    "\n",
    "Naive model: the temperature timeseries can safely be assumed to be continuous (the temperatures tomorrow are likely to be close to the temperatures today) as well as periodical with a daily period. Thus a common-sense approach is to always predict that the temperature 24 hours from now will be equal to the temperature right now. "
   ]
  },
  {
   "cell_type": "code",
   "execution_count": 25,
   "id": "9cc86506",
   "metadata": {},
   "outputs": [
    {
     "name": "stdout",
     "output_type": "stream",
     "text": [
      "Validation MAE: 2.44\n",
      "Test MAE: 2.62\n"
     ]
    }
   ],
   "source": [
    "def evaluate_naive_method(data):\n",
    "    total_abs_err = 0\n",
    "    samples_seen = 0\n",
    "    for samples, targets in data:\n",
    "        # : for all batches, -1: last day in sample = target - 24h, 1: for temperature\n",
    "        preds = samples[:,-1,1] * std[1] + mean[1] #reverse the normalization\n",
    "        total_abs_err += np.sum(np.abs(preds-targets))\n",
    "        samples_seen += samples.shape[0]\n",
    "    return total_abs_err / samples_seen\n",
    "\n",
    "\n",
    "print(f\"Validation MAE: {evaluate_naive_method(val):.2f}\")\n",
    "print(f\"Test MAE: {evaluate_naive_method(test):.2f}\")"
   ]
  },
  {
   "cell_type": "markdown",
   "id": "31709141",
   "metadata": {},
   "source": [
    "#### 6.3 Evaluating a Basic Machine Learning Model\n",
    "\n",
    "It’s useful to try simple, cheap machine learning models (such as small, densely connected networks) before looking into complicated and computationally expensive models such as RNNs. This is the best way to make sure any further complexity you throw at the problem is legitimate and delivers real benefits.\n",
    "\n",
    "We use a fully connected model that starts by flattening the data and then runs it through two Dense layers. <b>Note the lack of an activation function on the last Dense layer, which is typical for a regression problem.</b> We use mean squared error (MSE) as the loss, rather than MAE, because unlike MAE, it’s smooth around zero, which is a useful property for gradient descent. We will monitor MAE by adding it as a metric in compile()\n",
    "\n",
    "This model does not outperform the naive model <b>test MAE = 2.66</b>, flattening the timeseries removes the notion of time from our data."
   ]
  },
  {
   "cell_type": "code",
   "execution_count": 35,
   "id": "7f47e728",
   "metadata": {},
   "outputs": [
    {
     "name": "stdout",
     "output_type": "stream",
     "text": [
      "Epoch 1/10\n",
      "819/819 [==============================] - 11s 13ms/step - loss: 12.2825 - mae: 2.7109 - val_loss: 10.9487 - val_mae: 2.6088\n",
      "Epoch 2/10\n",
      "819/819 [==============================] - 8s 10ms/step - loss: 8.9615 - mae: 2.3554 - val_loss: 10.8707 - val_mae: 2.6076\n",
      "Epoch 3/10\n",
      "819/819 [==============================] - 8s 10ms/step - loss: 8.2025 - mae: 2.2512 - val_loss: 10.4018 - val_mae: 2.5520\n",
      "Epoch 4/10\n",
      "819/819 [==============================] - 8s 10ms/step - loss: 7.7225 - mae: 2.1851 - val_loss: 10.6946 - val_mae: 2.5874\n",
      "Epoch 5/10\n",
      "819/819 [==============================] - 8s 10ms/step - loss: 7.4151 - mae: 2.1425 - val_loss: 10.4900 - val_mae: 2.5580\n",
      "Epoch 6/10\n",
      "819/819 [==============================] - 9s 11ms/step - loss: 7.1329 - mae: 2.1008 - val_loss: 10.8163 - val_mae: 2.5951\n",
      "Epoch 7/10\n",
      "819/819 [==============================] - 9s 11ms/step - loss: 6.9334 - mae: 2.0727 - val_loss: 10.9892 - val_mae: 2.6294\n",
      "Epoch 8/10\n",
      "819/819 [==============================] - 8s 10ms/step - loss: 6.7804 - mae: 2.0502 - val_loss: 10.7575 - val_mae: 2.5929\n",
      "Epoch 9/10\n",
      "819/819 [==============================] - 8s 10ms/step - loss: 6.6419 - mae: 2.0302 - val_loss: 10.6803 - val_mae: 2.5839\n",
      "Epoch 10/10\n",
      "819/819 [==============================] - 8s 10ms/step - loss: 6.5187 - mae: 2.0114 - val_loss: 10.7938 - val_mae: 2.5965\n",
      "405/405 [==============================] - 3s 6ms/step - loss: 11.3502 - mae: 2.6595\n",
      "Test MAE: 2.66\n"
     ]
    }
   ],
   "source": [
    "inputs = Input(shape=(sequence_length,raw.shape[-1])) #(timesteps,n_features)\n",
    "x = Flatten()(inputs)\n",
    "x = Dense(16,activation='relu')(x)\n",
    "\n",
    "outputs = Dense(1)(x)\n",
    "model = Model(inputs,outputs)\n",
    "\n",
    "#we use a callback to save the best performing model\n",
    "callbacks = [ModelCheckpoint('jena_dense.keras',save_best_only=True)]\n",
    "\n",
    "model.compile(optimizer='rmsprop',loss='mse',metrics=['mae'])\n",
    "#validation data specifies the dataset on which the metrics will be monitored\n",
    "history = model.fit(train,epochs=10,validation_data=val,callbacks=callbacks)\n",
    "\n",
    "#reload the best model and evaluate it on the test data\n",
    "model = keras.models.load_model('jena_dense.keras')\n",
    "\n",
    "# evaluate() computes the metrics after the training\n",
    "#can be used for validation dataset as well if it wasn't already specified in fit()\n",
    "print(f\"Test MAE: {model.evaluate(test)[1]:.2f}\")"
   ]
  },
  {
   "cell_type": "code",
   "execution_count": 45,
   "id": "c0da8040",
   "metadata": {},
   "outputs": [
    {
     "data": {
      "image/png": "[encoded data removed]",
      "text/plain": [
       "<Figure size 432x288 with 1 Axes>"
      ]
     },
     "metadata": {
      "needs_background": "light"
     },
     "output_type": "display_data"
    }
   ],
   "source": [
    "loss_df = pd.DataFrame({'training_mae': history.history['mae'],\n",
    "                      'validation_mae':history.history['val_mae']})\n",
    "loss_df.plot();"
   ]
  },
  {
   "cell_type": "markdown",
   "id": "86deb4eb",
   "metadata": {},
   "source": [
    "#### 6.4 Evaluating a 1D Convolutional Model\n",
    "Just like the Conv2D, which sees the inputs through small windows that swipe across 2D grids. There are is also the Conv1D layer that relies on 1D windows that slide across input sequences.\n",
    "\n",
    "Conv layers are a great fit for any sequence data that follows the <b>translation invariance assumption</b> (meaning that if you slide a window over the sequence, the content of the window should follow the same properties independently of the location of the window).\n",
    "\n",
    "We’ll pick an initial window length of 24, so that we look at 24 hours of data at a time (one cycle). As we downsample the sequences (via MaxPooling1D layers), we’ll reduce the window size accordingly.\n",
    "\n",
    "As it turns out, this model performs even worse than the densely connected one <b>test MAE = 3.2</b>. What went wrong here? Two things:\n",
    "- Weather data doesn’t quite respect the translation invariance assumption. While the data does feature daily cycles, data from a morning follows different properties than data from an evening. Weather data is only translation-invariant for a very specific timescale.\n",
    "- Order in our data matters—a lot. The recent past is far more informative for predicting the next day’s temperature than data from five days ago. A 1D convnet is not able to leverage this fact. In particular, our max pooling and global average pooling layers are largely destroying order information.\n",
    "\n",
    "\n",
    "Mor about translation invariance:\n",
    "https://towardsdatascience.com/neural-networks-intuitions-8-translation-invariance-in-object-detectors-21db6e27879c"
   ]
  },
  {
   "cell_type": "code",
   "execution_count": 52,
   "id": "1bf270cd",
   "metadata": {
    "collapsed": true
   },
   "outputs": [
    {
     "name": "stdout",
     "output_type": "stream",
     "text": [
      "Epoch 1/10\n",
      "819/819 [==============================] - 23s 27ms/step - loss: 22.5322 - mae: 3.7240 - val_loss: 17.1753 - val_mae: 3.3054\n",
      "Epoch 2/10\n",
      "819/819 [==============================] - 22s 26ms/step - loss: 15.6811 - mae: 3.1453 - val_loss: 16.3735 - val_mae: 3.1828\n",
      "Epoch 3/10\n",
      "819/819 [==============================] - 22s 27ms/step - loss: 14.4774 - mae: 3.0189 - val_loss: 18.8050 - val_mae: 3.4210\n",
      "Epoch 4/10\n",
      "819/819 [==============================] - 22s 27ms/step - loss: 13.6206 - mae: 2.9241 - val_loss: 15.1170 - val_mae: 3.0608\n",
      "Epoch 5/10\n",
      "819/819 [==============================] - 22s 27ms/step - loss: 12.9291 - mae: 2.8465 - val_loss: 15.3507 - val_mae: 3.1098\n",
      "Epoch 6/10\n",
      "819/819 [==============================] - 22s 26ms/step - loss: 12.3556 - mae: 2.7816 - val_loss: 14.2744 - val_mae: 2.9991\n",
      "Epoch 7/10\n",
      "819/819 [==============================] - 22s 27ms/step - loss: 11.9043 - mae: 2.7317 - val_loss: 16.2372 - val_mae: 3.1748\n",
      "Epoch 8/10\n",
      "819/819 [==============================] - 22s 27ms/step - loss: 11.5433 - mae: 2.6883 - val_loss: 16.2714 - val_mae: 3.1834\n",
      "Epoch 9/10\n",
      "819/819 [==============================] - 22s 27ms/step - loss: 11.2225 - mae: 2.6498 - val_loss: 15.3417 - val_mae: 3.0910\n",
      "Epoch 10/10\n",
      "819/819 [==============================] - 23s 28ms/step - loss: 10.9634 - mae: 2.6193 - val_loss: 15.8502 - val_mae: 3.1582\n",
      "405/405 [==============================] - 4s 9ms/step - loss: 16.2060 - mae: 3.1959\n",
      "Test MAE: 3.20\n"
     ]
    }
   ],
   "source": [
    "inputs = Input(shape=(sequence_length,raw.shape[-1]))\n",
    "\n",
    "x = Conv1D(8,24,activation='relu')(inputs)\n",
    "x = MaxPooling1D(2)(x)\n",
    "x = Conv1D(8,12,activation='relu')(x)\n",
    "x = MaxPooling1D(2)(x)\n",
    "x = Conv1D(8,6,activation='relu')(x)\n",
    "x = GlobalAveragePooling1D()(x)\n",
    "\n",
    "outputs = Dense(1)(x)\n",
    "model = Model(inputs,outputs)\n",
    "\n",
    "callbacks = [ModelCheckpoint('jena_conv.keras',save_best_only=True)]\n",
    "\n",
    "model.compile(optimizer='rmsprop',loss='mse',metrics=['mae'])\n",
    "history = model.fit(train,epochs=10,validation_data=val,callbacks=callbacks)\n",
    "\n",
    "model = keras.models.load_model('jena_conv.keras')\n",
    "\n",
    "print(f\"Test MAE: {model.evaluate(test)[1]:.2f}\")"
   ]
  },
  {
   "cell_type": "code",
   "execution_count": 54,
   "id": "f346c662",
   "metadata": {},
   "outputs": [
    {
     "data": {
      "image/png": "[encoded data removed]",
      "text/plain": [
       "<Figure size 432x288 with 1 Axes>"
      ]
     },
     "metadata": {
      "needs_background": "light"
     },
     "output_type": "display_data"
    }
   ],
   "source": [
    "loss_df = pd.DataFrame({'training_mae': history.history['mae'],\n",
    "                      'validation_mae':history.history['val_mae']})\n",
    "loss_df.plot();"
   ]
  },
  {
   "cell_type": "markdown",
   "id": "27e863b8",
   "metadata": {},
   "source": [
    "#### 6.5 Evaluating a Basic LSTM based model\n",
    "\n",
    "This model performs a little better than the naive baseline mode <b>test MAE = 2.54</b>. We can further refine it."
   ]
  },
  {
   "cell_type": "code",
   "execution_count": 73,
   "id": "b65b4145",
   "metadata": {
    "collapsed": true
   },
   "outputs": [
    {
     "name": "stdout",
     "output_type": "stream",
     "text": [
      "Epoch 1/10\n",
      "819/819 [==============================] - 55s 65ms/step - loss: 42.7639 - mae: 4.7577 - val_loss: 12.5378 - val_mae: 2.6879\n",
      "Epoch 2/10\n",
      "819/819 [==============================] - 55s 67ms/step - loss: 11.0134 - mae: 2.5754 - val_loss: 9.4333 - val_mae: 2.3855\n",
      "Epoch 3/10\n",
      "819/819 [==============================] - 59s 72ms/step - loss: 9.6612 - mae: 2.4226 - val_loss: 9.2221 - val_mae: 2.3671\n",
      "Epoch 4/10\n",
      "819/819 [==============================] - 58s 71ms/step - loss: 9.1418 - mae: 2.3556 - val_loss: 9.6099 - val_mae: 2.4055\n",
      "Epoch 5/10\n",
      "819/819 [==============================] - 57s 70ms/step - loss: 8.6806 - mae: 2.2970 - val_loss: 9.1129 - val_mae: 2.3520\n",
      "Epoch 6/10\n",
      "819/819 [==============================] - 57s 69ms/step - loss: 8.3340 - mae: 2.2534 - val_loss: 9.1942 - val_mae: 2.3603\n",
      "Epoch 7/10\n",
      "819/819 [==============================] - 59s 72ms/step - loss: 8.1354 - mae: 2.2280 - val_loss: 9.3232 - val_mae: 2.3789\n",
      "Epoch 8/10\n",
      "819/819 [==============================] - 59s 72ms/step - loss: 7.9364 - mae: 2.2029 - val_loss: 9.3587 - val_mae: 2.3790\n",
      "Epoch 9/10\n",
      "819/819 [==============================] - 59s 72ms/step - loss: 7.7622 - mae: 2.1807 - val_loss: 9.4452 - val_mae: 2.3915\n",
      "Epoch 10/10\n",
      "819/819 [==============================] - 59s 71ms/step - loss: 7.6221 - mae: 2.1626 - val_loss: 9.7650 - val_mae: 2.4440\n",
      "405/405 [==============================] - 16s 38ms/step - loss: 10.6881 - mae: 2.5425\n",
      "Test MAE: 2.54\n"
     ]
    }
   ],
   "source": [
    "inputs = Input(shape=(sequence_length,raw.shape[-1]))\n",
    "x = LSTM(16)(inputs)\n",
    "outputs = Dense(1)(x)\n",
    "model = Model(inputs,outputs)\n",
    "\n",
    "callbacks = [ModelCheckpoint('jena_lstm.keras',save_best_only=True)]\n",
    "\n",
    "model.compile(optimizer='rmsprop',loss='mse',metrics=['mae'])\n",
    "history = model.fit(train,epochs=10,validation_data=val,callbacks=callbacks)\n",
    "\n",
    "model = keras.models.load_model('jena_lstm.keras')\n",
    "\n",
    "print(f\"Test MAE: {model.evaluate(test)[1]:.2f}\")"
   ]
  },
  {
   "cell_type": "code",
   "execution_count": 74,
   "id": "5a54c3ef",
   "metadata": {},
   "outputs": [
    {
     "data": {
      "image/png": "[encoded data removed]",
      "text/plain": [
       "<Figure size 432x288 with 1 Axes>"
      ]
     },
     "metadata": {
      "needs_background": "light"
     },
     "output_type": "display_data"
    }
   ],
   "source": [
    "loss_df = pd.DataFrame({'training_mae': history.history['mae'],\n",
    "                      'validation_mae':history.history['val_mae']})\n",
    "loss_df.plot();"
   ]
  },
  {
   "cell_type": "markdown",
   "id": "45294405",
   "metadata": {},
   "source": [
    "### ⊷⊷⊷⊷⊷⊷⊷⊷⊷⊷⊷⊷⊷⊷⊷⊷⊷⊷⊷⊷⊷⊷⊷⊷⊷⊷⊷⊷⊷⊷⊷⊷⊷⊷⊷⊷⊷⊷⊷⊷⊷⊷⊷⊷⊷⊷⊷⊷⊷\n",
    "### <a id=7> 7. Recursive Neural Networks</a>\n",
    "\n",
    "#### 7.1 Simple RNN\n",
    "\n",
    "* <u>Numpy Implementation</u>\n",
    "\n",
    "This process corresponds to Keras's SimpleRNN layer. There is one minor difference: SimpleRNN processes batches of sequences, like all other Keras layers, not a single sequence as in this NumPy example. This means it takes inputs of shape (batch_size, timesteps, input_features), rather than (timesteps,input_features)."
   ]
  },
  {
   "cell_type": "code",
   "execution_count": 59,
   "id": "c8eaa0ba",
   "metadata": {},
   "outputs": [],
   "source": [
    "timesteps = 100\n",
    "input_features = 32\n",
    "output_features = 64\n",
    "\n",
    "inputs = np.random.random((timesteps,input_features)) #(100,32)\n",
    "state_t = np.zeros((output_features,)) #initial state: all zeros vector\n",
    "\n",
    "#create random weight matrices\n",
    "W = np.random.random((output_features,input_features)) #(64,32)\n",
    "U = np.random.random((output_features,output_features)) #(64,64)\n",
    "b = np.random.random((output_features,)) #(64,)\n",
    "\n",
    "successive_outputs = []\n",
    "for input_t in inputs: #input_t.shape = (input_features,)\n",
    "    output_t = np.tanh(np.dot(W,input_t) + np.dot(U,state_t) + b)\n",
    "    successive_outputs.append(output_t)\n",
    "    state_t = output_t #update the state of the network for the next timestep\n",
    "    #actually we don't need the entire output sequence, we only need this last output_t cuz it already contains information from 0 ~ t\n",
    "    \n",
    "final_output_sequence = np.stack(successive_outputs,axis=0) #shape(timesteps,output_features)"
   ]
  },
  {
   "cell_type": "code",
   "execution_count": 61,
   "id": "f91a4567",
   "metadata": {},
   "outputs": [
    {
     "data": {
      "text/plain": [
       "(100, 64)"
      ]
     },
     "execution_count": 61,
     "metadata": {},
     "output_type": "execute_result"
    }
   ],
   "source": [
    "final_output_sequence.shape"
   ]
  },
  {
   "cell_type": "markdown",
   "id": "9d0db373",
   "metadata": {},
   "source": [
    "<u><li>Keras Implementation</u>\n",
    "\n",
    "SimpleRNN is too simplistic + vanishing gradient problem, so it's rarely used in practice."
   ]
  },
  {
   "cell_type": "code",
   "execution_count": 70,
   "id": "e0fde1b3",
   "metadata": {},
   "outputs": [
    {
     "name": "stdout",
     "output_type": "stream",
     "text": [
      "(None, 120, 16)\n"
     ]
    }
   ],
   "source": [
    "n_features = 14\n",
    "timesteps = 120\n",
    "\n",
    "inputs = Input(shape=(timesteps,n_features))\n",
    "outputs = SimpleRNN(16,return_sequences=True)(inputs) #false is the default\n",
    "#if set to False: output.shape = (None,16)\n",
    "\n",
    "print(outputs.shape)"
   ]
  },
  {
   "cell_type": "markdown",
   "id": "0d16ad48",
   "metadata": {},
   "source": [
    "For more Advanced RNNS:\n",
    "\n",
    "- Recurrent dropout: a variant of dropout, used to fight overfitting in recurrent layers.\n",
    "- Stacking recurrent layers: increases the representational power of the model (at the cost of higher computational loads).\n",
    "- Bidirectional recurrent layers: present the same information to a recurrent network in different ways, increasing accuracy and mitigating forgetting issues.\n",
    "\n",
    "#### 7.2 Recurrent Dropout\n",
    "\n",
    "It has long been known that applying dropout before a recurrent layer hinders learning rather than helping with regularization. In 2016, Yarin Gal determined the proper way to use dropout with a recurrent network: \n",
    "\n",
    "The same dropout mask (the same pattern of dropped units) should be applied at every timestep, instead of using a dropout mask that varies randomly from timestep to timestep. \n",
    "\n",
    "What’s more, in order to regularize the representations formed by the recurrent gates of layers such as GRU and LSTM, a temporally constant dropout mask should be applied to the inner recurrent activations of the layer (a recurrent dropout mask). Using the same dropout mask at every timestep allows the network to properly propagate its learning error through time; a temporally random dropout mask would disrupt this error signal and be harmful to the learning process.\n",
    "\n",
    "Every recurrent layer in Keras has two dropout-related arguments: dropout, a float specifying the dropout rate for input units of the layer, and recurrent_dropout, specifying the dropout rate of the recurrent units. \n",
    "\n",
    "Let’s add recurrent dropout to the LSTM layer of our first LSTM example and see how doing so impacts overfitting. Thanks to dropout, we won’t need to rely as much on network size for regularization, so we’ll use an LSTM layer with twice as many units, which should, hopefully, be more expressive (without dropout, this network would have started overfitting right away—try it). Because networks being regularized with dropout always take much longer to fully converge, we’ll train the model for five times as many epochs.\n",
    "\n",
    "Should be better according to the book but it barely improved <b>test MAE = 2.55</b>. "
   ]
  },
  {
   "cell_type": "code",
   "execution_count": 75,
   "id": "c05e851a",
   "metadata": {
    "collapsed": true
   },
   "outputs": [
    {
     "name": "stdout",
     "output_type": "stream",
     "text": [
      "Epoch 1/50\n",
      "819/819 [==============================] - 177s 213ms/step - loss: 31.1189 - mae: 4.0684 - val_loss: 9.6332 - val_mae: 2.4001\n",
      "Epoch 2/50\n",
      "819/819 [==============================] - 187s 228ms/step - loss: 14.7542 - mae: 2.9815 - val_loss: 9.1885 - val_mae: 2.3524\n",
      "Epoch 3/50\n",
      "819/819 [==============================] - 188s 229ms/step - loss: 13.8101 - mae: 2.8863 - val_loss: 9.0802 - val_mae: 2.3284\n",
      "Epoch 4/50\n",
      "819/819 [==============================] - 189s 231ms/step - loss: 13.1627 - mae: 2.8179 - val_loss: 9.5995 - val_mae: 2.4099\n",
      "Epoch 5/50\n",
      "819/819 [==============================] - 185s 226ms/step - loss: 12.7171 - mae: 2.7661 - val_loss: 9.2122 - val_mae: 2.3674\n",
      "Epoch 6/50\n",
      "819/819 [==============================] - 186s 227ms/step - loss: 12.2955 - mae: 2.7210 - val_loss: 9.4385 - val_mae: 2.3866\n",
      "Epoch 7/50\n",
      "819/819 [==============================] - 190s 232ms/step - loss: 11.9360 - mae: 2.6803 - val_loss: 9.3645 - val_mae: 2.3798\n",
      "Epoch 8/50\n",
      "819/819 [==============================] - 187s 228ms/step - loss: 11.5963 - mae: 2.6433 - val_loss: 9.8266 - val_mae: 2.4270\n",
      "Epoch 9/50\n",
      "819/819 [==============================] - 186s 227ms/step - loss: 11.3955 - mae: 2.6171 - val_loss: 9.4272 - val_mae: 2.3821\n",
      "Epoch 10/50\n",
      "819/819 [==============================] - 184s 225ms/step - loss: 11.1539 - mae: 2.5897 - val_loss: 9.7430 - val_mae: 2.4159\n",
      "Epoch 11/50\n",
      "819/819 [==============================] - 183s 223ms/step - loss: 10.9671 - mae: 2.5668 - val_loss: 9.2410 - val_mae: 2.3576\n",
      "Epoch 12/50\n",
      "819/819 [==============================] - 182s 222ms/step - loss: 10.8340 - mae: 2.5531 - val_loss: 9.4135 - val_mae: 2.3882\n",
      "Epoch 13/50\n",
      "819/819 [==============================] - 183s 223ms/step - loss: 10.7398 - mae: 2.5383 - val_loss: 9.6264 - val_mae: 2.4144\n",
      "Epoch 14/50\n",
      "819/819 [==============================] - 182s 222ms/step - loss: 10.5556 - mae: 2.5212 - val_loss: 9.8795 - val_mae: 2.4462\n",
      "Epoch 15/50\n",
      "819/819 [==============================] - 180s 220ms/step - loss: 10.3937 - mae: 2.5031 - val_loss: 9.7480 - val_mae: 2.4310\n",
      "Epoch 16/50\n",
      "819/819 [==============================] - 183s 224ms/step - loss: 10.3288 - mae: 2.4884 - val_loss: 9.5872 - val_mae: 2.4056\n",
      "Epoch 17/50\n",
      "819/819 [==============================] - 185s 226ms/step - loss: 10.1856 - mae: 2.4755 - val_loss: 9.8843 - val_mae: 2.4452\n",
      "Epoch 18/50\n",
      "819/819 [==============================] - 187s 228ms/step - loss: 10.1044 - mae: 2.4682 - val_loss: 10.2105 - val_mae: 2.4923\n",
      "Epoch 19/50\n",
      "819/819 [==============================] - 190s 232ms/step - loss: 10.0126 - mae: 2.4557 - val_loss: 10.1645 - val_mae: 2.4834\n",
      "Epoch 20/50\n",
      "819/819 [==============================] - 187s 229ms/step - loss: 9.9648 - mae: 2.4492 - val_loss: 10.2477 - val_mae: 2.4836\n",
      "Epoch 21/50\n",
      "819/819 [==============================] - 186s 227ms/step - loss: 9.8364 - mae: 2.4338 - val_loss: 10.0332 - val_mae: 2.4580\n",
      "Epoch 22/50\n",
      "819/819 [==============================] - 188s 230ms/step - loss: 9.7602 - mae: 2.4271 - val_loss: 9.9479 - val_mae: 2.4569\n",
      "Epoch 23/50\n",
      "819/819 [==============================] - 192s 234ms/step - loss: 9.6876 - mae: 2.4162 - val_loss: 10.2288 - val_mae: 2.4917\n",
      "Epoch 24/50\n",
      "819/819 [==============================] - 185s 225ms/step - loss: 9.6620 - mae: 2.4112 - val_loss: 10.3665 - val_mae: 2.5042\n",
      "Epoch 25/50\n",
      "819/819 [==============================] - 188s 229ms/step - loss: 9.5304 - mae: 2.3967 - val_loss: 10.1388 - val_mae: 2.4787\n",
      "Epoch 26/50\n",
      "819/819 [==============================] - 186s 227ms/step - loss: 9.4529 - mae: 2.3842 - val_loss: 10.4713 - val_mae: 2.5123\n",
      "Epoch 27/50\n",
      "819/819 [==============================] - 188s 229ms/step - loss: 9.4120 - mae: 2.3794 - val_loss: 10.3112 - val_mae: 2.5052\n",
      "Epoch 28/50\n",
      "819/819 [==============================] - 187s 228ms/step - loss: 9.3054 - mae: 2.3690 - val_loss: 10.3254 - val_mae: 2.4987\n",
      "Epoch 29/50\n",
      "819/819 [==============================] - 185s 226ms/step - loss: 9.2339 - mae: 2.3595 - val_loss: 10.5535 - val_mae: 2.5286\n",
      "Epoch 30/50\n",
      "819/819 [==============================] - 173s 211ms/step - loss: 9.2069 - mae: 2.3552 - val_loss: 10.6888 - val_mae: 2.5513\n",
      "Epoch 31/50\n",
      "819/819 [==============================] - 172s 210ms/step - loss: 9.1427 - mae: 2.3465 - val_loss: 10.7997 - val_mae: 2.5593\n",
      "Epoch 32/50\n",
      "819/819 [==============================] - 175s 213ms/step - loss: 9.0949 - mae: 2.3407 - val_loss: 10.9049 - val_mae: 2.5702\n",
      "Epoch 33/50\n",
      "819/819 [==============================] - 178s 218ms/step - loss: 9.0723 - mae: 2.3368 - val_loss: 10.9914 - val_mae: 2.5873\n",
      "Epoch 34/50\n",
      "819/819 [==============================] - 180s 220ms/step - loss: 9.0213 - mae: 2.3294 - val_loss: 11.4263 - val_mae: 2.6349\n",
      "Epoch 35/50\n",
      "819/819 [==============================] - 180s 219ms/step - loss: 8.9703 - mae: 2.3240 - val_loss: 10.9527 - val_mae: 2.5766\n",
      "Epoch 36/50\n",
      "819/819 [==============================] - 180s 220ms/step - loss: 8.9450 - mae: 2.3204 - val_loss: 10.9308 - val_mae: 2.5796\n",
      "Epoch 37/50\n",
      "819/819 [==============================] - 183s 223ms/step - loss: 8.9471 - mae: 2.3195 - val_loss: 11.0256 - val_mae: 2.5874\n",
      "Epoch 38/50\n",
      "819/819 [==============================] - 187s 228ms/step - loss: 8.8719 - mae: 2.3095 - val_loss: 11.7794 - val_mae: 2.6680\n",
      "Epoch 39/50\n",
      "819/819 [==============================] - 189s 230ms/step - loss: 8.8343 - mae: 2.3073 - val_loss: 11.3286 - val_mae: 2.6177\n",
      "Epoch 40/50\n",
      "819/819 [==============================] - 182s 222ms/step - loss: 8.7839 - mae: 2.2975 - val_loss: 11.7010 - val_mae: 2.6591\n",
      "Epoch 41/50\n",
      "819/819 [==============================] - 183s 223ms/step - loss: 8.7256 - mae: 2.2892 - val_loss: 11.4412 - val_mae: 2.6228\n",
      "Epoch 42/50\n",
      "819/819 [==============================] - 181s 221ms/step - loss: 8.7277 - mae: 2.2915 - val_loss: 10.8679 - val_mae: 2.5664\n",
      "Epoch 43/50\n",
      "819/819 [==============================] - 183s 224ms/step - loss: 8.6491 - mae: 2.2775 - val_loss: 10.8320 - val_mae: 2.5582\n",
      "Epoch 44/50\n",
      "819/819 [==============================] - 186s 227ms/step - loss: 8.6665 - mae: 2.2823 - val_loss: 11.2972 - val_mae: 2.6137\n",
      "Epoch 45/50\n",
      "819/819 [==============================] - 181s 221ms/step - loss: 8.6680 - mae: 2.2808 - val_loss: 11.0114 - val_mae: 2.5828\n",
      "Epoch 46/50\n",
      "819/819 [==============================] - 179s 218ms/step - loss: 8.6117 - mae: 2.2756 - val_loss: 11.1867 - val_mae: 2.5993\n",
      "Epoch 47/50\n",
      "819/819 [==============================] - 181s 220ms/step - loss: 8.5441 - mae: 2.2669 - val_loss: 11.1558 - val_mae: 2.6038\n",
      "Epoch 48/50\n",
      "819/819 [==============================] - 179s 218ms/step - loss: 8.5716 - mae: 2.2645 - val_loss: 11.5914 - val_mae: 2.6432\n",
      "Epoch 49/50\n",
      "819/819 [==============================] - 181s 221ms/step - loss: 8.5166 - mae: 2.2616 - val_loss: 11.6236 - val_mae: 2.6490\n",
      "Epoch 50/50\n",
      "819/819 [==============================] - 181s 221ms/step - loss: 8.5019 - mae: 2.2614 - val_loss: 11.2599 - val_mae: 2.6059\n",
      "405/405 [==============================] - 16s 38ms/step - loss: 10.5594 - mae: 2.5546\n",
      "Test MAE: 2.55\n"
     ]
    }
   ],
   "source": [
    "inputs = Input(shape=(sequence_length,raw.shape[-1]))\n",
    "x = LSTM(32,recurrent_dropout=0.25)(inputs)\n",
    "x = Dropout(0.5)(x) #to regularize the Dense layer, we also add a Dropout layer after the LSTM\n",
    "outputs = Dense(1)(x)\n",
    "model = Model(inputs,outputs)\n",
    "\n",
    "callbacks = [ModelCheckpoint('jena_lstm_dropout.keras',save_best_only=True)]\n",
    "\n",
    "model.compile(optimizer='rmsprop',loss='mse',metrics=['mae'])\n",
    "history = model.fit(train,epochs=50,validation_data=val,callbacks=callbacks)\n",
    "\n",
    "model = keras.models.load_model('jena_lstm_dropout.keras')\n",
    "\n",
    "print(f\"Test MAE: {model.evaluate(test)[1]:.2f}\")"
   ]
  },
  {
   "cell_type": "code",
   "execution_count": 77,
   "id": "e1e4571c",
   "metadata": {},
   "outputs": [
    {
     "data": {
      "image/png": "[encoded data removed]",
      "text/plain": [
       "<Figure size 432x288 with 1 Axes>"
      ]
     },
     "metadata": {
      "needs_background": "light"
     },
     "output_type": "display_data"
    }
   ],
   "source": [
    "loss_df = pd.DataFrame({'training_mae': history.history['mae'],\n",
    "                      'validation_mae':history.history['val_mae']})\n",
    "loss_df.plot();"
   ]
  },
  {
   "cell_type": "markdown",
   "id": "a6f800e1",
   "metadata": {},
   "source": [
    "#### 7.3 Stacking RNNS\n",
    "\n",
    "The description of the universal machine learning workflow: it’s generally a good idea to increase the capacity of your model until overfitting becomes the primary obstacle (assuming you’re already taking basic steps to mitigate overfitting, such as using dropout). \n",
    "\n",
    "Increasing network capacity is typically done by increasing the number of units in the layers or adding more layers. Recurrent layer stacking is a classic way to build more-powerful recurrent networks: for instance, not too long ago the Google Translate algorithm was powered by a stack of seven large LSTM layers—that’s huge.\n",
    "\n",
    "To stack recurrent layers on top of each other in Keras, all intermediate layers should return their full sequence of outputs of shape (batch_size, timesteps, output_features) rather than their output at the last timestep (batch_size, output_features). This is done by specifying return_sequences=True.\n",
    "\n",
    "You can see that the added layer does improve the results a bit <b>test MAE = 2.45</b>, though not dramatically. You may be seeing diminishing returns from\n",
    "increasing network capacity at this point."
   ]
  },
  {
   "cell_type": "code",
   "execution_count": 80,
   "id": "23068e1b",
   "metadata": {
    "collapsed": true
   },
   "outputs": [
    {
     "name": "stdout",
     "output_type": "stream",
     "text": [
      "Epoch 1/50\n",
      "819/819 [==============================] - 355s 429ms/step - loss: 26.6974 - mae: 3.8001 - val_loss: 9.3470 - val_mae: 2.3689\n",
      "Epoch 2/50\n",
      "819/819 [==============================] - 362s 442ms/step - loss: 13.9623 - mae: 2.8951 - val_loss: 9.0159 - val_mae: 2.3302\n",
      "Epoch 3/50\n",
      "819/819 [==============================] - 366s 447ms/step - loss: 13.2395 - mae: 2.8213 - val_loss: 8.6474 - val_mae: 2.2798\n",
      "Epoch 4/50\n",
      "819/819 [==============================] - 368s 449ms/step - loss: 12.7074 - mae: 2.7623 - val_loss: 9.4799 - val_mae: 2.3975\n",
      "Epoch 5/50\n",
      "819/819 [==============================] - 374s 456ms/step - loss: 12.2518 - mae: 2.7153 - val_loss: 9.0630 - val_mae: 2.3448\n",
      "Epoch 6/50\n",
      "819/819 [==============================] - 366s 446ms/step - loss: 11.7655 - mae: 2.6618 - val_loss: 8.7816 - val_mae: 2.3072\n",
      "Epoch 7/50\n",
      "819/819 [==============================] - 359s 438ms/step - loss: 11.3264 - mae: 2.6164 - val_loss: 8.6124 - val_mae: 2.2836\n",
      "Epoch 8/50\n",
      "819/819 [==============================] - 358s 437ms/step - loss: 11.0086 - mae: 2.5759 - val_loss: 8.9593 - val_mae: 2.3324\n",
      "Epoch 9/50\n",
      "819/819 [==============================] - 355s 434ms/step - loss: 10.6816 - mae: 2.5393 - val_loss: 8.8836 - val_mae: 2.3248\n",
      "Epoch 10/50\n",
      "819/819 [==============================] - 357s 435ms/step - loss: 10.3824 - mae: 2.5025 - val_loss: 9.1267 - val_mae: 2.3596\n",
      "Epoch 11/50\n",
      "819/819 [==============================] - 358s 437ms/step - loss: 10.1008 - mae: 2.4694 - val_loss: 9.5650 - val_mae: 2.4261\n",
      "Epoch 12/50\n",
      "819/819 [==============================] - 359s 438ms/step - loss: 9.9036 - mae: 2.4444 - val_loss: 9.3933 - val_mae: 2.3975\n",
      "Epoch 13/50\n",
      "819/819 [==============================] - 365s 445ms/step - loss: 9.6974 - mae: 2.4202 - val_loss: 9.7753 - val_mae: 2.4573\n",
      "Epoch 14/50\n",
      "819/819 [==============================] - 398s 485ms/step - loss: 9.4948 - mae: 2.3943 - val_loss: 9.5442 - val_mae: 2.4148\n",
      "Epoch 15/50\n",
      "819/819 [==============================] - 410s 500ms/step - loss: 9.3071 - mae: 2.3683 - val_loss: 9.8848 - val_mae: 2.4582\n",
      "Epoch 16/50\n",
      "819/819 [==============================] - 402s 491ms/step - loss: 9.1547 - mae: 2.3483 - val_loss: 9.7760 - val_mae: 2.4643\n",
      "Epoch 17/50\n",
      "819/819 [==============================] - 460s 562ms/step - loss: 8.9751 - mae: 2.3264 - val_loss: 10.2212 - val_mae: 2.5092\n",
      "Epoch 18/50\n",
      "819/819 [==============================] - 510s 623ms/step - loss: 8.8560 - mae: 2.3078 - val_loss: 10.0753 - val_mae: 2.4842\n",
      "Epoch 19/50\n",
      "819/819 [==============================] - 502s 612ms/step - loss: 8.7267 - mae: 2.2907 - val_loss: 10.3633 - val_mae: 2.5199\n",
      "Epoch 20/50\n",
      "819/819 [==============================] - 494s 603ms/step - loss: 8.5831 - mae: 2.2736 - val_loss: 10.4744 - val_mae: 2.5297\n",
      "Epoch 21/50\n",
      "819/819 [==============================] - 504s 615ms/step - loss: 8.5295 - mae: 2.2690 - val_loss: 10.5505 - val_mae: 2.5491\n",
      "Epoch 22/50\n",
      "819/819 [==============================] - 500s 610ms/step - loss: 8.4167 - mae: 2.2532 - val_loss: 10.4554 - val_mae: 2.5362\n",
      "Epoch 23/50\n",
      "819/819 [==============================] - 510s 623ms/step - loss: 8.3151 - mae: 2.2396 - val_loss: 10.7963 - val_mae: 2.5934\n",
      "Epoch 24/50\n",
      "819/819 [==============================] - 517s 631ms/step - loss: 8.2441 - mae: 2.2285 - val_loss: 10.6574 - val_mae: 2.5674\n",
      "Epoch 25/50\n",
      "819/819 [==============================] - 510s 623ms/step - loss: 8.1382 - mae: 2.2151 - val_loss: 11.3206 - val_mae: 2.6323\n",
      "Epoch 26/50\n",
      "819/819 [==============================] - 513s 626ms/step - loss: 8.0476 - mae: 2.2031 - val_loss: 11.4718 - val_mae: 2.6719\n",
      "Epoch 27/50\n",
      "819/819 [==============================] - 502s 613ms/step - loss: 8.0604 - mae: 2.2040 - val_loss: 11.3314 - val_mae: 2.6311\n",
      "Epoch 28/50\n",
      "819/819 [==============================] - 508s 620ms/step - loss: 7.9249 - mae: 2.1874 - val_loss: 11.1808 - val_mae: 2.6122\n",
      "Epoch 29/50\n",
      "819/819 [==============================] - 506s 618ms/step - loss: 7.9028 - mae: 2.1813 - val_loss: 11.2586 - val_mae: 2.6472\n",
      "Epoch 30/50\n",
      "819/819 [==============================] - 492s 601ms/step - loss: 7.8204 - mae: 2.1684 - val_loss: 11.3129 - val_mae: 2.6432\n",
      "Epoch 31/50\n",
      "819/819 [==============================] - 508s 620ms/step - loss: 7.7571 - mae: 2.1613 - val_loss: 11.5279 - val_mae: 2.6649\n",
      "Epoch 32/50\n",
      "819/819 [==============================] - 514s 627ms/step - loss: 7.6850 - mae: 2.1499 - val_loss: 11.6363 - val_mae: 2.6694\n",
      "Epoch 33/50\n",
      "819/819 [==============================] - 512s 626ms/step - loss: 7.6658 - mae: 2.1488 - val_loss: 11.6099 - val_mae: 2.6627\n",
      "Epoch 34/50\n",
      "819/819 [==============================] - 507s 619ms/step - loss: 7.6177 - mae: 2.1427 - val_loss: 11.8429 - val_mae: 2.6938\n",
      "Epoch 35/50\n",
      "819/819 [==============================] - 508s 620ms/step - loss: 7.5869 - mae: 2.1364 - val_loss: 11.6758 - val_mae: 2.6576\n",
      "Epoch 36/50\n",
      "819/819 [==============================] - 397s 484ms/step - loss: 7.5283 - mae: 2.1293 - val_loss: 12.1899 - val_mae: 2.7473\n",
      "Epoch 37/50\n",
      "819/819 [==============================] - 410s 501ms/step - loss: 7.4650 - mae: 2.1191 - val_loss: 12.2792 - val_mae: 2.7251\n",
      "Epoch 38/50\n",
      "819/819 [==============================] - 426s 520ms/step - loss: 7.4566 - mae: 2.1159 - val_loss: 12.2131 - val_mae: 2.7371\n",
      "Epoch 39/50\n",
      "819/819 [==============================] - 425s 519ms/step - loss: 7.3680 - mae: 2.1042 - val_loss: 12.5485 - val_mae: 2.7912\n",
      "Epoch 40/50\n",
      "819/819 [==============================] - 424s 518ms/step - loss: 7.3595 - mae: 2.1016 - val_loss: 12.1129 - val_mae: 2.7100\n",
      "Epoch 41/50\n",
      "819/819 [==============================] - 411s 502ms/step - loss: 7.3210 - mae: 2.0983 - val_loss: 12.3345 - val_mae: 2.7428\n",
      "Epoch 42/50\n",
      "819/819 [==============================] - 401s 490ms/step - loss: 7.3291 - mae: 2.1003 - val_loss: 12.2307 - val_mae: 2.7312\n",
      "Epoch 43/50\n",
      "819/819 [==============================] - 417s 509ms/step - loss: 7.2755 - mae: 2.0914 - val_loss: 12.1064 - val_mae: 2.7288\n",
      "Epoch 44/50\n",
      "819/819 [==============================] - 402s 490ms/step - loss: 7.2301 - mae: 2.0868 - val_loss: 12.7234 - val_mae: 2.8031\n",
      "Epoch 45/50\n",
      "819/819 [==============================] - 411s 502ms/step - loss: 7.2106 - mae: 2.0792 - val_loss: 13.0331 - val_mae: 2.8374\n",
      "Epoch 46/50\n",
      "819/819 [==============================] - 410s 500ms/step - loss: 7.2033 - mae: 2.0818 - val_loss: 12.8133 - val_mae: 2.8129\n",
      "Epoch 47/50\n",
      "819/819 [==============================] - 402s 490ms/step - loss: 7.1589 - mae: 2.0717 - val_loss: 12.6971 - val_mae: 2.7814\n",
      "Epoch 48/50\n",
      "819/819 [==============================] - 400s 488ms/step - loss: 7.1389 - mae: 2.0729 - val_loss: 12.9677 - val_mae: 2.8328\n",
      "Epoch 49/50\n",
      "819/819 [==============================] - 513s 626ms/step - loss: 7.1132 - mae: 2.0689 - val_loss: 12.3613 - val_mae: 2.7493\n",
      "Epoch 50/50\n",
      "819/819 [==============================] - 528s 645ms/step - loss: 7.0981 - mae: 2.0644 - val_loss: 12.7760 - val_mae: 2.7784\n",
      "405/405 [==============================] - 42s 102ms/step - loss: 9.6765 - mae: 2.4458\n",
      "Test MAE: 2.45\n"
     ]
    }
   ],
   "source": [
    "inputs = Input(shape=(sequence_length,raw.shape[-1]))\n",
    "x = GRU(32,recurrent_dropout=0.5,return_sequences=True)(inputs)\n",
    "x = GRU(32,recurrent_dropout=0.5)(x)\n",
    "x = Dropout(0.5)(x) \n",
    "\n",
    "outputs = Dense(1)(x)\n",
    "model = Model(inputs,outputs)\n",
    "\n",
    "callbacks = [ModelCheckpoint('jena_stacked_gru_dropout.keras',save_best_only=True)]\n",
    "\n",
    "model.compile(optimizer='rmsprop',loss='mse',metrics=['mae'])\n",
    "history = model.fit(train,epochs=50,validation_data=val,callbacks=callbacks)\n",
    "\n",
    "model = keras.models.load_model('jena_stacked_gru_dropout.keras')\n",
    "\n",
    "print(f\"Test MAE: {model.evaluate(test)[1]:.2f}\")"
   ]
  },
  {
   "cell_type": "code",
   "execution_count": 81,
   "id": "cb7459b5",
   "metadata": {},
   "outputs": [
    {
     "data": {
      "image/png": "[encoded data removed]",
      "text/plain": [
       "<Figure size 432x288 with 1 Axes>"
      ]
     },
     "metadata": {
      "needs_background": "light"
     },
     "output_type": "display_data"
    }
   ],
   "source": [
    "loss_df = pd.DataFrame({'training_mae': history.history['mae'],\n",
    "                      'validation_mae':history.history['val_mae']})\n",
    "loss_df.plot();"
   ]
  },
  {
   "cell_type": "markdown",
   "id": "7a986054",
   "metadata": {},
   "source": [
    "#### 7.4 Bidirectional RNNs\n",
    "\n",
    "Bidirectional(), frequently used in natural language processing, not timeseries forecasting. \n",
    "\n",
    "A bidirectional RNN exploits the order sensitivity of RNNs: it uses two regular RNNs, each of which processes the input sequence in one direction (chronologically and antichronologically), and then merges their representations. By processing a sequence\n",
    "both ways, a bidirectional RNN can catch patterns that may be overlooked by a unidirectional RNN.\n",
    "\n",
    "However, antichronological RNNs strongly underperform in the case of temperature prediction. This makes perfect sense: the underlying LSTM layer will typically be better at remembering the recent past than the distant past, and naturally the more recent weather data points are more predictive than older data points."
   ]
  },
  {
   "cell_type": "markdown",
   "id": "b93afb80",
   "metadata": {},
   "source": [
    "#### 7.5 Better improve the model\n",
    "- Adjust the number of units in each recurrent layer in the stacked setup, as well as the amount of dropout. The current choices are largely arbitrary and thus probably suboptimal.\n",
    "\n",
    "- Adjust the learning rate used by the RMSprop optimizer, or try a different optimizer.\n",
    "\n",
    "- Try using a stack of Dense layers as the regressor on top of the recurrent layer, instead of a single Dense layer.\n",
    "\n",
    "- Improve the input to the model: try using longer or shorter sequences or a different sampling rate, or start doing feature engineering.\n",
    "\n",
    "- Incorporate other locations weather data? how?<br>\n",
    "    while near-future weather is highly predictable if you have access to data from a wide grid of different locations, it’s not very predictable if you only have measurements from a single location. The evolution of the weather where you are depends on current weather patterns in surrounding locations."
   ]
  },
  {
   "cell_type": "code",
   "execution_count": null,
   "id": "4388fa44",
   "metadata": {},
   "outputs": [],
   "source": []
  },
  {
   "cell_type": "code",
   "execution_count": null,
   "id": "fec02173",
   "metadata": {},
   "outputs": [],
   "source": []
  },
  {
   "cell_type": "code",
   "execution_count": null,
   "id": "3fe0c5f9",
   "metadata": {},
   "outputs": [],
   "source": []
  },
  {
   "cell_type": "code",
   "execution_count": null,
   "id": "fc4cca53",
   "metadata": {},
   "outputs": [],
   "source": []
  },
  {
   "cell_type": "code",
   "execution_count": null,
   "id": "2dc7da08",
   "metadata": {},
   "outputs": [],
   "source": []
  },
  {
   "cell_type": "code",
   "execution_count": null,
   "id": "4b6f103c",
   "metadata": {},
   "outputs": [],
   "source": []
  },
  {
   "cell_type": "code",
   "execution_count": null,
   "id": "fdda365f",
   "metadata": {},
   "outputs": [],
   "source": []
  },
  {
   "cell_type": "code",
   "execution_count": null,
   "id": "50d2b7fa",
   "metadata": {},
   "outputs": [],
   "source": []
  },
  {
   "cell_type": "code",
   "execution_count": 92,
   "id": "07d033ac",
   "metadata": {},
   "outputs": [],
   "source": [
    "class NaiveDense:\n",
    "    def __init__(self,input_size,output_size,activation):\n",
    "        self.activation = activation\n",
    "        \n",
    "        w_shape = (input_size,output_size)\n",
    "        w_initial_value = tf.random.uniform(w_shape,minval=0,maxval=1e-1)\n",
    "        self.W = tf.Variable(w_initial_value)\n",
    "        \n",
    "        b_shape = (output_size,)\n",
    "        b_initial_value = tf.zeros(b_shape)\n",
    "        self.b = tf.Variable(b_initial_value)\n",
    "        \n",
    "    def __call__(self,inputs):\n",
    "        return self.activation(tf.matmul(inputs,self.W)+self.b)\n",
    "    \n",
    "    @property\n",
    "    def weights(self):\n",
    "        return [self.W,self.b]"
   ]
  },
  {
   "cell_type": "code",
   "execution_count": 9,
   "id": "76f34966",
   "metadata": {},
   "outputs": [
    {
     "data": {
      "image/png": "[encoded data removed]",
      "text/plain": [
       "<Figure size 432x288 with 1 Axes>"
      ]
     },
     "metadata": {
      "needs_background": "light"
     },
     "output_type": "display_data"
    }
   ],
   "source": [
    "#Linear Regression from Scratch with Tensorflow\n",
    "#1/ generating 2 classes of random points in a 2D plabe\n",
    "num_samples_per_class = 1000\n",
    "negative_samples = np.random.multivariate_normal(mean=[0, 3],\n",
    "                                                 cov=[[1, 0.5],[0.5, 1]],\n",
    "                                                 size=num_samples_per_class)\n",
    "positive_samples = np.random.multivariate_normal(mean=[3, 0],\n",
    "                                                 cov=[[1, 0.5],[0.5, 1]],\n",
    "                                                 size=num_samples_per_class)\n",
    "\n",
    "inputs = np.vstack((negative_samples, positive_samples)).astype(np.float32)\n",
    "\n",
    "targets = np.vstack((np.zeros((num_samples_per_class, 1), dtype=\"float32\"),\n",
    "np.ones((num_samples_per_class, 1), dtype=\"float32\")))\n",
    "\n",
    "plt.scatter(inputs[:, 0], inputs[:, 1], c=targets[:, 0]);"
   ]
  },
  {
   "cell_type": "code",
   "execution_count": 13,
   "id": "c81a14d5",
   "metadata": {
    "collapsed": true
   },
   "outputs": [
    {
     "name": "stdout",
     "output_type": "stream",
     "text": [
      "Loss at step 0: 4.692168712615967\n",
      "Loss at step 1: 0.6453100442886353\n",
      "Loss at step 2: 0.2054225653409958\n",
      "Loss at step 3: 0.14118488132953644\n",
      "Loss at step 4: 0.12507353723049164\n",
      "Loss at step 5: 0.11571990698575974\n",
      "Loss at step 6: 0.10784704238176346\n",
      "Loss at step 7: 0.10073544085025787\n",
      "Loss at step 8: 0.09424500912427902\n",
      "Loss at step 9: 0.0883130207657814\n",
      "Loss at step 10: 0.08289032429456711\n",
      "Loss at step 11: 0.07793310284614563\n",
      "Loss at step 12: 0.0734013244509697\n",
      "Loss at step 13: 0.06925851106643677\n",
      "Loss at step 14: 0.06547129899263382\n",
      "Loss at step 15: 0.062009140849113464\n",
      "Loss at step 16: 0.058844130486249924\n",
      "Loss at step 17: 0.055950772017240524\n",
      "Loss at step 18: 0.05330574885010719\n",
      "Loss at step 19: 0.05088775232434273\n",
      "Loss at step 20: 0.048677291721105576\n",
      "Loss at step 21: 0.046656545251607895\n",
      "Loss at step 22: 0.0448092482984066\n",
      "Loss at step 23: 0.04312051087617874\n",
      "Loss at step 24: 0.04157669469714165\n",
      "Loss at step 25: 0.04016539454460144\n",
      "Loss at step 26: 0.03887522965669632\n",
      "Loss at step 27: 0.03769579902291298\n",
      "Loss at step 28: 0.036617591977119446\n",
      "Loss at step 29: 0.0356319360435009\n",
      "Loss at step 30: 0.034730877727270126\n",
      "Loss at step 31: 0.03390715271234512\n",
      "Loss at step 32: 0.03315412625670433\n",
      "Loss at step 33: 0.03246573731303215\n",
      "Loss at step 34: 0.03183642402291298\n",
      "Loss at step 35: 0.031261131167411804\n",
      "Loss at step 36: 0.03073522076010704\n",
      "Loss at step 37: 0.030254436656832695\n",
      "Loss at step 38: 0.029814928770065308\n",
      "Loss at step 39: 0.029413143172860146\n"
     ]
    }
   ],
   "source": [
    "input_dim = 2\n",
    "output_dim = 1\n",
    "W = tf.Variable(initial_value=tf.random.uniform(shape=(input_dim,output_dim)))\n",
    "b = tf.Variable(initial_value=tf.zeros(shape=(output_dim,)))\n",
    "\n",
    "#forward pass\n",
    "def model(inputs):\n",
    "    return tf.matmul(inputs,W) + b\n",
    "\n",
    "#MSE loss function\n",
    "def square_loss(targets,predictions):\n",
    "    per_sample_losses = tf.square(targets-predictions)\n",
    "    return tf.reduce_mean(per_sample_losses)\n",
    "\n",
    "#Training\n",
    "learning_rate = 0.1\n",
    "def training_step(inputs,targets):\n",
    "    #forward pass while gradient taping\n",
    "    with tf.GradientTape() as tape:\n",
    "        predictions = model(inputs)\n",
    "        loss = square_loss(predictions,targets)\n",
    "    #retrieve the gradient of the loss with regard to the weights    \n",
    "    grad_loss_wrt_W, grad_loss_wrt_b = tape.gradient(loss,[W,b])\n",
    "    #update the weights\n",
    "    W.assign_sub(grad_loss_wrt_W*learning_rate)\n",
    "    b.assign_sub(grad_loss_wrt_b*learning_rate)\n",
    "    return loss\n",
    "    \n",
    "#batch training loop\n",
    "for step in range(40):\n",
    "    loss = training_step(inputs,targets)\n",
    "    print(\"Loss at step {}: {}\".format(step,loss))"
   ]
  },
  {
   "cell_type": "code",
   "execution_count": 14,
   "id": "e1fd1aaf",
   "metadata": {},
   "outputs": [
    {
     "data": {
      "image/png": "[encoded data removed]",
      "text/plain": [
       "<Figure size 432x288 with 1 Axes>"
      ]
     },
     "metadata": {
      "needs_background": "light"
     },
     "output_type": "display_data"
    }
   ],
   "source": [
    "predictions = model(inputs)\n",
    "plt.scatter(inputs[:, 0], inputs[:, 1], c=predictions[:, 0] > 0.5);"
   ]
  }
 ],
 "metadata": {
  "kernelspec": {
   "display_name": "Python 3 (ipykernel)",
   "language": "python",
   "name": "python3"
  },
  "language_info": {
   "codemirror_mode": {
    "name": "ipython",
    "version": 3
   },
   "file_extension": ".py",
   "mimetype": "text/x-python",
   "name": "python",
   "nbconvert_exporter": "python",
   "pygments_lexer": "ipython3",
   "version": "3.8.8"
  }
 },
 "nbformat": 4,
 "nbformat_minor": 5
}
