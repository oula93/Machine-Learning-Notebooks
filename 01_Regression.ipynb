{
 "cells": [
  {
   "cell_type": "markdown",
   "metadata": {},
   "source": [
    "### Udemy Hadelin & Kerill\n",
    "\n",
    "<b>[1. Data Preprocessing ](#1)<br></b>\n",
    "    1.1 Importing the Data<br>\n",
    "    1.2 Missing Data<br>\n",
    "    1.3 Encoding Categorical Data<br>\n",
    "    1.4 Splitting the dataset into the Training set and Test set <br>\n",
    "    1.5 Feature Scaling <br>   \n",
    "    \n",
    "<b>[2. Simple Linear Regression ](#2)<br></b>\n",
    "    \n",
    "<b>[3. Multiple Linear Regression](#3)<br></b>\n",
    "    \n",
    "<b>[4. Polynomial Linear Regression](#4)<br></b>\n",
    "\n",
    "<b>[5. Support Vector Regression](#5)<br></b>\n",
    "\n",
    "<b>[6. Decision Tree Regression](#6)<br></b>\n",
    "\n",
    "<b>[7. Random Forest Regression](#7)<br></b>\n",
    "\n",
    "<b>[8. Regularization Based Models](#8)<br></b>\n",
    "    8.1 Ridge Regression<br>\n",
    "    8.2 Lasso Regression<br>\n",
    "    8.3 Elastic Net Regression<br>\n",
    "    \n",
    "<b>[9. Stochastic Gradient Descent](#9)</b>"
   ]
  },
  {
   "cell_type": "code",
   "execution_count": 1,
   "metadata": {},
   "outputs": [],
   "source": [
    "import numpy as np\n",
    "import pandas as pd\n",
    "import matplotlib.pyplot as plt\n",
    "from sklearn.impute import SimpleImputer\n",
    "from sklearn.compose import ColumnTransformer\n",
    "from sklearn.preprocessing import OneHotEncoder\n",
    "from sklearn.preprocessing import LabelEncoder\n",
    "from sklearn.model_selection import train_test_split\n",
    "from sklearn.preprocessing import StandardScaler\n",
    "from sklearn.linear_model import LinearRegression\n",
    "import statsmodels.formula.api as sm\n",
    "from sklearn.preprocessing import PolynomialFeatures\n",
    "from sklearn.svm import SVR\n",
    "from sklearn.tree import DecisionTreeRegressor\n",
    "from sklearn.ensemble import RandomForestRegressor"
   ]
  },
  {
   "cell_type": "markdown",
   "metadata": {},
   "source": [
    "## <a id=1> 1. Data Preprocessing </a>\n",
    "\n",
    "#### 1.1 Importing the Data"
   ]
  },
  {
   "cell_type": "code",
   "execution_count": 15,
   "metadata": {},
   "outputs": [],
   "source": [
    "# a) Importing the dataset:\n",
    "dataset = pd.read_csv(\"Data.csv\")\n",
    "\n",
    "X = dataset.iloc[:,:-1].values\n",
    "y = dataset.iloc[:,-1].values"
   ]
  },
  {
   "cell_type": "markdown",
   "metadata": {},
   "source": [
    "#### 1.2 Missing Data"
   ]
  },
  {
   "cell_type": "code",
   "execution_count": 16,
   "metadata": {},
   "outputs": [],
   "source": [
    "# a) Delete them (Before creating X and y)\n",
    "dataset.dropna(axis=0,inplace=True)\n",
    "\n",
    "# b) Replace the missing data with the mean of all data\n",
    "imputer = SimpleImputer(missing_values=np.nan,strategy='mean')\n",
    "\n",
    "# 2. Connect the \"imputer\" object to the \"matrix of features\" through the \"fit\" method\n",
    "# the argument of the fit method has to be an array of numerical values\n",
    "imputer.fit(X[:,1:3])\n",
    "# 3. Call the \"transform method\" to replace the nan values\n",
    "X[:,1:3] = imputer.transform(X[:,1:3])"
   ]
  },
  {
   "cell_type": "markdown",
   "metadata": {},
   "source": [
    "#### 1.3 Encoding Categorical Data"
   ]
  },
  {
   "cell_type": "code",
   "execution_count": 17,
   "metadata": {},
   "outputs": [],
   "source": [
    "# a) Encoding the natrix of features\n",
    "\n",
    "ct = ColumnTransformer(transformers=[('encoder',OneHotEncoder(),[0])],remainder='passthrough')\n",
    "# ct will not give us a numpy array which is necesasry for the future machine learning models we're going to build\n",
    "X = np.array(ct.fit_transform(X))\n",
    "#X = ct.fit_transform(X)\n",
    "\n",
    "# b) Encoding the target vector\n",
    "\n",
    "le = LabelEncoder()\n",
    "y = le.fit_transform(y)"
   ]
  },
  {
   "cell_type": "markdown",
   "metadata": {},
   "source": [
    "#### 1.4 Splitting the dataset into the Training set and Test set "
   ]
  },
  {
   "cell_type": "code",
   "execution_count": 18,
   "metadata": {},
   "outputs": [],
   "source": [
    "# Recommended split: training set = 80% of observations, test set = 20% of observations\n",
    "# we precise the random_split = 1 just to get the same split as the Udemy instructor with smexy French accent\n",
    "X_train, X_test, y_train, y_test = train_test_split(X, y, test_size=0.2, random_state=1)\n",
    "# The line above basically randomly takes 80% of the observations and puts them in the training set and 20% in th test set"
   ]
  },
  {
   "cell_type": "markdown",
   "metadata": {},
   "source": [
    "#### 1.5 Feature Scaling \n",
    "(Has to be applied after the Splitting!)\n",
    "\n",
    "Lets all features have the same scale\n",
    "Applied in some machine learning models to avoid some features being dominated by other features.\n",
    "\n",
    "There are 2 feature scaling techniques:\n",
    "\n",
    "a) Standardisation:  xstand = ( x - mean(x) ) / std(x)  \n",
    "-3 < xstand < 3\n",
    "<br /> works all the time (recommended)\n",
    "\n",
    "b) Normalisation:  xnorm = ( x - min(x) ) / ( max(x) - min(x) )\n",
    "<br /> 0 < xstand < 1\n",
    "<br /> recommended where the features have  a normal distribution\n"
   ]
  },
  {
   "cell_type": "code",
   "execution_count": 19,
   "metadata": {},
   "outputs": [
    {
     "name": "stderr",
     "output_type": "stream",
     "text": [
      "C:\\Users\\oc3683\\AppData\\Local\\Continuum\\anaconda3\\lib\\site-packages\\sklearn\\utils\\validation.py:595: DataConversionWarning: Data with input dtype object was converted to float64 by StandardScaler.\n",
      "  warnings.warn(msg, DataConversionWarning)\n",
      "C:\\Users\\oc3683\\AppData\\Local\\Continuum\\anaconda3\\lib\\site-packages\\sklearn\\utils\\validation.py:595: DataConversionWarning: Data with input dtype object was converted to float64 by StandardScaler.\n",
      "  warnings.warn(msg, DataConversionWarning)\n",
      "C:\\Users\\oc3683\\AppData\\Local\\Continuum\\anaconda3\\lib\\site-packages\\sklearn\\utils\\validation.py:595: DataConversionWarning: Data with input dtype object was converted to float64 by StandardScaler.\n",
      "  warnings.warn(msg, DataConversionWarning)\n"
     ]
    }
   ],
   "source": [
    "# we fit the feature scaling on X_train only because X_test is data that we're not supposed to have\n",
    "# but we transform both X_train and X_test\n",
    "sc = StandardScaler()\n",
    "X_train[:,3:] = sc.fit_transform(X_train[:,3:])\n",
    "X_test[:,3:] = sc.transform(X_test[:,3:])"
   ]
  },
  {
   "cell_type": "markdown",
   "metadata": {},
   "source": [
    "## <a id=2> 2. Simple Linear Regression"
   ]
  },
  {
   "cell_type": "code",
   "execution_count": 28,
   "metadata": {},
   "outputs": [],
   "source": [
    "dataset = pd.read_csv('Salary_Data.csv')\n",
    "X = dataset.iloc[:,:-1].values\n",
    "y = dataset.iloc[:,-1].values\n",
    "\n",
    "X_train, X_test, y_train, y_test = train_test_split(X,y,test_size=0.2,random_state=0)"
   ]
  },
  {
   "cell_type": "code",
   "execution_count": 30,
   "metadata": {},
   "outputs": [
    {
     "data": {
      "text/plain": [
       "LinearRegression(copy_X=True, fit_intercept=True, n_jobs=None,\n",
       "         normalize=False)"
      ]
     },
     "execution_count": 30,
     "metadata": {},
     "output_type": "execute_result"
    }
   ],
   "source": [
    "# 1) The linear regression model we will build will be an instance/object of the LinearRegression class\n",
    "# regression is when we have to predict a continuous real value like salary, classification is when we have to predict a category/class\n",
    "regressor = LinearRegression()\n",
    "# 2) Training the created model (fitting)\n",
    "regressor.fit(X_train,y_train)"
   ]
  },
  {
   "cell_type": "code",
   "execution_count": 32,
   "metadata": {},
   "outputs": [],
   "source": [
    "y_pred = regressor.predict(X_test)"
   ]
  },
  {
   "cell_type": "code",
   "execution_count": 41,
   "metadata": {},
   "outputs": [
    {
     "data": {
      "text/plain": [
       "Text(0, 0.5, 'Salary')"
      ]
     },
     "execution_count": 41,
     "metadata": {},
     "output_type": "execute_result"
    },
    {
     "data": {
      "image/png": "[encoded data removed]",
      "text/plain": [
       "<Figure size 432x288 with 1 Axes>"
      ]
     },
     "metadata": {
      "needs_background": "light"
     },
     "output_type": "display_data"
    }
   ],
   "source": [
    "# a) Training set results\n",
    "plt.scatter(X_train,y_train)\n",
    "plt.plot(X_train,regressor.predict(X_train),color='red')\n",
    "plt.title('Training set')\n",
    "plt.xlabel('Years of Experience')\n",
    "plt.ylabel('Salary')"
   ]
  },
  {
   "cell_type": "code",
   "execution_count": 42,
   "metadata": {},
   "outputs": [
    {
     "data": {
      "text/plain": [
       "Text(0, 0.5, 'Salary')"
      ]
     },
     "execution_count": 42,
     "metadata": {},
     "output_type": "execute_result"
    },
    {
     "data": {
      "image/png": "[encoded data removed]",
      "text/plain": [
       "<Figure size 432x288 with 1 Axes>"
      ]
     },
     "metadata": {
      "needs_background": "light"
     },
     "output_type": "display_data"
    }
   ],
   "source": [
    "# b) Test set results\n",
    "plt.scatter(X_test,y_test)\n",
    "plt.plot(X_train,regressor.predict(X_train),color='red')\n",
    "# or: plt.plot(X_test,y_predict)  (same regression line cuz based on same model)\n",
    "plt.title('Test set')\n",
    "plt.xlabel('Years of Experience')\n",
    "plt.ylabel('Salary')"
   ]
  },
  {
   "cell_type": "code",
   "execution_count": 44,
   "metadata": {},
   "outputs": [
    {
     "name": "stdout",
     "output_type": "stream",
     "text": [
      "[138531.00067138]\n",
      "[9312.57512673]\n",
      "26780.099150628186\n"
     ]
    }
   ],
   "source": [
    "# Bonus:\n",
    "# a) Predicting the salary of 1 employee with 12 yrs of experience\n",
    "print(regressor.predict([[12]]))\n",
    "\n",
    "# b) Getting the final linear regression equation:\n",
    "# We call 2 attributes of our regressor object:\n",
    "print(regressor.coef_)\n",
    "print(regressor.intercept_)"
   ]
  },
  {
   "cell_type": "markdown",
   "metadata": {},
   "source": [
    "## <a id=3>3. Multiple Linear Regression"
   ]
  },
  {
   "cell_type": "markdown",
   "metadata": {},
   "source": [
    "<b> A. Without Backward Elimination (sklearn does it for you)"
   ]
  },
  {
   "cell_type": "code",
   "execution_count": 25,
   "metadata": {
    "collapsed": true
   },
   "outputs": [
    {
     "name": "stdout",
     "output_type": "stream",
     "text": [
      "[[111337.43 105733.54]\n",
      " [186731.85 191792.06]\n",
      " [ 98078.19  97427.84]\n",
      " [ 88299.49  89949.14]\n",
      " [100834.84 107404.34]\n",
      " [ 82320.08  81005.76]\n",
      " [ 73183.8   78239.91]\n",
      " [125700.45 134307.35]\n",
      " [ 97939.97  97483.56]\n",
      " [ 75475.28  77798.83]]\n"
     ]
    }
   ],
   "source": [
    "# 1) Importing the Dataset\n",
    "dataset = pd.read_csv('50_Startups.csv')\n",
    "X = dataset.iloc[:,:-1].values\n",
    "y = dataset.iloc[:,-1].values\n",
    "\n",
    "# 2) Encoding Catefgorical Data\n",
    "ct = ColumnTransformer(transformers=[('encoder',OneHotEncoder(),[3])],remainder='passthrough')\n",
    "X = np.array(ct.fit_transform(X))\n",
    "\n",
    "# 3) Splitting the DataSet\n",
    "X_train, X_test, y_train, y_test = train_test_split(X,y,test_size = 0.2)\n",
    "\n",
    "# 4) Feature Scaling ? In multiple linear regression there is absolutely no need to apply feature scaling\n",
    "# because the linear regression equation's coefficients will compensate for how big/small the variable is\n",
    "\n",
    "# 5) Training the Multiple Linear Regression Model on the training set\n",
    "# QUESTION 1: Do we have to remove one of the dummy variables to avoid the dummy variable trap\n",
    "# ANSWER: No, because the class we are going to use deals with it by itself\n",
    "\n",
    "# QUESTION 2: Do we have to work on features to select the ones with the highest p values through methods such as backwards elimination\n",
    "# ANSWER: No, because the class we are going to use deals with it by itself\n",
    "\n",
    "# The class we will use is exactly the same as the simple linear regression\n",
    "# it will recognize that we have several features and automatocally do the multiple linear regression.\n",
    "\n",
    "regressor = LinearRegression()\n",
    "regressor.fit(X_train,y_train)\n",
    "\n",
    "# 6) Predicting the Test set results\n",
    "y_pred = regressor.predict(X_test)\n",
    "\n",
    "# 7) Visualizing the real and predicted test set\n",
    "np.set_printoptions(precision=2)\n",
    "print(np.concatenate((y_pred.reshape(len(y_pred),1),y_test.reshape(len(y_pred),1)),axis=1))"
   ]
  },
  {
   "cell_type": "markdown",
   "metadata": {},
   "source": [
    "<b> B. With Backward Elimination "
   ]
  },
  {
   "cell_type": "code",
   "execution_count": 37,
   "metadata": {},
   "outputs": [],
   "source": [
    "import statsmodels.formula.api as sm"
   ]
  },
  {
   "cell_type": "code",
   "execution_count": 50,
   "metadata": {
    "scrolled": true
   },
   "outputs": [
    {
     "data": {
      "text/html": [
       "<table class=\"simpletable\">\n",
       "<caption>OLS Regression Results</caption>\n",
       "<tr>\n",
       "  <th>Dep. Variable:</th>            <td>y</td>        <th>  R-squared:         </th> <td>   0.947</td>\n",
       "</tr>\n",
       "<tr>\n",
       "  <th>Model:</th>                   <td>OLS</td>       <th>  Adj. R-squared:    </th> <td>   0.945</td>\n",
       "</tr>\n",
       "<tr>\n",
       "  <th>Method:</th>             <td>Least Squares</td>  <th>  F-statistic:       </th> <td>   849.8</td>\n",
       "</tr>\n",
       "<tr>\n",
       "  <th>Date:</th>             <td>Fri, 15 May 2020</td> <th>  Prob (F-statistic):</th> <td>3.50e-32</td>\n",
       "</tr>\n",
       "<tr>\n",
       "  <th>Time:</th>                 <td>02:25:38</td>     <th>  Log-Likelihood:    </th> <td> -527.44</td>\n",
       "</tr>\n",
       "<tr>\n",
       "  <th>No. Observations:</th>      <td>    50</td>      <th>  AIC:               </th> <td>   1059.</td>\n",
       "</tr>\n",
       "<tr>\n",
       "  <th>Df Residuals:</th>          <td>    48</td>      <th>  BIC:               </th> <td>   1063.</td>\n",
       "</tr>\n",
       "<tr>\n",
       "  <th>Df Model:</th>              <td>     1</td>      <th>                     </th>     <td> </td>   \n",
       "</tr>\n",
       "<tr>\n",
       "  <th>Covariance Type:</th>      <td>nonrobust</td>    <th>                     </th>     <td> </td>   \n",
       "</tr>\n",
       "</table>\n",
       "<table class=\"simpletable\">\n",
       "<tr>\n",
       "    <td></td>       <th>coef</th>     <th>std err</th>      <th>t</th>      <th>P>|t|</th>  <th>[0.025</th>    <th>0.975]</th>  \n",
       "</tr>\n",
       "<tr>\n",
       "  <th>const</th> <td> 4.903e+04</td> <td> 2537.897</td> <td>   19.320</td> <td> 0.000</td> <td> 4.39e+04</td> <td> 5.41e+04</td>\n",
       "</tr>\n",
       "<tr>\n",
       "  <th>x1</th>    <td>    0.8543</td> <td>    0.029</td> <td>   29.151</td> <td> 0.000</td> <td>    0.795</td> <td>    0.913</td>\n",
       "</tr>\n",
       "</table>\n",
       "<table class=\"simpletable\">\n",
       "<tr>\n",
       "  <th>Omnibus:</th>       <td>13.727</td> <th>  Durbin-Watson:     </th> <td>   1.116</td>\n",
       "</tr>\n",
       "<tr>\n",
       "  <th>Prob(Omnibus):</th> <td> 0.001</td> <th>  Jarque-Bera (JB):  </th> <td>  18.536</td>\n",
       "</tr>\n",
       "<tr>\n",
       "  <th>Skew:</th>          <td>-0.911</td> <th>  Prob(JB):          </th> <td>9.44e-05</td>\n",
       "</tr>\n",
       "<tr>\n",
       "  <th>Kurtosis:</th>      <td> 5.361</td> <th>  Cond. No.          </th> <td>1.65e+05</td>\n",
       "</tr>\n",
       "</table><br/><br/>Warnings:<br/>[1] Standard Errors assume that the covariance matrix of the errors is correctly specified.<br/>[2] The condition number is large, 1.65e+05. This might indicate that there are<br/>strong multicollinearity or other numerical problems."
      ],
      "text/plain": [
       "<class 'statsmodels.iolib.summary.Summary'>\n",
       "\"\"\"\n",
       "                            OLS Regression Results                            \n",
       "==============================================================================\n",
       "Dep. Variable:                      y   R-squared:                       0.947\n",
       "Model:                            OLS   Adj. R-squared:                  0.945\n",
       "Method:                 Least Squares   F-statistic:                     849.8\n",
       "Date:                Fri, 15 May 2020   Prob (F-statistic):           3.50e-32\n",
       "Time:                        02:25:38   Log-Likelihood:                -527.44\n",
       "No. Observations:                  50   AIC:                             1059.\n",
       "Df Residuals:                      48   BIC:                             1063.\n",
       "Df Model:                           1                                         \n",
       "Covariance Type:            nonrobust                                         \n",
       "==============================================================================\n",
       "                 coef    std err          t      P>|t|      [0.025      0.975]\n",
       "------------------------------------------------------------------------------\n",
       "const       4.903e+04   2537.897     19.320      0.000    4.39e+04    5.41e+04\n",
       "x1             0.8543      0.029     29.151      0.000       0.795       0.913\n",
       "==============================================================================\n",
       "Omnibus:                       13.727   Durbin-Watson:                   1.116\n",
       "Prob(Omnibus):                  0.001   Jarque-Bera (JB):               18.536\n",
       "Skew:                          -0.911   Prob(JB):                     9.44e-05\n",
       "Kurtosis:                       5.361   Cond. No.                     1.65e+05\n",
       "==============================================================================\n",
       "\n",
       "Warnings:\n",
       "[1] Standard Errors assume that the covariance matrix of the errors is correctly specified.\n",
       "[2] The condition number is large, 1.65e+05. This might indicate that there are\n",
       "strong multicollinearity or other numerical problems.\n",
       "\"\"\""
      ]
     },
     "execution_count": 50,
     "metadata": {},
     "output_type": "execute_result"
    }
   ],
   "source": [
    "# 1) Importing the Dataset\n",
    "dataset = pd.read_csv('50_Startups.csv')\n",
    "X = dataset.iloc[:,:-1].values\n",
    "y = dataset.iloc[:,-1].values\n",
    "\n",
    "# 2) Encoding Catefgorical Data\n",
    "ct = ColumnTransformer(transformers=[('encoder',OneHotEncoder(),[3])],remainder='passthrough')\n",
    "X = np.array(ct.fit_transform(X))\n",
    "# 1) Importing the Dataset: done above\n",
    "# 2) Encoding Catefgorical Data: done above\n",
    "\n",
    "# 3) Avoiding the dummy variable trap:\n",
    "X = X[:,1:]\n",
    "\n",
    "# 4) Building the optimal model using backward elimination:\n",
    "\n",
    "# The statsmodel doesn't take into account the b0 constant so we need to add the vector X=(1,1,...,1) to our matrix of features\n",
    "# sm.OLS() exog= X parameter says that: an intercept (b0) is not included by default and should be added by the user.\n",
    "X = np.append(arr=np.ones((50,1)).astype(int),values=X,axis=1)\n",
    "\n",
    "# Initialize the optimal matrix of features which will only contain the statistically significant features\n",
    "X_opt = X[:,[0,1,2,3,4,5]].astype(float)\n",
    "\n",
    "# step1: Select a significance level to stay in the model alpha or SL = 0.05\n",
    "\n",
    "# step2: Fit the model with all possible predictors (features)\n",
    "# Create a new regressor which is an object from the OLS (ordinarily squared) class\n",
    "regressor_OLS = sm.OLS(endog=y,exog=X_opt).fit()\n",
    "\n",
    "# step3: Consider the predictor with the highest P-value, if P > SL, go to step4 otherwise Finish\n",
    "regressor_OLS.summary()\n",
    "# x2 had the biggest P value and it's > SL\n",
    "\n",
    "# step4: Remove the predictor\n",
    "X_opt = X[:,[0,1,3,4,5]].astype(float)\n",
    "\n",
    "# step5: Fit the model without this feature\n",
    "regressor_OLS = sm.OLS(endog=y,exog=X_opt).fit()\n",
    "regressor_OLS.summary()\n",
    "# x1 had the biggest P value and it's > SL\n",
    "X_opt = X[:,[0,3,4,5]].astype(float)\n",
    "regressor_OLS = sm.OLS(endog=y,exog=X_opt).fit()\n",
    "regressor_OLS.summary()\n",
    "# x2 had the biggest P value and it's > SL\n",
    "X_opt = X[:,[0,3,5]].astype(float)\n",
    "regressor_OLS = sm.OLS(endog=y,exog=X_opt).fit()\n",
    "regressor_OLS.summary()\n",
    "# x2 had the biggest P value and it's > SL\n",
    "X_opt = X[:,[0,3]].astype(float)\n",
    "regressor_OLS = sm.OLS(endog=y,exog=X_opt).fit()\n",
    "regressor_OLS.summary()"
   ]
  },
  {
   "cell_type": "markdown",
   "metadata": {},
   "source": [
    "## <a id=4> 4. Polynomial Linear Regression </a>\n",
    "\n",
    "- Ex of use: the spread of pandemics.\n",
    "- It's still called linear regression (even though x1 variable is polinomial) cuz the unknowns in linear regression are the cofficients b1, b2,... and those are still linear.\n",
    "- It's a special case of multiple linear regression."
   ]
  },
  {
   "cell_type": "code",
   "execution_count": 40,
   "metadata": {},
   "outputs": [
    {
     "data": {
      "text/plain": [
       "Text(0.5, 1.0, 'Polynomial Regression')"
      ]
     },
     "execution_count": 40,
     "metadata": {},
     "output_type": "execute_result"
    },
    {
     "data": {
      "image/png": "[encoded data removed]",
      "text/plain": [
       "<Figure size 432x288 with 1 Axes>"
      ]
     },
     "metadata": {
      "needs_background": "light"
     },
     "output_type": "display_data"
    }
   ],
   "source": [
    "# 1) Data preprocessing:\n",
    "dataset = pd.read_csv(\"Position_Salaries.csv\")\n",
    "X = dataset.iloc[:,1:-1].values\n",
    "# X = dataset.iloc[:,1].values gives a vector so we get an error when fitting the model\n",
    "y = dataset.iloc[:,-1].values\n",
    "\n",
    "# No Splitting (very few data so no splitting)\n",
    "\n",
    "# 2) Training the linear regression model on the whole dataset\n",
    "lin_reg1 = LinearRegression()\n",
    "lin_reg1.fit(X,y)\n",
    "\n",
    "# 3) Training the polinomial linear regression model on the whole dataset\n",
    "   # a) create the matrix of powered features\n",
    "poly_features = PolynomialFeatures(degree=4)\n",
    "X_poly =  poly_features.fit_transform(X)\n",
    "\n",
    "   # b) linear regression model with the poly matrix\n",
    "lin_reg2 = LinearRegression()\n",
    "lin_reg2.fit(X_poly,y)\n",
    "\n",
    "# 4) visualizing the models\n",
    "plt.scatter(X,y,color='blue')\n",
    "plt.plot(X,lin_reg1.predict(X),color='red')\n",
    "plt.plot(X,lin_reg2.predict(X_poly),color='green')\n",
    "plt.xlabel('Position Level')\n",
    "plt.ylabel('Salary')\n",
    "plt.title('Polynomial Regression')"
   ]
  },
  {
   "cell_type": "code",
   "execution_count": 41,
   "metadata": {},
   "outputs": [
    {
     "data": {
      "text/plain": [
       "Text(0.5, 1.0, 'Polynomial Regression (High Resolution)')"
      ]
     },
     "execution_count": 41,
     "metadata": {},
     "output_type": "execute_result"
    },
    {
     "data": {
      "image/png": "[encoded data removed]",
      "text/plain": [
       "<Figure size 432x288 with 1 Axes>"
      ]
     },
     "metadata": {
      "needs_background": "light"
     },
     "output_type": "display_data"
    }
   ],
   "source": [
    "# We need more X points to get a smoother lin_reg2 curve so we make a grid\n",
    "plt.scatter(X,y,color='blue')\n",
    "plt.plot(X,lin_reg1.predict(X),color='red')\n",
    "\n",
    "X_grid = np.arange(min(X), max(X), 0.1)\n",
    "X_grid = X_grid.reshape((len(X_grid), 1))\n",
    "plt.plot(X_grid,lin_reg2.predict(poly_features.fit_transform(X_grid)),color = 'green')\n",
    "\n",
    "plt.xlabel('Position Level')\n",
    "plt.ylabel('Salary')\n",
    "plt.title('Polynomial Regression (High Resolution)')"
   ]
  },
  {
   "cell_type": "code",
   "execution_count": 9,
   "metadata": {},
   "outputs": [
    {
     "name": "stdout",
     "output_type": "stream",
     "text": [
      "[330378.78787879]\n",
      "[158862.45265153]\n"
     ]
    }
   ],
   "source": [
    "# Predicting the salary of position 6.6\n",
    "# a) with linear regression:\n",
    "print(lin_reg1.predict([[6.5]]))\n",
    "\n",
    "# b) with polinomial linear regression\n",
    "print(lin_reg2.predict(poly_features.fit_transform([[6.5]])))"
   ]
  },
  {
   "cell_type": "markdown",
   "metadata": {},
   "source": [
    "## <a id=5> 5. Support Vector Regression"
   ]
  },
  {
   "cell_type": "code",
   "execution_count": 42,
   "metadata": {},
   "outputs": [
    {
     "name": "stdout",
     "output_type": "stream",
     "text": [
      "[170370.0204065]\n"
     ]
    },
    {
     "name": "stderr",
     "output_type": "stream",
     "text": [
      "C:\\Users\\oc3683\\AppData\\Local\\Continuum\\anaconda3\\lib\\site-packages\\sklearn\\utils\\validation.py:595: DataConversionWarning: Data with input dtype int64 was converted to float64 by StandardScaler.\n",
      "  warnings.warn(msg, DataConversionWarning)\n",
      "C:\\Users\\oc3683\\AppData\\Local\\Continuum\\anaconda3\\lib\\site-packages\\sklearn\\utils\\validation.py:595: DataConversionWarning: Data with input dtype int64 was converted to float64 by StandardScaler.\n",
      "  warnings.warn(msg, DataConversionWarning)\n",
      "C:\\Users\\oc3683\\AppData\\Local\\Continuum\\anaconda3\\lib\\site-packages\\sklearn\\utils\\validation.py:595: DataConversionWarning: Data with input dtype int64 was converted to float64 by StandardScaler.\n",
      "  warnings.warn(msg, DataConversionWarning)\n",
      "C:\\Users\\oc3683\\AppData\\Local\\Continuum\\anaconda3\\lib\\site-packages\\sklearn\\utils\\validation.py:595: DataConversionWarning: Data with input dtype int64 was converted to float64 by StandardScaler.\n",
      "  warnings.warn(msg, DataConversionWarning)\n",
      "C:\\Users\\oc3683\\AppData\\Local\\Continuum\\anaconda3\\lib\\site-packages\\sklearn\\utils\\validation.py:761: DataConversionWarning: A column-vector y was passed when a 1d array was expected. Please change the shape of y to (n_samples, ), for example using ravel().\n",
      "  y = column_or_1d(y, warn=True)\n"
     ]
    },
    {
     "data": {
      "image/png": "[encoded data removed]",
      "text/plain": [
       "<Figure size 432x288 with 1 Axes>"
      ]
     },
     "metadata": {
      "needs_background": "light"
     },
     "output_type": "display_data"
    }
   ],
   "source": [
    "# 1) Import the dataset:\n",
    "dataset = pd.read_csv(\"Position_Salaries.csv\")\n",
    "X = dataset.iloc[:,1:-1].values\n",
    "y = dataset.iloc[:,-1].values\n",
    "\n",
    "# 2) Feature scaling ( A MUST !!)\n",
    "# Unlike in the linear regression model, we have to apply feature scaling here because\n",
    "# we don't have the coefficients that will adjust our features.\n",
    "\n",
    "# y has to be a 2D array cuz that's what the StandardScaler class expects\n",
    "y = y.reshape(len(y),1)\n",
    "\n",
    "sc1 = StandardScaler()\n",
    "sc2 = StandardScaler()\n",
    "X = sc1.fit_transform(X)\n",
    "y = sc2.fit_transform(y)\n",
    "\n",
    "# 3) Training the SVR model on the whole dataset\n",
    "# most used kernel is 'rbf' kernel, it's the default.\n",
    "# the SVR works both for linears and nonlinears model cuz the kernel can be both\n",
    "regressor = SVR()\n",
    "regressor.fit(X,y)\n",
    "\n",
    "# 4) Visualising the results\n",
    "plt.scatter(sc1.inverse_transform(X),sc2.inverse_transform(y),color='blue')\n",
    "plt.plot(sc1.inverse_transform(X),sc2.inverse_transform(regressor.predict(X)),color='red')\n",
    "plt.xlabel('Position level')\n",
    "plt.ylabel('Salary')\n",
    "plt.title('Support Vector Regression')\n",
    "\n",
    "# we notice that if there is a point far from the other points (outliers), the SVR method doesn't properly predict it\n",
    "\n",
    "# 5) Predicting a new result\n",
    "# the input of the predict method should be a sc1 scaled array like X\n",
    "# the results will be according to the new scale of y, we have to return them to their original scale\n",
    "print(sc2.inverse_transform(regressor.predict(sc1.transform([[6.5]]))))"
   ]
  },
  {
   "cell_type": "code",
   "execution_count": 28,
   "metadata": {
    "collapsed": true
   },
   "outputs": [
    {
     "data": {
      "text/plain": [
       "['__class__',\n",
       " '__delattr__',\n",
       " '__dict__',\n",
       " '__dir__',\n",
       " '__doc__',\n",
       " '__eq__',\n",
       " '__format__',\n",
       " '__ge__',\n",
       " '__getattribute__',\n",
       " '__getstate__',\n",
       " '__gt__',\n",
       " '__hash__',\n",
       " '__init__',\n",
       " '__init_subclass__',\n",
       " '__le__',\n",
       " '__lt__',\n",
       " '__module__',\n",
       " '__ne__',\n",
       " '__new__',\n",
       " '__reduce__',\n",
       " '__reduce_ex__',\n",
       " '__repr__',\n",
       " '__setattr__',\n",
       " '__setstate__',\n",
       " '__sizeof__',\n",
       " '__str__',\n",
       " '__subclasshook__',\n",
       " '__weakref__',\n",
       " '_get_param_names',\n",
       " '_reset',\n",
       " 'copy',\n",
       " 'fit',\n",
       " 'fit_transform',\n",
       " 'get_params',\n",
       " 'inverse_transform',\n",
       " 'mean_',\n",
       " 'n_samples_seen_',\n",
       " 'partial_fit',\n",
       " 'scale_',\n",
       " 'set_params',\n",
       " 'transform',\n",
       " 'var_',\n",
       " 'with_mean',\n",
       " 'with_std']"
      ]
     },
     "execution_count": 28,
     "metadata": {},
     "output_type": "execute_result"
    }
   ],
   "source": [
    "dir(sc1)"
   ]
  },
  {
   "cell_type": "markdown",
   "metadata": {},
   "source": [
    "## <a id=6> 6. Decision Tree Regression"
   ]
  },
  {
   "cell_type": "code",
   "execution_count": 43,
   "metadata": {},
   "outputs": [
    {
     "name": "stdout",
     "output_type": "stream",
     "text": [
      "[150000.]\n"
     ]
    },
    {
     "data": {
      "text/plain": [
       "Text(0.5, 1.0, 'Decision Tree Regression')"
      ]
     },
     "execution_count": 43,
     "metadata": {},
     "output_type": "execute_result"
    },
    {
     "data": {
      "image/png": "[encoded data removed]",
      "text/plain": [
       "<Figure size 432x288 with 1 Axes>"
      ]
     },
     "metadata": {
      "needs_background": "light"
     },
     "output_type": "display_data"
    }
   ],
   "source": [
    "# The decision Tree model is not adapted to small datasets with just one features\n",
    "# but this code will work for other datasets\n",
    "\n",
    "# 1) Import the dataset:\n",
    "dataset = pd.read_csv(\"Position_Salaries.csv\")\n",
    "X = dataset.iloc[:,1:-1].values\n",
    "y = dataset.iloc[:,-1].values\n",
    "\n",
    "# NO Feature scaling cuz the results of decision tree regression result from splitting the data and not from equations like previously\n",
    "# Encoding categorical data has to be done when necessary\n",
    "\n",
    "# 2) Training the Decision Tree model\n",
    "# we don't need to tune the parameters, only need to fix the seed to get the same results as smexy\n",
    "regressor = DecisionTreeRegressor(random_state=0)\n",
    "regressor.fit(X,y)\n",
    "\n",
    "# 3) Predicting a new result\n",
    "print(regressor.predict([[6.5]]))\n",
    "\n",
    "# 4) Visualising the results\n",
    "plt.scatter(X,y,color='blue')\n",
    "plt.plot(X,regressor.predict(X),color='red')\n",
    "plt.xlabel('Position level')\n",
    "plt.ylabel('Salary')\n",
    "plt.title('Decision Tree Regression')"
   ]
  },
  {
   "cell_type": "code",
   "execution_count": 51,
   "metadata": {},
   "outputs": [
    {
     "data": {
      "text/plain": [
       "Text(0.5, 1.0, 'Decision Tree Regression (High Resolution)')"
      ]
     },
     "execution_count": 51,
     "metadata": {},
     "output_type": "execute_result"
    },
    {
     "data": {
      "image/png": "[encoded data removed]",
      "text/plain": [
       "<Figure size 432x288 with 1 Axes>"
      ]
     },
     "metadata": {
      "needs_background": "light"
     },
     "output_type": "display_data"
    }
   ],
   "source": [
    "# Decision Tree regression results have to be visualised in high resolution\n",
    "X_grid = np.arange(min(X),max(X),0.01)\n",
    "X_grid = X_grid.reshape(len(X_grid),1)\n",
    "plt.scatter(X,y,color='blue')\n",
    "plt.plot(X_grid,regressor.predict(X_grid),color='red')\n",
    "plt.xlabel('Position level')\n",
    "plt.ylabel('Salary')\n",
    "plt.title('Decision Tree Regression (High Resolution)')"
   ]
  },
  {
   "cell_type": "markdown",
   "metadata": {},
   "source": [
    "## <a id=7> 7. Random Forest Regression"
   ]
  },
  {
   "cell_type": "code",
   "execution_count": 2,
   "metadata": {},
   "outputs": [
    {
     "name": "stdout",
     "output_type": "stream",
     "text": [
      "[167000.]\n"
     ]
    },
    {
     "data": {
      "text/plain": [
       "Text(0.5, 1.0, 'Random Forest Regression (High Resolution)')"
      ]
     },
     "execution_count": 2,
     "metadata": {},
     "output_type": "execute_result"
    },
    {
     "data": {
      "image/png": "[encoded data removed]",
      "text/plain": [
       "<Figure size 432x288 with 1 Axes>"
      ]
     },
     "metadata": {
      "needs_background": "light"
     },
     "output_type": "display_data"
    }
   ],
   "source": [
    "# 1) Import the dataset:\n",
    "dataset = pd.read_csv(\"Position_Salaries.csv\")\n",
    "X = dataset.iloc[:,1:-1].values\n",
    "y = dataset.iloc[:,-1].values\n",
    "\n",
    "# NO Feature scaling cuz the results of random forest regression result from splitting the data and not from equations like previously\n",
    "# Encoding categorical data has to be done when necessary\n",
    "\n",
    "# 2) Training the Decision Tree model\n",
    "# here we need to decide the \"number of trees\" parameter, it's recommended to start with 10 trees\n",
    "regressor = RandomForestRegressor(n_estimators=10,random_state=0)\n",
    "regressor.fit(X,y)\n",
    "\n",
    "# 3) Predicting a new result\n",
    "print(regressor.predict([[6.5]]))\n",
    "\n",
    "# 4) Visualising the results in high resolution\n",
    "X_grid = np.arange(min(X),max(X),0.01)\n",
    "X_grid = X_grid.reshape(len(X_grid),1)\n",
    "plt.scatter(X,y,color='blue')\n",
    "plt.plot(X_grid,regressor.predict(X_grid),color='red')\n",
    "plt.xlabel('Position level')\n",
    "plt.ylabel('Salary')\n",
    "plt.title('Random Forest Regression (High Resolution)')"
   ]
  },
  {
   "cell_type": "markdown",
   "metadata": {},
   "source": [
    "## <a id=8> 8. Regularization Models\n",
    "\n",
    "<a href=\"https://www.youtube.com/watch?v=NGf0voTMlcs&ab_channel=StatQuestwithJoshStarmer\">https://www.youtube.com/watch?v=NGf0voTMlcs&ab_channel=StatQuestwithJoshStarmer</a>\n",
    "    \n",
    "Ridge regression and lasso regression are two different techniques for increasing the robustness against colinearity of ordinary least squares regression. Both of these algorithms attempt to minimize a cost function. The cost is a function of two terms: one, the residual sum of squares (RSS), taken from ordinary least squares; the other, an additional regularizer penalty. The second term is an L2 norm in ridge regression, and an L1 norm in lasso regression.\n",
    "    \n",
    "- L1: absolute value\n",
    "- L2: Squared value (euclidean distance squared)\n",
    "    \n",
    "<a href=\"https://www.kaggle.com/code/residentmario/l1-norms-versus-l2-norms/notebook\">https://www.kaggle.com/code/residentmario/l1-norms-versus-l2-norms/notebook</a>"
   ]
  },
  {
   "cell_type": "code",
   "execution_count": 2,
   "metadata": {},
   "outputs": [],
   "source": [
    "from sklearn.linear_model import Ridge, ElasticNet, Lasso"
   ]
  },
  {
   "cell_type": "markdown",
   "metadata": {},
   "source": [
    "### 8.1 Ridge Regression (L2 norm regularization)\n",
    "Why is it part of regularization?\n",
    "- If we have few data points, LinearRegression can result in overfitting (Just imagine you have 2 points, the linear regression best fit line will be the line passing from the 2 points) ==> Small Bias but High Variance\n",
    "- Ridge Regression, introduces a small amount of Bias into how the line is fit to the data ==> High Bias but Small Variance\n",
    "- LinearRegression minimizes the <b>sum of squared residuals</b> In contrast RidgeRegression minimizes <b>sum of squared residuals +  λ x slope**2</b>\n",
    "- λ can be from 0 to infinity, if  λ=0 we get the same line as LinearRegression\n",
    "- The bigger λ is, the smaller is the slope of our fit line ==> λ shrinks the slope\n",
    "\n",
    "\n",
    "### 8.2 Lasso Regression (L1 norm regularization)\n",
    "- Lassoregression minimizes <b> sum of squared residuals +  λ x |slope|\n",
    "    \n",
    "#### Lasso and Ridge difference:\n",
    "- Ridge Regression can shrink the slope (aka feature weights) asymptotically close to 0, while Lasso regression can shrink the slope all the way to 0\n",
    "- Because of the above, Lasso regression can exclude useless variables from equations. Hence, when using a big λ it's a little better than ridge regression at reducing the Variance (overfitting) in models that contain a lot of useless variables\n",
    "- In contrast, Ridge Regresison tends to do a little better when most models are useful.\n",
    "    \n",
    "<b>To summarize:</b>\n",
    "- Big training set ==> Linear Regression\n",
    "- Small training set:  \n",
    "    > - All features are important ==> Ridge Regression\n",
    "    > - Few features should be important ==> Lasso Regression\n",
    "    \n",
    "    \n",
    "### 8.3 Elastic Net Regression (L1 + L2 norm regularization)\n",
    "- When we have tons of feature, which we don't know in advance if they'll be useful or not\n",
    "- Minimizes <b>sum of squared residuals +  λ1 x slope**2 + λ2 x |slope|</b>\n",
    "- To find the best values, we use Cross Validation on different values of  λ1 and λ2\n",
    "- Especially good at dealing with situations where there is a <b>high correlation</b> between parameters: Lasso tends to pick one of the correlated terms and eliminate the others, Ridge Regression tends to shrink the weights for the correlated terms all together"
   ]
  },
  {
   "cell_type": "markdown",
   "metadata": {},
   "source": [
    "### <a id=9> 9. Stochastic Gradient Descent </a>\n",
    "- Faster than Gradient Descent. Uses mini-batches of data (randomly, hence stochastic) instead of the entire data to update the weights reducing the number of calculations\n",
    "- Used when the number of samples & features is very large"
   ]
  },
  {
   "cell_type": "code",
   "execution_count": 2,
   "metadata": {},
   "outputs": [],
   "source": [
    "from sklearn.linear_model import SGDRegressor"
   ]
  },
  {
   "cell_type": "code",
   "execution_count": null,
   "metadata": {},
   "outputs": [],
   "source": []
  }
 ],
 "metadata": {
  "kernelspec": {
   "display_name": "Python 3 (ipykernel)",
   "language": "python",
   "name": "python3"
  },
  "language_info": {
   "codemirror_mode": {
    "name": "ipython",
    "version": 3
   },
   "file_extension": ".py",
   "mimetype": "text/x-python",
   "name": "python",
   "nbconvert_exporter": "python",
   "pygments_lexer": "ipython3",
   "version": "3.8.8"
  }
 },
 "nbformat": 4,
 "nbformat_minor": 2
}
